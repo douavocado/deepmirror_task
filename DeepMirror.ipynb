{
  "cells": [
    {
      "cell_type": "markdown",
      "source": [
        "# Deep Mirror ML Engineer Task"
      ],
      "metadata": {
        "id": "g-ceS4h-xUWZ"
      }
    },
    {
      "cell_type": "markdown",
      "source": [
        "We train three types of models on a benchmark ADME dataset taken from TDC and compare performances with a common metric. Results given are summarised in the a separate pdf document for presentation to the sales team."
      ],
      "metadata": {
        "id": "F17M3IqNxZ1Q"
      }
    },
    {
      "cell_type": "markdown",
      "source": [
        "Datasets and data processors can be directly borrowed from the TDC python support. To deal with graph data we will be using pytorch-geometric. After installing dependencies, please remember to restart the runtime if running on google colab."
      ],
      "metadata": {
        "id": "NGfX0QAhxzKo"
      }
    },
    {
      "cell_type": "code",
      "source": [
        "!pip install PyTDC==0.3.7\n",
        "!pip install pyg-lib torch-scatter torch-sparse torch-cluster torch-spline-conv torch-geometric -f https://data.pyg.org/whl/torch-1.13.0+cpu.html\n",
        "!pip install torchmetrics"
      ],
      "metadata": {
        "id": "vIR8XL00z5Lh",
        "outputId": "eb77d387-b50f-46df-d927-66c142172929",
        "colab": {
          "base_uri": "https://localhost:8080/",
          "height": 1000
        }
      },
      "execution_count": 1,
      "outputs": [
        {
          "output_type": "stream",
          "name": "stdout",
          "text": [
            "Looking in indexes: https://pypi.org/simple, https://us-python.pkg.dev/colab-wheels/public/simple/\n",
            "Collecting PyTDC==0.3.7\n",
            "  Downloading PyTDC-0.3.7.tar.gz (105 kB)\n",
            "\u001b[K     |████████████████████████████████| 105 kB 9.2 MB/s \n",
            "\u001b[?25hCollecting rdkit-pypi\n",
            "  Downloading rdkit_pypi-2022.9.2-cp38-cp38-manylinux_2_17_x86_64.manylinux2014_x86_64.whl (29.3 MB)\n",
            "\u001b[K     |████████████████████████████████| 29.3 MB 12.3 MB/s \n",
            "\u001b[?25hCollecting fuzzywuzzy\n",
            "  Downloading fuzzywuzzy-0.18.0-py2.py3-none-any.whl (18 kB)\n",
            "Requirement already satisfied: numpy in /usr/local/lib/python3.8/dist-packages (from PyTDC==0.3.7) (1.21.6)\n",
            "Requirement already satisfied: pandas in /usr/local/lib/python3.8/dist-packages (from PyTDC==0.3.7) (1.3.5)\n",
            "Requirement already satisfied: tqdm in /usr/local/lib/python3.8/dist-packages (from PyTDC==0.3.7) (4.64.1)\n",
            "Requirement already satisfied: scikit-learn in /usr/local/lib/python3.8/dist-packages (from PyTDC==0.3.7) (1.0.2)\n",
            "Requirement already satisfied: seaborn in /usr/local/lib/python3.8/dist-packages (from PyTDC==0.3.7) (0.11.2)\n",
            "Requirement already satisfied: requests in /usr/local/lib/python3.8/dist-packages (from PyTDC==0.3.7) (2.23.0)\n",
            "Requirement already satisfied: python-dateutil>=2.7.3 in /usr/local/lib/python3.8/dist-packages (from pandas->PyTDC==0.3.7) (2.8.2)\n",
            "Requirement already satisfied: pytz>=2017.3 in /usr/local/lib/python3.8/dist-packages (from pandas->PyTDC==0.3.7) (2022.6)\n",
            "Requirement already satisfied: six>=1.5 in /usr/local/lib/python3.8/dist-packages (from python-dateutil>=2.7.3->pandas->PyTDC==0.3.7) (1.15.0)\n",
            "Requirement already satisfied: Pillow in /usr/local/lib/python3.8/dist-packages (from rdkit-pypi->PyTDC==0.3.7) (7.1.2)\n",
            "Requirement already satisfied: chardet<4,>=3.0.2 in /usr/local/lib/python3.8/dist-packages (from requests->PyTDC==0.3.7) (3.0.4)\n",
            "Requirement already satisfied: urllib3!=1.25.0,!=1.25.1,<1.26,>=1.21.1 in /usr/local/lib/python3.8/dist-packages (from requests->PyTDC==0.3.7) (1.24.3)\n",
            "Requirement already satisfied: certifi>=2017.4.17 in /usr/local/lib/python3.8/dist-packages (from requests->PyTDC==0.3.7) (2022.9.24)\n",
            "Requirement already satisfied: idna<3,>=2.5 in /usr/local/lib/python3.8/dist-packages (from requests->PyTDC==0.3.7) (2.10)\n",
            "Requirement already satisfied: scipy>=1.1.0 in /usr/local/lib/python3.8/dist-packages (from scikit-learn->PyTDC==0.3.7) (1.7.3)\n",
            "Requirement already satisfied: joblib>=0.11 in /usr/local/lib/python3.8/dist-packages (from scikit-learn->PyTDC==0.3.7) (1.2.0)\n",
            "Requirement already satisfied: threadpoolctl>=2.0.0 in /usr/local/lib/python3.8/dist-packages (from scikit-learn->PyTDC==0.3.7) (3.1.0)\n",
            "Requirement already satisfied: matplotlib>=2.2 in /usr/local/lib/python3.8/dist-packages (from seaborn->PyTDC==0.3.7) (3.2.2)\n",
            "Requirement already satisfied: cycler>=0.10 in /usr/local/lib/python3.8/dist-packages (from matplotlib>=2.2->seaborn->PyTDC==0.3.7) (0.11.0)\n",
            "Requirement already satisfied: pyparsing!=2.0.4,!=2.1.2,!=2.1.6,>=2.0.1 in /usr/local/lib/python3.8/dist-packages (from matplotlib>=2.2->seaborn->PyTDC==0.3.7) (3.0.9)\n",
            "Requirement already satisfied: kiwisolver>=1.0.1 in /usr/local/lib/python3.8/dist-packages (from matplotlib>=2.2->seaborn->PyTDC==0.3.7) (1.4.4)\n",
            "Building wheels for collected packages: PyTDC\n",
            "  Building wheel for PyTDC (setup.py) ... \u001b[?25l\u001b[?25hdone\n",
            "  Created wheel for PyTDC: filename=PyTDC-0.3.7-py3-none-any.whl size=130431 sha256=f768e76420c9d89730663978d5c0152f474f5caa1c39680a6787e5de8de167e3\n",
            "  Stored in directory: /root/.cache/pip/wheels/0d/f0/c0/c916d1612b7c8b0fe58db8b03ef009aa5fa8e18a9266f1ba02\n",
            "Successfully built PyTDC\n",
            "Installing collected packages: rdkit-pypi, fuzzywuzzy, PyTDC\n",
            "Successfully installed PyTDC-0.3.7 fuzzywuzzy-0.18.0 rdkit-pypi-2022.9.2\n",
            "Looking in indexes: https://pypi.org/simple, https://us-python.pkg.dev/colab-wheels/public/simple/\n",
            "Looking in links: https://data.pyg.org/whl/torch-1.13.0+cpu.html\n",
            "Collecting pyg-lib\n",
            "  Downloading https://data.pyg.org/whl/torch-1.13.0%2Bcpu/pyg_lib-0.1.0%2Bpt113cpu-cp38-cp38-linux_x86_64.whl (539 kB)\n",
            "\u001b[K     |████████████████████████████████| 539 kB 19.6 MB/s \n",
            "\u001b[?25hCollecting torch-scatter\n",
            "  Downloading https://data.pyg.org/whl/torch-1.13.0%2Bcpu/torch_scatter-2.1.0%2Bpt113cpu-cp38-cp38-linux_x86_64.whl (491 kB)\n",
            "\u001b[K     |████████████████████████████████| 491 kB 54.7 MB/s \n",
            "\u001b[?25hCollecting torch-sparse\n",
            "  Downloading https://data.pyg.org/whl/torch-1.13.0%2Bcpu/torch_sparse-0.6.15%2Bpt113cpu-cp38-cp38-linux_x86_64.whl (1.1 MB)\n",
            "\u001b[K     |████████████████████████████████| 1.1 MB 56.5 MB/s \n",
            "\u001b[?25hCollecting torch-cluster\n",
            "  Downloading https://data.pyg.org/whl/torch-1.13.0%2Bcpu/torch_cluster-1.6.0%2Bpt113cpu-cp38-cp38-linux_x86_64.whl (704 kB)\n",
            "\u001b[K     |████████████████████████████████| 704 kB 20.6 MB/s \n",
            "\u001b[?25hCollecting torch-spline-conv\n",
            "  Downloading https://data.pyg.org/whl/torch-1.13.0%2Bcpu/torch_spline_conv-1.2.1%2Bpt113cpu-cp38-cp38-linux_x86_64.whl (202 kB)\n",
            "\u001b[K     |████████████████████████████████| 202 kB 47.7 MB/s \n",
            "\u001b[?25hCollecting torch-geometric\n",
            "  Downloading torch_geometric-2.2.0.tar.gz (564 kB)\n",
            "\u001b[K     |████████████████████████████████| 564 kB 16.4 MB/s \n",
            "\u001b[?25hRequirement already satisfied: scipy in /usr/local/lib/python3.8/dist-packages (from torch-sparse) (1.7.3)\n",
            "Requirement already satisfied: tqdm in /usr/local/lib/python3.8/dist-packages (from torch-geometric) (4.64.1)\n",
            "Requirement already satisfied: numpy in /usr/local/lib/python3.8/dist-packages (from torch-geometric) (1.21.6)\n",
            "Requirement already satisfied: jinja2 in /usr/local/lib/python3.8/dist-packages (from torch-geometric) (2.11.3)\n",
            "Requirement already satisfied: requests in /usr/local/lib/python3.8/dist-packages (from torch-geometric) (2.23.0)\n",
            "Requirement already satisfied: pyparsing in /usr/local/lib/python3.8/dist-packages (from torch-geometric) (3.0.9)\n",
            "Requirement already satisfied: scikit-learn in /usr/local/lib/python3.8/dist-packages (from torch-geometric) (1.0.2)\n",
            "Collecting psutil>=5.8.0\n",
            "  Downloading psutil-5.9.4-cp36-abi3-manylinux_2_12_x86_64.manylinux2010_x86_64.manylinux_2_17_x86_64.manylinux2014_x86_64.whl (280 kB)\n",
            "\u001b[K     |████████████████████████████████| 280 kB 63.0 MB/s \n",
            "\u001b[?25hRequirement already satisfied: MarkupSafe>=0.23 in /usr/local/lib/python3.8/dist-packages (from jinja2->torch-geometric) (2.0.1)\n",
            "Requirement already satisfied: chardet<4,>=3.0.2 in /usr/local/lib/python3.8/dist-packages (from requests->torch-geometric) (3.0.4)\n",
            "Requirement already satisfied: idna<3,>=2.5 in /usr/local/lib/python3.8/dist-packages (from requests->torch-geometric) (2.10)\n",
            "Requirement already satisfied: urllib3!=1.25.0,!=1.25.1,<1.26,>=1.21.1 in /usr/local/lib/python3.8/dist-packages (from requests->torch-geometric) (1.24.3)\n",
            "Requirement already satisfied: certifi>=2017.4.17 in /usr/local/lib/python3.8/dist-packages (from requests->torch-geometric) (2022.9.24)\n",
            "Requirement already satisfied: threadpoolctl>=2.0.0 in /usr/local/lib/python3.8/dist-packages (from scikit-learn->torch-geometric) (3.1.0)\n",
            "Requirement already satisfied: joblib>=0.11 in /usr/local/lib/python3.8/dist-packages (from scikit-learn->torch-geometric) (1.2.0)\n",
            "Building wheels for collected packages: torch-geometric\n",
            "  Building wheel for torch-geometric (setup.py) ... \u001b[?25l\u001b[?25hdone\n",
            "  Created wheel for torch-geometric: filename=torch_geometric-2.2.0-py3-none-any.whl size=773302 sha256=077015c4cd80c8921612d879f4cd120a0ef8c82f64fca1bdf974ff3c0ee7c93a\n",
            "  Stored in directory: /root/.cache/pip/wheels/59/a3/20/198928106d3169865ae73afcbd3d3d1796cf6b429b55c65378\n",
            "Successfully built torch-geometric\n",
            "Installing collected packages: psutil, torch-spline-conv, torch-sparse, torch-scatter, torch-geometric, torch-cluster, pyg-lib\n",
            "  Attempting uninstall: psutil\n",
            "    Found existing installation: psutil 5.4.8\n",
            "    Uninstalling psutil-5.4.8:\n",
            "      Successfully uninstalled psutil-5.4.8\n",
            "Successfully installed psutil-5.9.4 pyg-lib-0.1.0+pt113cpu torch-cluster-1.6.0+pt113cpu torch-geometric-2.2.0 torch-scatter-2.1.0+pt113cpu torch-sparse-0.6.15+pt113cpu torch-spline-conv-1.2.1+pt113cpu\n"
          ]
        },
        {
          "output_type": "display_data",
          "data": {
            "application/vnd.colab-display-data+json": {
              "pip_warning": {
                "packages": [
                  "psutil"
                ]
              }
            }
          },
          "metadata": {}
        },
        {
          "output_type": "stream",
          "name": "stdout",
          "text": [
            "Looking in indexes: https://pypi.org/simple, https://us-python.pkg.dev/colab-wheels/public/simple/\n",
            "Collecting torchmetrics\n",
            "  Downloading torchmetrics-0.11.0-py3-none-any.whl (512 kB)\n",
            "\u001b[K     |████████████████████████████████| 512 kB 28.9 MB/s \n",
            "\u001b[?25hRequirement already satisfied: torch>=1.8.1 in /usr/local/lib/python3.8/dist-packages (from torchmetrics) (1.13.0+cu116)\n",
            "Requirement already satisfied: typing-extensions in /usr/local/lib/python3.8/dist-packages (from torchmetrics) (4.4.0)\n",
            "Requirement already satisfied: numpy>=1.17.2 in /usr/local/lib/python3.8/dist-packages (from torchmetrics) (1.21.6)\n",
            "Requirement already satisfied: packaging in /usr/local/lib/python3.8/dist-packages (from torchmetrics) (21.3)\n",
            "Requirement already satisfied: pyparsing!=3.0.5,>=2.0.2 in /usr/local/lib/python3.8/dist-packages (from packaging->torchmetrics) (3.0.9)\n",
            "Installing collected packages: torchmetrics\n",
            "Successfully installed torchmetrics-0.11.0\n"
          ]
        }
      ]
    },
    {
      "cell_type": "markdown",
      "source": [
        "## Choice of Dataset"
      ],
      "metadata": {
        "id": "2gbLUKYGydQh"
      }
    },
    {
      "cell_type": "markdown",
      "source": [
        "The Choice of dataset made was CYP P450 2C19 Inhibition, Veith et al. Dataset Description given by website: The CYP P450 genes are essential in the breakdown (metabolism) of various molecules and chemicals within cells. A drug that can inhibit these enzymes would mean poor metabolism to this drug and other drugs, which could lead to drug-drug interactions and adverse effects. Specifically, the CYP2C19 gene provides instructions for making an enzyme called the endoplasmic reticulum, which is involved in protein processing and transport.\n",
        "\n",
        "The reason for this choice had no significant reason to do with the context of the dataset but more so to do with its structure. It is labelled as a binary classifcation task as well as consisting of a balanced dataset - meaning relatively speaking it is an easy dataset to deal with."
      ],
      "metadata": {
        "id": "J49Q-rPxyjSW"
      }
    },
    {
      "cell_type": "code",
      "source": [
        "from tdc.single_pred import ADME\n",
        "data = ADME(name = 'CYP2C19_Veith')\n",
        "split = data.get_split(seed=12)"
      ],
      "metadata": {
        "id": "jXTH-l_bz9bc",
        "outputId": "88dd0e3d-e8c4-4dba-cf3e-fcd7151731e2",
        "colab": {
          "base_uri": "https://localhost:8080/"
        }
      },
      "execution_count": 1,
      "outputs": [
        {
          "output_type": "stream",
          "name": "stderr",
          "text": [
            "Found local copy...\n",
            "Loading...\n",
            "Done!\n"
          ]
        }
      ]
    },
    {
      "cell_type": "code",
      "source": [
        "# obtaining splits for training, validating and testing\n",
        "train_split = split['train']\n",
        "val_split = split['valid']\n",
        "test_split = split['test']"
      ],
      "metadata": {
        "id": "R97a443x0V8u"
      },
      "execution_count": 2,
      "outputs": []
    },
    {
      "cell_type": "markdown",
      "source": [
        "The dataset has already been nicely sorted for us in a pandas dataframe with important columns being 'Drug' and 'Y'. "
      ],
      "metadata": {
        "id": "HBxmKRuG1xFz"
      }
    },
    {
      "cell_type": "code",
      "source": [
        "train_split.head()"
      ],
      "metadata": {
        "id": "qRF3WGi-bUN3",
        "outputId": "00f6c29e-322a-4db9-aef2-e9a87ba3b130",
        "colab": {
          "base_uri": "https://localhost:8080/",
          "height": 206
        }
      },
      "execution_count": 3,
      "outputs": [
        {
          "output_type": "execute_result",
          "data": {
            "text/plain": [
              "     Drug_ID                                             Drug  Y\n",
              "0  6602638.0           CCCC(=O)Nc1ccc(N2CCN(CC)CC2)c(Cl)c1.Cl  0\n",
              "1   644675.0       CC(=O)N(c1ccc2oc(=O)sc2c1)S(=O)(=O)c1cccs1  1\n",
              "2   644851.0                 Clc1ccccc1-c1nc(-c2ccccc2)n[nH]1  1\n",
              "3   644890.0  COc1ccccc1C(c1nnnn1C(C)(C)C)N1CCN(Cc2ccncc2)CC1  1\n",
              "4   645063.0    CC(=O)Nc1cccc(NC(=O)C2CCCN2C(=O)Nc2ccccc2C)c1  0"
            ],
            "text/html": [
              "\n",
              "  <div id=\"df-4121107e-c9e4-4356-ad2a-83bbd06be463\">\n",
              "    <div class=\"colab-df-container\">\n",
              "      <div>\n",
              "<style scoped>\n",
              "    .dataframe tbody tr th:only-of-type {\n",
              "        vertical-align: middle;\n",
              "    }\n",
              "\n",
              "    .dataframe tbody tr th {\n",
              "        vertical-align: top;\n",
              "    }\n",
              "\n",
              "    .dataframe thead th {\n",
              "        text-align: right;\n",
              "    }\n",
              "</style>\n",
              "<table border=\"1\" class=\"dataframe\">\n",
              "  <thead>\n",
              "    <tr style=\"text-align: right;\">\n",
              "      <th></th>\n",
              "      <th>Drug_ID</th>\n",
              "      <th>Drug</th>\n",
              "      <th>Y</th>\n",
              "    </tr>\n",
              "  </thead>\n",
              "  <tbody>\n",
              "    <tr>\n",
              "      <th>0</th>\n",
              "      <td>6602638.0</td>\n",
              "      <td>CCCC(=O)Nc1ccc(N2CCN(CC)CC2)c(Cl)c1.Cl</td>\n",
              "      <td>0</td>\n",
              "    </tr>\n",
              "    <tr>\n",
              "      <th>1</th>\n",
              "      <td>644675.0</td>\n",
              "      <td>CC(=O)N(c1ccc2oc(=O)sc2c1)S(=O)(=O)c1cccs1</td>\n",
              "      <td>1</td>\n",
              "    </tr>\n",
              "    <tr>\n",
              "      <th>2</th>\n",
              "      <td>644851.0</td>\n",
              "      <td>Clc1ccccc1-c1nc(-c2ccccc2)n[nH]1</td>\n",
              "      <td>1</td>\n",
              "    </tr>\n",
              "    <tr>\n",
              "      <th>3</th>\n",
              "      <td>644890.0</td>\n",
              "      <td>COc1ccccc1C(c1nnnn1C(C)(C)C)N1CCN(Cc2ccncc2)CC1</td>\n",
              "      <td>1</td>\n",
              "    </tr>\n",
              "    <tr>\n",
              "      <th>4</th>\n",
              "      <td>645063.0</td>\n",
              "      <td>CC(=O)Nc1cccc(NC(=O)C2CCCN2C(=O)Nc2ccccc2C)c1</td>\n",
              "      <td>0</td>\n",
              "    </tr>\n",
              "  </tbody>\n",
              "</table>\n",
              "</div>\n",
              "      <button class=\"colab-df-convert\" onclick=\"convertToInteractive('df-4121107e-c9e4-4356-ad2a-83bbd06be463')\"\n",
              "              title=\"Convert this dataframe to an interactive table.\"\n",
              "              style=\"display:none;\">\n",
              "        \n",
              "  <svg xmlns=\"http://www.w3.org/2000/svg\" height=\"24px\"viewBox=\"0 0 24 24\"\n",
              "       width=\"24px\">\n",
              "    <path d=\"M0 0h24v24H0V0z\" fill=\"none\"/>\n",
              "    <path d=\"M18.56 5.44l.94 2.06.94-2.06 2.06-.94-2.06-.94-.94-2.06-.94 2.06-2.06.94zm-11 1L8.5 8.5l.94-2.06 2.06-.94-2.06-.94L8.5 2.5l-.94 2.06-2.06.94zm10 10l.94 2.06.94-2.06 2.06-.94-2.06-.94-.94-2.06-.94 2.06-2.06.94z\"/><path d=\"M17.41 7.96l-1.37-1.37c-.4-.4-.92-.59-1.43-.59-.52 0-1.04.2-1.43.59L10.3 9.45l-7.72 7.72c-.78.78-.78 2.05 0 2.83L4 21.41c.39.39.9.59 1.41.59.51 0 1.02-.2 1.41-.59l7.78-7.78 2.81-2.81c.8-.78.8-2.07 0-2.86zM5.41 20L4 18.59l7.72-7.72 1.47 1.35L5.41 20z\"/>\n",
              "  </svg>\n",
              "      </button>\n",
              "      \n",
              "  <style>\n",
              "    .colab-df-container {\n",
              "      display:flex;\n",
              "      flex-wrap:wrap;\n",
              "      gap: 12px;\n",
              "    }\n",
              "\n",
              "    .colab-df-convert {\n",
              "      background-color: #E8F0FE;\n",
              "      border: none;\n",
              "      border-radius: 50%;\n",
              "      cursor: pointer;\n",
              "      display: none;\n",
              "      fill: #1967D2;\n",
              "      height: 32px;\n",
              "      padding: 0 0 0 0;\n",
              "      width: 32px;\n",
              "    }\n",
              "\n",
              "    .colab-df-convert:hover {\n",
              "      background-color: #E2EBFA;\n",
              "      box-shadow: 0px 1px 2px rgba(60, 64, 67, 0.3), 0px 1px 3px 1px rgba(60, 64, 67, 0.15);\n",
              "      fill: #174EA6;\n",
              "    }\n",
              "\n",
              "    [theme=dark] .colab-df-convert {\n",
              "      background-color: #3B4455;\n",
              "      fill: #D2E3FC;\n",
              "    }\n",
              "\n",
              "    [theme=dark] .colab-df-convert:hover {\n",
              "      background-color: #434B5C;\n",
              "      box-shadow: 0px 1px 3px 1px rgba(0, 0, 0, 0.15);\n",
              "      filter: drop-shadow(0px 1px 2px rgba(0, 0, 0, 0.3));\n",
              "      fill: #FFFFFF;\n",
              "    }\n",
              "  </style>\n",
              "\n",
              "      <script>\n",
              "        const buttonEl =\n",
              "          document.querySelector('#df-4121107e-c9e4-4356-ad2a-83bbd06be463 button.colab-df-convert');\n",
              "        buttonEl.style.display =\n",
              "          google.colab.kernel.accessAllowed ? 'block' : 'none';\n",
              "\n",
              "        async function convertToInteractive(key) {\n",
              "          const element = document.querySelector('#df-4121107e-c9e4-4356-ad2a-83bbd06be463');\n",
              "          const dataTable =\n",
              "            await google.colab.kernel.invokeFunction('convertToInteractive',\n",
              "                                                     [key], {});\n",
              "          if (!dataTable) return;\n",
              "\n",
              "          const docLinkHtml = 'Like what you see? Visit the ' +\n",
              "            '<a target=\"_blank\" href=https://colab.research.google.com/notebooks/data_table.ipynb>data table notebook</a>'\n",
              "            + ' to learn more about interactive tables.';\n",
              "          element.innerHTML = '';\n",
              "          dataTable['output_type'] = 'display_data';\n",
              "          await google.colab.output.renderOutput(dataTable, element);\n",
              "          const docLink = document.createElement('div');\n",
              "          docLink.innerHTML = docLinkHtml;\n",
              "          element.appendChild(docLink);\n",
              "        }\n",
              "      </script>\n",
              "    </div>\n",
              "  </div>\n",
              "  "
            ]
          },
          "metadata": {},
          "execution_count": 3
        }
      ]
    },
    {
      "cell_type": "code",
      "source": [
        "sum(train_split.Y) + sum(val_split.Y) + sum(test_split.Y)"
      ],
      "metadata": {
        "colab": {
          "base_uri": "https://localhost:8080/"
        },
        "id": "k_eR_AAfc4bL",
        "outputId": "f6b11471-13fb-4cfb-a6ee-011a80d2df0a"
      },
      "execution_count": 20,
      "outputs": [
        {
          "output_type": "execute_result",
          "data": {
            "text/plain": [
              "5819"
            ]
          },
          "metadata": {},
          "execution_count": 20
        }
      ]
    },
    {
      "cell_type": "code",
      "source": [
        "5819/12665"
      ],
      "metadata": {
        "colab": {
          "base_uri": "https://localhost:8080/"
        },
        "id": "U_Vl260XdR_E",
        "outputId": "bed97608-a1b6-49a9-d8c2-964d4b79f007"
      },
      "execution_count": 22,
      "outputs": [
        {
          "output_type": "execute_result",
          "data": {
            "text/plain": [
              "0.4594551914725622"
            ]
          },
          "metadata": {},
          "execution_count": 22
        }
      ]
    },
    {
      "cell_type": "code",
      "source": [
        "len(data)"
      ],
      "metadata": {
        "colab": {
          "base_uri": "https://localhost:8080/"
        },
        "id": "uONBWDVJdE7l",
        "outputId": "ce5baaa2-a902-4a53-9c23-10794a704cf6"
      },
      "execution_count": 21,
      "outputs": [
        {
          "output_type": "execute_result",
          "data": {
            "text/plain": [
              "12665"
            ]
          },
          "metadata": {},
          "execution_count": 21
        }
      ]
    },
    {
      "cell_type": "markdown",
      "source": [
        "As we see, the dataset is pretty balanced in terms of positive and negative instances."
      ],
      "metadata": {
        "id": "h2XdQP1L2LJg"
      }
    },
    {
      "cell_type": "code",
      "source": [
        "data.label_distribution()"
      ],
      "metadata": {
        "id": "NZSDJZpzaPvg",
        "outputId": "388a1a7f-69c5-46e9-aa55-0faa19c20654",
        "colab": {
          "base_uri": "https://localhost:8080/",
          "height": 295
        }
      },
      "execution_count": 4,
      "outputs": [
        {
          "output_type": "display_data",
          "data": {
            "text/plain": [
              "<Figure size 432x288 with 2 Axes>"
            ],
            "image/png": "[encoded data removed]"
          },
          "metadata": {
            "needs_background": "light"
          }
        }
      ]
    },
    {
      "cell_type": "markdown",
      "source": [
        "The 'Drug' column consists of SMILES strings which may be readily converted into pytorch-geometric Data objects by TDC's built-in 'MolConvert' class. This gives us an easy way of creating out Dataloaders for training and evaluating."
      ],
      "metadata": {
        "id": "osAiE-Dc2Ul2"
      }
    },
    {
      "cell_type": "code",
      "source": [
        "import torch\n",
        "from tdc.chem_utils import MolConvert\n",
        "\n",
        "converter = MolConvert(src = 'SMILES', dst = 'PyG')\n",
        "\n",
        "# creating training object lists\n",
        "training_list = []\n",
        "for index, row in train_split.iterrows():\n",
        "    obj = converter(row['Drug'])\n",
        "    label = torch.tensor([row['Y']])\n",
        "    obj.y = label\n",
        "    training_list.append(obj)"
      ],
      "metadata": {
        "id": "g-5eC4VfaSEy"
      },
      "execution_count": 5,
      "outputs": []
    },
    {
      "cell_type": "code",
      "source": [
        "# validation set\n",
        "validation_list = []\n",
        "\n",
        "for index, row in val_split.iterrows():\n",
        "    obj = converter(row['Drug'])\n",
        "    label = torch.tensor([row['Y']])\n",
        "    obj.y = label\n",
        "    validation_list.append(obj)\n",
        "\n",
        "# validation set\n",
        "test_list = []\n",
        "\n",
        "for index, row in test_split.iterrows():\n",
        "    obj = converter(row['Drug'])\n",
        "    label = torch.tensor([row['Y']])\n",
        "    obj.y = label\n",
        "    test_list.append(obj)"
      ],
      "metadata": {
        "id": "8Tl7m9Z2TiO2"
      },
      "execution_count": 6,
      "outputs": []
    },
    {
      "cell_type": "code",
      "source": [
        "print('length of training set', len(training_list))\n",
        "print('length of validation set', len(validation_list))\n",
        "print('length of test set', len(test_list))"
      ],
      "metadata": {
        "colab": {
          "base_uri": "https://localhost:8080/"
        },
        "id": "TbGl9cJm4eTt",
        "outputId": "dea0b33b-b43f-462d-915a-9c1ded0b13fb"
      },
      "execution_count": 7,
      "outputs": [
        {
          "output_type": "stream",
          "name": "stdout",
          "text": [
            "length of training set 8866\n",
            "length of validation set 1266\n",
            "length of test set 2533\n"
          ]
        }
      ]
    },
    {
      "cell_type": "markdown",
      "source": [
        "We note that for each atom of each molecule, there are 39 node features:"
      ],
      "metadata": {
        "id": "h9E58Jg65_oU"
      }
    },
    {
      "cell_type": "code",
      "source": [
        "training_list[0].x.shape"
      ],
      "metadata": {
        "colab": {
          "base_uri": "https://localhost:8080/"
        },
        "id": "R1eRBzOD58bx",
        "outputId": "7a9d40b2-7a65-4ec7-c204-d9b0b1aea264"
      },
      "execution_count": 8,
      "outputs": [
        {
          "output_type": "execute_result",
          "data": {
            "text/plain": [
              "torch.Size([22, 39])"
            ]
          },
          "metadata": {},
          "execution_count": 8
        }
      ]
    },
    {
      "cell_type": "code",
      "source": [
        "from torch_geometric.loader import DataLoader\n",
        "from torch_geometric.seed import seed_everything\n",
        "\n",
        "# creating the dataloaders. For reproducability, use a seed\n",
        "seed_everything(12)\n",
        "\n",
        "train_loader = DataLoader(training_list, batch_size=32, shuffle=True)\n",
        "val_loader = DataLoader(validation_list, batch_size=32, shuffle=True)\n",
        "test_loader = DataLoader(test_list, batch_size=32, shuffle=True)"
      ],
      "metadata": {
        "id": "FGHtrJT9cfqN"
      },
      "execution_count": 9,
      "outputs": []
    },
    {
      "cell_type": "markdown",
      "source": [
        "We start benchmarking results, and go through the three types of models."
      ],
      "metadata": {
        "id": "9OEJrZYb7JbQ"
      }
    },
    {
      "cell_type": "markdown",
      "source": [
        "## Graph Neural Network Model"
      ],
      "metadata": {
        "id": "A1lztTRw7HAU"
      }
    },
    {
      "cell_type": "code",
      "source": [
        "%cd /content/drive/MyDrive/DeepMirror/"
      ],
      "metadata": {
        "colab": {
          "base_uri": "https://localhost:8080/"
        },
        "id": "XOw280DwI_Fj",
        "outputId": "9dc745ab-d2f8-4d49-b144-fa71368f86fb"
      },
      "execution_count": 10,
      "outputs": [
        {
          "output_type": "stream",
          "name": "stdout",
          "text": [
            "/content/drive/MyDrive/DeepMirror\n"
          ]
        }
      ]
    },
    {
      "cell_type": "markdown",
      "source": [
        "We train under Binary Cross Entropy loss since we are undertaking a binary classification task. However, for a more intuitive comparison figure, we use the Average Precision (AUPRC) metric for presentation of results, which is more explainable to the human."
      ],
      "metadata": {
        "id": "JPzVFKlvzpgK"
      }
    },
    {
      "cell_type": "markdown",
      "source": [
        "Our GNN is a simple GNN with a few graphical layers followed by 3 linear layers for prediction. The graphical layers are GCNConv layers which basic graph convolutional operator.\n",
        "\n",
        "Not too much emphasis was placed on the optimisation of such graphical architectures, as I believed the purpose of this task was more for demonstration/proof of concepts in each of the three different models."
      ],
      "metadata": {
        "id": "ihbpA3rl0CTe"
      }
    },
    {
      "cell_type": "code",
      "source": [
        "from models import GNN\n",
        "from training import train_model\n",
        "\n",
        "model = GNN()\n",
        "train_losses, val_losses, auprc_losses = train_model(model, train_loader, val_loader, epochs=100, lr=0.0001)"
      ],
      "metadata": {
        "id": "EuldoyFtehd0",
        "colab": {
          "base_uri": "https://localhost:8080/"
        },
        "outputId": "bb18e380-cedc-47c3-ee5c-cf132ae31a5c"
      },
      "execution_count": 11,
      "outputs": [
        {
          "output_type": "stream",
          "name": "stdout",
          "text": [
            "epoch: 5, training_loss: 39.328338994396674, val_loss: 39.44261947870255, val_AUPRC: 0.6573011934757232\n",
            "epoch: 10, training_loss: 37.63056343665226, val_loss: 38.23155435323715, val_AUPRC: 0.6878134936094285\n",
            "epoch: 15, training_loss: 35.6155909402765, val_loss: 36.05532227158547, val_AUPRC: 0.7471251308917999\n",
            "epoch: 20, training_loss: 33.93616902227882, val_loss: 34.904756063222884, val_AUPRC: 0.7714758276939392\n",
            "epoch: 25, training_loss: 33.22162396787739, val_loss: 34.2785990446806, val_AUPRC: 0.7792018443346024\n",
            "epoch: 30, training_loss: 33.1169743173414, val_loss: 34.19750071167946, val_AUPRC: 0.7829824477434159\n",
            "epoch: 35, training_loss: 32.74891574948812, val_loss: 34.173047894239424, val_AUPRC: 0.7880938023328781\n",
            "epoch: 40, training_loss: 32.173967759386244, val_loss: 33.577547293901446, val_AUPRC: 0.7984365463256836\n",
            "epoch: 45, training_loss: 32.23331579630324, val_loss: 33.957903516292575, val_AUPRC: 0.8017524689435959\n",
            "epoch: 50, training_loss: 31.79715697799655, val_loss: 33.05980126857757, val_AUPRC: 0.8061626255512238\n",
            "epoch: 55, training_loss: 31.55454337125202, val_loss: 33.11454160511494, val_AUPRC: 0.8057877719402313\n",
            "epoch: 60, training_loss: 31.45624391680999, val_loss: 32.879311168193816, val_AUPRC: 0.7954040437936782\n",
            "epoch: 65, training_loss: 31.44082998886383, val_loss: 32.91279121935368, val_AUPRC: 0.8073225259780884\n",
            "epoch: 70, training_loss: 31.030066931848047, val_loss: 32.98433731496334, val_AUPRC: 0.8089804083108902\n",
            "epoch: 75, training_loss: 30.835452541172934, val_loss: 32.440773126482966, val_AUPRC: 0.809599781036377\n",
            "epoch: 80, training_loss: 30.779722657135064, val_loss: 32.40059249997139, val_AUPRC: 0.8125420957803726\n",
            "epoch: 85, training_loss: 30.69477948224802, val_loss: 32.23353895545006, val_AUPRC: 0.809547609090805\n",
            "epoch: 90, training_loss: 30.853028152486402, val_loss: 32.19339429140091, val_AUPRC: 0.8168054670095444\n",
            "epoch: 95, training_loss: 30.39093848784193, val_loss: 32.63795970678329, val_AUPRC: 0.8082360744476318\n",
            "epoch: 100, training_loss: 30.337208056192605, val_loss: 31.87718074321747, val_AUPRC: 0.8130745828151703\n"
          ]
        }
      ]
    },
    {
      "cell_type": "code",
      "source": [
        "import matplotlib.pyplot as plt\n",
        "epochs = range(len(train_losses))\n",
        "plt.plot(epochs, train_losses)\n",
        "plt.plot(epochs, val_losses)\n",
        "plt.xlabel(\"Epoch\")\n",
        "plt.ylabel(\"BCE loss\")\n",
        "plt.legend(['Train Loss', 'Validation_loss'])"
      ],
      "metadata": {
        "id": "Yjpdpab5fCTL",
        "outputId": "f9a81a06-63bd-443a-dcde-a07d5d1db245",
        "colab": {
          "base_uri": "https://localhost:8080/",
          "height": 296
        }
      },
      "execution_count": 14,
      "outputs": [
        {
          "output_type": "execute_result",
          "data": {
            "text/plain": [
              "<matplotlib.legend.Legend at 0x7f6cf39a7fd0>"
            ]
          },
          "metadata": {},
          "execution_count": 14
        },
        {
          "output_type": "display_data",
          "data": {
            "text/plain": [
              "<Figure size 432x288 with 1 Axes>"
            ],
            "image/png": "[encoded data removed]"
          },
          "metadata": {
            "needs_background": "light"
          }
        }
      ]
    },
    {
      "cell_type": "code",
      "source": [
        "plt.plot(epochs, auprc_losses)\n",
        "plt.xlabel(\"Epoch\")\n",
        "plt.ylabel(\"AUPRC loss\")"
      ],
      "metadata": {
        "id": "-0kzRrxHlhPa",
        "colab": {
          "base_uri": "https://localhost:8080/",
          "height": 297
        },
        "outputId": "1130157f-ab80-4cff-ea6b-296102ea42fa"
      },
      "execution_count": 15,
      "outputs": [
        {
          "output_type": "execute_result",
          "data": {
            "text/plain": [
              "Text(0, 0.5, 'AUPRC loss')"
            ]
          },
          "metadata": {},
          "execution_count": 15
        },
        {
          "output_type": "display_data",
          "data": {
            "text/plain": [
              "<Figure size 432x288 with 1 Axes>"
            ],
            "image/png": "[encoded data removed]"
          },
          "metadata": {
            "needs_background": "light"
          }
        }
      ]
    },
    {
      "cell_type": "markdown",
      "source": [
        "Finally we test our model on the unseen test set."
      ],
      "metadata": {
        "id": "hv5TQ7xCznFi"
      }
    },
    {
      "cell_type": "code",
      "source": [
        "from training import val_data_epoch\n",
        "test_loss, test_auprc_loss = val_data_epoch(model, test_loader)\n",
        "print('test loss of GNN:', test_loss)\n",
        "print('AUPRC loss of GNN:', test_auprc_loss)"
      ],
      "metadata": {
        "id": "1Z9a-eNhPId4",
        "colab": {
          "base_uri": "https://localhost:8080/"
        },
        "outputId": "d2671935-5613-4707-b33d-43893855dbbd"
      },
      "execution_count": 16,
      "outputs": [
        {
          "output_type": "stream",
          "name": "stdout",
          "text": [
            "test loss of GNN: 30.148818914592265\n",
            "AUPRC loss of GNN: 0.8258148908615113\n"
          ]
        }
      ]
    },
    {
      "cell_type": "markdown",
      "source": [
        "## Decision Tree Model"
      ],
      "metadata": {
        "id": "51EIw5UQ183C"
      }
    },
    {
      "cell_type": "markdown",
      "source": [
        "The classical decision tree for classification is a supervised, fundamentally separation algorithm which assigns each section of the input space to a class which minises a designated loss function. The issue with such a classical method is that which graphical data (such as molecules) it is hard to map variable input vectors to a fixed space.\n",
        "\n",
        "GNNs dealt with this in the form of message passing (to deal with connectivity), aggregation and pool functions. However we are not allowed this in decision trees. My decision in the end to avoid all learning/differentiable methods for such a aggregation function was really to demonstrate that decision trees (at least not on their own) are not appropriate for this task."
      ],
      "metadata": {
        "id": "2lysyBFG2AlG"
      }
    },
    {
      "cell_type": "markdown",
      "source": [
        "We use sci-kit learn's decision tree class to perform the classification. I chose to use a mean pooling function to reduce all node features to a global feature for each molecule, and ignored edge connectivity.\n",
        "\n",
        "The reason for ignoring edge connectivity was because of the difficulty in its encoding. A molecule has varying amounts of edges, thus the only encoding method possible would be an adjacency matrix. However adjacency matrices are not permutation invariant (they certainly do not emulate a vector space) and also are in general sparse, thus cause decision trees to have over-fitting issues/lack of sample."
      ],
      "metadata": {
        "id": "3vX8Oo4n3iEA"
      }
    },
    {
      "cell_type": "code",
      "source": [
        "import numpy as np\n",
        "\n",
        "# creating the covariate matrix for fitting.\n",
        "# we do this for the training and test data\n",
        "X_dat = np.zeros((len(training_list), 39))\n",
        "labels = []\n",
        "for i, dat in enumerate(training_list):\n",
        "    # we aggregate across all atoms in the molecule for dimensional consistency.\n",
        "    x = torch.mean(dat.x, dim=0).numpy()\n",
        "    y = dat.y\n",
        "    X_dat[i] = x\n",
        "    labels.append(y[0])\n",
        "\n",
        "\n",
        "test_dat = np.zeros((len(test_list), 39))\n",
        "test_labels = []\n",
        "for i, dat in enumerate(test_list):\n",
        "    x = torch.mean(dat.x, dim=0).numpy()\n",
        "    y = dat.y\n",
        "    test_dat[i] = x\n",
        "    test_labels.append(y[0])"
      ],
      "metadata": {
        "id": "_3I6HU5K5CyR"
      },
      "execution_count": 17,
      "outputs": []
    },
    {
      "cell_type": "code",
      "source": [
        "from sklearn import tree\n",
        "clf = tree.DecisionTreeClassifier()\n",
        "clf.fit(X_dat, labels)"
      ],
      "metadata": {
        "colab": {
          "base_uri": "https://localhost:8080/"
        },
        "id": "5lgT_gsKBeMG",
        "outputId": "4a06eb5d-f8a7-4c1d-ec4d-4c1078cfa565"
      },
      "execution_count": 18,
      "outputs": [
        {
          "output_type": "execute_result",
          "data": {
            "text/plain": [
              "DecisionTreeClassifier()"
            ]
          },
          "metadata": {},
          "execution_count": 18
        }
      ]
    },
    {
      "cell_type": "code",
      "source": [
        "# we may plot the decision tree if we like. The advantage of decision trees is that they are explainable.\n",
        "# For such a large dataset, this may not be sensible.\n",
        "tree.plot_tree(clf)"
      ],
      "metadata": {
        "colab": {
          "base_uri": "https://localhost:8080/",
          "height": 1000
        },
        "id": "rGDmEk-EDrMF",
        "outputId": "603b4cdb-758e-4449-cb2c-0bff45344bf9"
      },
      "execution_count": 19,
      "outputs": [
        {
          "output_type": "execute_result",
          "data": {
            "text/plain": [
              "[Text(0.4850974320689499, 0.9838709677419355, 'X[38] <= 0.431\\ngini = 0.496\\nsamples = 8866\\nvalue = [4835, 4031]'),\n",
              " Text(0.12947310243663498, 0.9516129032258065, 'X[34] <= 0.976\\ngini = 0.385\\nsamples = 3139\\nvalue = [2322, 817]'),\n",
              " Text(0.05642730219276305, 0.9193548387096774, 'X[38] <= 0.376\\ngini = 0.187\\nsamples = 1310\\nvalue = [1173, 137]'),\n",
              " Text(0.03377339711522428, 0.8870967741935484, 'X[0] <= 0.69\\ngini = 0.15\\nsamples = 1098\\nvalue = [1008, 90]'),\n",
              " Text(0.010421877605469402, 0.8548387096774194, 'X[20] <= 0.02\\ngini = 0.058\\nsamples = 370\\nvalue = [359, 11]'),\n",
              " Text(0.008754377188594297, 0.8225806451612904, 'X[7] <= 0.08\\ngini = 0.053\\nsamples = 368\\nvalue = [358, 10]'),\n",
              " Text(0.0074203768550942135, 0.7903225806451613, 'X[24] <= 0.33\\ngini = 0.044\\nsamples = 359\\nvalue = [351, 8]'),\n",
              " Text(0.006753376688344172, 0.7580645161290323, 'gini = 0.0\\nsamples = 210\\nvalue = [210, 0]'),\n",
              " Text(0.008087377021844255, 0.7580645161290323, 'X[25] <= 0.433\\ngini = 0.102\\nsamples = 149\\nvalue = [141, 8]'),\n",
              " Text(0.006169751542437886, 0.7258064516129032, 'X[34] <= 0.959\\ngini = 0.091\\nsamples = 147\\nvalue = [140, 7]'),\n",
              " Text(0.004335501083875271, 0.6935483870967742, 'X[6] <= 0.066\\ngini = 0.079\\nsamples = 145\\nvalue = [139, 6]'),\n",
              " Text(0.0026680006670001667, 0.6612903225806451, 'X[2] <= 0.387\\ngini = 0.059\\nsamples = 132\\nvalue = [128, 4]'),\n",
              " Text(0.0013340003335000834, 0.6290322580645161, 'X[38] <= 0.355\\ngini = 0.019\\nsamples = 102\\nvalue = [101, 1]'),\n",
              " Text(0.0006670001667500417, 0.5967741935483871, 'gini = 0.0\\nsamples = 97\\nvalue = [97, 0]'),\n",
              " Text(0.002001000500250125, 0.5967741935483871, 'X[34] <= 0.933\\ngini = 0.32\\nsamples = 5\\nvalue = [4, 1]'),\n",
              " Text(0.0013340003335000834, 0.5645161290322581, 'gini = 0.0\\nsamples = 1\\nvalue = [0, 1]'),\n",
              " Text(0.0026680006670001667, 0.5645161290322581, 'gini = 0.0\\nsamples = 4\\nvalue = [4, 0]'),\n",
              " Text(0.00400200100050025, 0.6290322580645161, 'X[1] <= 0.065\\ngini = 0.18\\nsamples = 30\\nvalue = [27, 3]'),\n",
              " Text(0.0033350008337502085, 0.5967741935483871, 'gini = 0.0\\nsamples = 17\\nvalue = [17, 0]'),\n",
              " Text(0.004669001167250292, 0.5967741935483871, 'X[24] <= 0.483\\ngini = 0.355\\nsamples = 13\\nvalue = [10, 3]'),\n",
              " Text(0.00400200100050025, 0.5645161290322581, 'X[3] <= 0.033\\ngini = 0.5\\nsamples = 6\\nvalue = [3, 3]'),\n",
              " Text(0.0033350008337502085, 0.532258064516129, 'X[34] <= 0.817\\ngini = 0.48\\nsamples = 5\\nvalue = [2, 3]'),\n",
              " Text(0.0026680006670001667, 0.5, 'X[0] <= 0.472\\ngini = 0.444\\nsamples = 3\\nvalue = [2, 1]'),\n",
              " Text(0.002001000500250125, 0.46774193548387094, 'gini = 0.0\\nsamples = 1\\nvalue = [1, 0]'),\n",
              " Text(0.0033350008337502085, 0.46774193548387094, 'gini = 0.5\\nsamples = 2\\nvalue = [1, 1]'),\n",
              " Text(0.00400200100050025, 0.5, 'gini = 0.0\\nsamples = 2\\nvalue = [0, 2]'),\n",
              " Text(0.004669001167250292, 0.532258064516129, 'gini = 0.0\\nsamples = 1\\nvalue = [1, 0]'),\n",
              " Text(0.005336001334000333, 0.5645161290322581, 'gini = 0.0\\nsamples = 7\\nvalue = [7, 0]'),\n",
              " Text(0.006003001500750375, 0.6612903225806451, 'X[0] <= 0.481\\ngini = 0.26\\nsamples = 13\\nvalue = [11, 2]'),\n",
              " Text(0.005336001334000333, 0.6290322580645161, 'gini = 0.0\\nsamples = 11\\nvalue = [11, 0]'),\n",
              " Text(0.006670001667500417, 0.6290322580645161, 'gini = 0.0\\nsamples = 2\\nvalue = [0, 2]'),\n",
              " Text(0.0080040020010005, 0.6935483870967742, 'X[3] <= 0.016\\ngini = 0.5\\nsamples = 2\\nvalue = [1, 1]'),\n",
              " Text(0.007337001834250459, 0.6612903225806451, 'gini = 0.0\\nsamples = 1\\nvalue = [1, 0]'),\n",
              " Text(0.008671002167750541, 0.6612903225806451, 'gini = 0.0\\nsamples = 1\\nvalue = [0, 1]'),\n",
              " Text(0.010005002501250625, 0.7258064516129032, 'X[1] <= 0.244\\ngini = 0.5\\nsamples = 2\\nvalue = [1, 1]'),\n",
              " Text(0.009338002334500583, 0.6935483870967742, 'gini = 0.0\\nsamples = 1\\nvalue = [1, 0]'),\n",
              " Text(0.010672002668000667, 0.6935483870967742, 'gini = 0.0\\nsamples = 1\\nvalue = [0, 1]'),\n",
              " Text(0.01008837752209438, 0.7903225806451613, 'X[26] <= 0.357\\ngini = 0.346\\nsamples = 9\\nvalue = [7, 2]'),\n",
              " Text(0.009421377355344339, 0.7580645161290323, 'gini = 0.0\\nsamples = 7\\nvalue = [7, 0]'),\n",
              " Text(0.010755377688844422, 0.7580645161290323, 'gini = 0.0\\nsamples = 2\\nvalue = [0, 2]'),\n",
              " Text(0.012089378022344506, 0.8225806451612904, 'X[36] <= 0.053\\ngini = 0.5\\nsamples = 2\\nvalue = [1, 1]'),\n",
              " Text(0.011422377855594464, 0.7903225806451613, 'gini = 0.0\\nsamples = 1\\nvalue = [0, 1]'),\n",
              " Text(0.012756378189094548, 0.7903225806451613, 'gini = 0.0\\nsamples = 1\\nvalue = [1, 0]'),\n",
              " Text(0.057124916624979157, 0.8548387096774194, 'X[29] <= 0.028\\ngini = 0.193\\nsamples = 728\\nvalue = [649, 79]'),\n",
              " Text(0.0532193179923295, 0.8225806451612904, 'X[7] <= 0.031\\ngini = 0.176\\nsamples = 707\\nvalue = [638, 69]'),\n",
              " Text(0.047409121227280304, 0.7903225806451613, 'X[8] <= 0.038\\ngini = 0.161\\nsamples = 681\\nvalue = [621, 60]'),\n",
              " Text(0.04045772886443222, 0.7580645161290323, 'X[3] <= 0.01\\ngini = 0.153\\nsamples = 671\\nvalue = [615, 56]'),\n",
              " Text(0.03255794563948641, 0.7258064516129032, 'X[0] <= 0.902\\ngini = 0.134\\nsamples = 609\\nvalue = [565, 44]'),\n",
              " Text(0.02276138069034517, 0.6935483870967742, 'X[38] <= 0.278\\ngini = 0.123\\nsamples = 591\\nvalue = [552, 39]'),\n",
              " Text(0.0135901283975321, 0.6612903225806451, 'X[2] <= 0.211\\ngini = 0.087\\nsamples = 397\\nvalue = [379, 18]'),\n",
              " Text(0.009671502417875604, 0.6290322580645161, 'X[4] <= 0.097\\ngini = 0.044\\nsamples = 266\\nvalue = [260, 6]'),\n",
              " Text(0.0080040020010005, 0.5967741935483871, 'X[0] <= 0.849\\ngini = 0.037\\nsamples = 264\\nvalue = [259, 5]'),\n",
              " Text(0.006670001667500417, 0.5645161290322581, 'X[25] <= 0.672\\ngini = 0.009\\nsamples = 227\\nvalue = [226, 1]'),\n",
              " Text(0.006003001500750375, 0.532258064516129, 'gini = 0.0\\nsamples = 221\\nvalue = [221, 0]'),\n",
              " Text(0.007337001834250459, 0.532258064516129, 'X[38] <= 0.107\\ngini = 0.278\\nsamples = 6\\nvalue = [5, 1]'),\n",
              " Text(0.006670001667500417, 0.5, 'gini = 0.0\\nsamples = 1\\nvalue = [0, 1]'),\n",
              " Text(0.0080040020010005, 0.5, 'gini = 0.0\\nsamples = 5\\nvalue = [5, 0]'),\n",
              " Text(0.009338002334500583, 0.5645161290322581, 'X[25] <= 0.259\\ngini = 0.193\\nsamples = 37\\nvalue = [33, 4]'),\n",
              " Text(0.008671002167750541, 0.532258064516129, 'gini = 0.0\\nsamples = 1\\nvalue = [0, 1]'),\n",
              " Text(0.010005002501250625, 0.532258064516129, 'X[0] <= 0.852\\ngini = 0.153\\nsamples = 36\\nvalue = [33, 3]'),\n",
              " Text(0.009338002334500583, 0.5, 'gini = 0.0\\nsamples = 1\\nvalue = [0, 1]'),\n",
              " Text(0.010672002668000667, 0.5, 'X[38] <= 0.231\\ngini = 0.108\\nsamples = 35\\nvalue = [33, 2]'),\n",
              " Text(0.009338002334500583, 0.46774193548387094, 'X[27] <= 0.116\\ngini = 0.062\\nsamples = 31\\nvalue = [30, 1]'),\n",
              " Text(0.008671002167750541, 0.43548387096774194, 'gini = 0.0\\nsamples = 25\\nvalue = [25, 0]'),\n",
              " Text(0.010005002501250625, 0.43548387096774194, 'X[2] <= 0.101\\ngini = 0.278\\nsamples = 6\\nvalue = [5, 1]'),\n",
              " Text(0.009338002334500583, 0.4032258064516129, 'gini = 0.0\\nsamples = 5\\nvalue = [5, 0]'),\n",
              " Text(0.010672002668000667, 0.4032258064516129, 'gini = 0.0\\nsamples = 1\\nvalue = [0, 1]'),\n",
              " Text(0.01200600300150075, 0.46774193548387094, 'X[1] <= 0.043\\ngini = 0.375\\nsamples = 4\\nvalue = [3, 1]'),\n",
              " Text(0.011339002834750709, 0.43548387096774194, 'gini = 0.0\\nsamples = 1\\nvalue = [0, 1]'),\n",
              " Text(0.012673003168250792, 0.43548387096774194, 'gini = 0.0\\nsamples = 3\\nvalue = [3, 0]'),\n",
              " Text(0.011339002834750709, 0.5967741935483871, 'X[24] <= 0.241\\ngini = 0.5\\nsamples = 2\\nvalue = [1, 1]'),\n",
              " Text(0.010672002668000667, 0.5645161290322581, 'gini = 0.0\\nsamples = 1\\nvalue = [0, 1]'),\n",
              " Text(0.01200600300150075, 0.5645161290322581, 'gini = 0.0\\nsamples = 1\\nvalue = [1, 0]'),\n",
              " Text(0.017508754377188594, 0.6290322580645161, 'X[24] <= 0.185\\ngini = 0.166\\nsamples = 131\\nvalue = [119, 12]'),\n",
              " Text(0.014007003501750876, 0.5967741935483871, 'X[1] <= 0.043\\ngini = 0.469\\nsamples = 16\\nvalue = [10, 6]'),\n",
              " Text(0.013340003335000834, 0.5645161290322581, 'gini = 0.0\\nsamples = 4\\nvalue = [0, 4]'),\n",
              " Text(0.014674003668500918, 0.5645161290322581, 'X[26] <= 0.286\\ngini = 0.278\\nsamples = 12\\nvalue = [10, 2]'),\n",
              " Text(0.014007003501750876, 0.532258064516129, 'gini = 0.0\\nsamples = 1\\nvalue = [0, 1]'),\n",
              " Text(0.01534100383525096, 0.532258064516129, 'X[25] <= 0.424\\ngini = 0.165\\nsamples = 11\\nvalue = [10, 1]'),\n",
              " Text(0.014674003668500918, 0.5, 'X[36] <= 0.089\\ngini = 0.444\\nsamples = 3\\nvalue = [2, 1]'),\n",
              " Text(0.014007003501750876, 0.46774193548387094, 'gini = 0.0\\nsamples = 2\\nvalue = [2, 0]'),\n",
              " Text(0.01534100383525096, 0.46774193548387094, 'gini = 0.0\\nsamples = 1\\nvalue = [0, 1]'),\n",
              " Text(0.016008004002001, 0.5, 'gini = 0.0\\nsamples = 8\\nvalue = [8, 0]'),\n",
              " Text(0.021010505252626314, 0.5967741935483871, 'X[2] <= 0.298\\ngini = 0.099\\nsamples = 115\\nvalue = [109, 6]'),\n",
              " Text(0.01934300483575121, 0.5645161290322581, 'X[24] <= 0.305\\ngini = 0.085\\nsamples = 112\\nvalue = [107, 5]'),\n",
              " Text(0.018009004502251125, 0.532258064516129, 'X[25] <= 0.474\\ngini = 0.044\\nsamples = 88\\nvalue = [86, 2]'),\n",
              " Text(0.017342004335501083, 0.5, 'gini = 0.0\\nsamples = 69\\nvalue = [69, 0]'),\n",
              " Text(0.018676004669001166, 0.5, 'X[25] <= 0.483\\ngini = 0.188\\nsamples = 19\\nvalue = [17, 2]'),\n",
              " Text(0.018009004502251125, 0.46774193548387094, 'gini = 0.0\\nsamples = 1\\nvalue = [0, 1]'),\n",
              " Text(0.01934300483575121, 0.46774193548387094, 'X[24] <= 0.24\\ngini = 0.105\\nsamples = 18\\nvalue = [17, 1]'),\n",
              " Text(0.018676004669001166, 0.43548387096774194, 'gini = 0.0\\nsamples = 13\\nvalue = [13, 0]'),\n",
              " Text(0.02001000500250125, 0.43548387096774194, 'X[2] <= 0.246\\ngini = 0.32\\nsamples = 5\\nvalue = [4, 1]'),\n",
              " Text(0.01934300483575121, 0.4032258064516129, 'gini = 0.0\\nsamples = 1\\nvalue = [1, 0]'),\n",
              " Text(0.020677005169251292, 0.4032258064516129, 'X[36] <= 0.104\\ngini = 0.375\\nsamples = 4\\nvalue = [3, 1]'),\n",
              " Text(0.02001000500250125, 0.3709677419354839, 'gini = 0.444\\nsamples = 3\\nvalue = [2, 1]'),\n",
              " Text(0.021344005336001334, 0.3709677419354839, 'gini = 0.0\\nsamples = 1\\nvalue = [1, 0]'),\n",
              " Text(0.020677005169251292, 0.532258064516129, 'X[24] <= 0.308\\ngini = 0.219\\nsamples = 24\\nvalue = [21, 3]'),\n",
              " Text(0.02001000500250125, 0.5, 'gini = 0.0\\nsamples = 1\\nvalue = [0, 1]'),\n",
              " Text(0.021344005336001334, 0.5, 'X[0] <= 0.736\\ngini = 0.159\\nsamples = 23\\nvalue = [21, 2]'),\n",
              " Text(0.020677005169251292, 0.46774193548387094, 'gini = 0.0\\nsamples = 17\\nvalue = [17, 0]'),\n",
              " Text(0.022011005502751375, 0.46774193548387094, 'X[35] <= 0.075\\ngini = 0.444\\nsamples = 6\\nvalue = [4, 2]'),\n",
              " Text(0.021344005336001334, 0.43548387096774194, 'gini = 0.0\\nsamples = 3\\nvalue = [3, 0]'),\n",
              " Text(0.022678005669501417, 0.43548387096774194, 'X[26] <= 0.245\\ngini = 0.444\\nsamples = 3\\nvalue = [1, 2]'),\n",
              " Text(0.022011005502751375, 0.4032258064516129, 'gini = 0.0\\nsamples = 1\\nvalue = [1, 0]'),\n",
              " Text(0.02334500583625146, 0.4032258064516129, 'gini = 0.0\\nsamples = 2\\nvalue = [0, 2]'),\n",
              " Text(0.022678005669501417, 0.5645161290322581, 'X[2] <= 0.305\\ngini = 0.444\\nsamples = 3\\nvalue = [2, 1]'),\n",
              " Text(0.022011005502751375, 0.532258064516129, 'gini = 0.5\\nsamples = 2\\nvalue = [1, 1]'),\n",
              " Text(0.02334500583625146, 0.532258064516129, 'gini = 0.0\\nsamples = 1\\nvalue = [1, 0]'),\n",
              " Text(0.031932632983158245, 0.6612903225806451, 'X[25] <= 0.423\\ngini = 0.193\\nsamples = 194\\nvalue = [173, 21]'),\n",
              " Text(0.026013006503251626, 0.6290322580645161, 'X[2] <= 0.113\\ngini = 0.325\\nsamples = 44\\nvalue = [35, 9]'),\n",
              " Text(0.024679006169751543, 0.5967741935483871, 'X[36] <= 0.091\\ngini = 0.32\\nsamples = 5\\nvalue = [1, 4]'),\n",
              " Text(0.0240120060030015, 0.5645161290322581, 'gini = 0.0\\nsamples = 4\\nvalue = [0, 4]'),\n",
              " Text(0.025346006336501584, 0.5645161290322581, 'gini = 0.0\\nsamples = 1\\nvalue = [1, 0]'),\n",
              " Text(0.02734700683675171, 0.5967741935483871, 'X[38] <= 0.282\\ngini = 0.224\\nsamples = 39\\nvalue = [34, 5]'),\n",
              " Text(0.026680006670001668, 0.5645161290322581, 'gini = 0.0\\nsamples = 1\\nvalue = [0, 1]'),\n",
              " Text(0.02801400700350175, 0.5645161290322581, 'X[34] <= 0.95\\ngini = 0.188\\nsamples = 38\\nvalue = [34, 4]'),\n",
              " Text(0.026346506586626645, 0.532258064516129, 'X[34] <= 0.774\\ngini = 0.111\\nsamples = 34\\nvalue = [32, 2]'),\n",
              " Text(0.02501250625312656, 0.5, 'X[36] <= 0.083\\ngini = 0.5\\nsamples = 2\\nvalue = [1, 1]'),\n",
              " Text(0.02434550608637652, 0.46774193548387094, 'gini = 0.0\\nsamples = 1\\nvalue = [1, 0]'),\n",
              " Text(0.025679506419876603, 0.46774193548387094, 'gini = 0.0\\nsamples = 1\\nvalue = [0, 1]'),\n",
              " Text(0.02768050692012673, 0.5, 'X[36] <= 0.027\\ngini = 0.061\\nsamples = 32\\nvalue = [31, 1]'),\n",
              " Text(0.027013506753376687, 0.46774193548387094, 'X[4] <= 0.014\\ngini = 0.32\\nsamples = 5\\nvalue = [4, 1]'),\n",
              " Text(0.026346506586626645, 0.43548387096774194, 'gini = 0.0\\nsamples = 4\\nvalue = [4, 0]'),\n",
              " Text(0.02768050692012673, 0.43548387096774194, 'gini = 0.0\\nsamples = 1\\nvalue = [0, 1]'),\n",
              " Text(0.02834750708687677, 0.46774193548387094, 'gini = 0.0\\nsamples = 27\\nvalue = [27, 0]'),\n",
              " Text(0.029681507420376854, 0.532258064516129, 'X[0] <= 0.719\\ngini = 0.5\\nsamples = 4\\nvalue = [2, 2]'),\n",
              " Text(0.029014507253626812, 0.5, 'gini = 0.0\\nsamples = 2\\nvalue = [0, 2]'),\n",
              " Text(0.030348507587126896, 0.5, 'gini = 0.0\\nsamples = 2\\nvalue = [2, 0]'),\n",
              " Text(0.03785225946306486, 0.6290322580645161, 'X[36] <= 0.081\\ngini = 0.147\\nsamples = 150\\nvalue = [138, 12]'),\n",
              " Text(0.03535100883775221, 0.5967741935483871, 'X[14] <= 0.026\\ngini = 0.082\\nsamples = 116\\nvalue = [111, 5]'),\n",
              " Text(0.034684008671002166, 0.5645161290322581, 'X[4] <= 0.013\\ngini = 0.068\\nsamples = 114\\nvalue = [110, 4]'),\n",
              " Text(0.03301650825412707, 0.532258064516129, 'X[34] <= 0.971\\ngini = 0.037\\nsamples = 106\\nvalue = [104, 2]'),\n",
              " Text(0.03168250792062698, 0.5, 'X[25] <= 0.649\\ngini = 0.02\\nsamples = 101\\nvalue = [100, 1]'),\n",
              " Text(0.031015507753876938, 0.46774193548387094, 'gini = 0.0\\nsamples = 81\\nvalue = [81, 0]'),\n",
              " Text(0.03234950808737702, 0.46774193548387094, 'X[25] <= 0.654\\ngini = 0.095\\nsamples = 20\\nvalue = [19, 1]'),\n",
              " Text(0.03168250792062698, 0.43548387096774194, 'X[1] <= 0.15\\ngini = 0.444\\nsamples = 3\\nvalue = [2, 1]'),\n",
              " Text(0.031015507753876938, 0.4032258064516129, 'gini = 0.5\\nsamples = 2\\nvalue = [1, 1]'),\n",
              " Text(0.03234950808737702, 0.4032258064516129, 'gini = 0.0\\nsamples = 1\\nvalue = [1, 0]'),\n",
              " Text(0.03301650825412707, 0.43548387096774194, 'gini = 0.0\\nsamples = 17\\nvalue = [17, 0]'),\n",
              " Text(0.03435050858762715, 0.5, 'X[1] <= 0.157\\ngini = 0.32\\nsamples = 5\\nvalue = [4, 1]'),\n",
              " Text(0.033683508420877105, 0.46774193548387094, 'gini = 0.0\\nsamples = 4\\nvalue = [4, 0]'),\n",
              " Text(0.03501750875437719, 0.46774193548387094, 'gini = 0.0\\nsamples = 1\\nvalue = [0, 1]'),\n",
              " Text(0.03635150908787727, 0.532258064516129, 'X[34] <= 0.937\\ngini = 0.375\\nsamples = 8\\nvalue = [6, 2]'),\n",
              " Text(0.035684508921127234, 0.5, 'gini = 0.0\\nsamples = 1\\nvalue = [0, 1]'),\n",
              " Text(0.03701850925462731, 0.5, 'X[0] <= 0.706\\ngini = 0.245\\nsamples = 7\\nvalue = [6, 1]'),\n",
              " Text(0.03635150908787727, 0.46774193548387094, 'gini = 0.5\\nsamples = 2\\nvalue = [1, 1]'),\n",
              " Text(0.037685509421377356, 0.46774193548387094, 'gini = 0.0\\nsamples = 5\\nvalue = [5, 0]'),\n",
              " Text(0.03601800900450225, 0.5645161290322581, 'gini = 0.5\\nsamples = 2\\nvalue = [1, 1]'),\n",
              " Text(0.04035351008837752, 0.5967741935483871, 'X[34] <= 0.854\\ngini = 0.327\\nsamples = 34\\nvalue = [27, 7]'),\n",
              " Text(0.03968650992162748, 0.5645161290322581, 'gini = 0.0\\nsamples = 20\\nvalue = [20, 0]'),\n",
              " Text(0.04102051025512756, 0.5645161290322581, 'X[0] <= 0.812\\ngini = 0.5\\nsamples = 14\\nvalue = [7, 7]'),\n",
              " Text(0.04035351008837752, 0.532258064516129, 'X[2] <= 0.193\\ngini = 0.463\\nsamples = 11\\nvalue = [4, 7]'),\n",
              " Text(0.03968650992162748, 0.5, 'X[25] <= 0.635\\ngini = 0.346\\nsamples = 9\\nvalue = [2, 7]'),\n",
              " Text(0.03901950975487744, 0.46774193548387094, 'X[0] <= 0.808\\ngini = 0.219\\nsamples = 8\\nvalue = [1, 7]'),\n",
              " Text(0.038352509588127394, 0.43548387096774194, 'gini = 0.0\\nsamples = 6\\nvalue = [0, 6]'),\n",
              " Text(0.03968650992162748, 0.43548387096774194, 'gini = 0.5\\nsamples = 2\\nvalue = [1, 1]'),\n",
              " Text(0.04035351008837752, 0.46774193548387094, 'gini = 0.0\\nsamples = 1\\nvalue = [1, 0]'),\n",
              " Text(0.04102051025512756, 0.5, 'gini = 0.0\\nsamples = 2\\nvalue = [2, 0]'),\n",
              " Text(0.041687510421877606, 0.532258064516129, 'gini = 0.0\\nsamples = 3\\nvalue = [3, 0]'),\n",
              " Text(0.042354510588627645, 0.6935483870967742, 'X[26] <= 0.311\\ngini = 0.401\\nsamples = 18\\nvalue = [13, 5]'),\n",
              " Text(0.041687510421877606, 0.6612903225806451, 'X[2] <= 0.046\\ngini = 0.305\\nsamples = 16\\nvalue = [13, 3]'),\n",
              " Text(0.04102051025512756, 0.6290322580645161, 'gini = 0.0\\nsamples = 7\\nvalue = [7, 0]'),\n",
              " Text(0.042354510588627645, 0.6290322580645161, 'X[25] <= 0.377\\ngini = 0.444\\nsamples = 9\\nvalue = [6, 3]'),\n",
              " Text(0.041687510421877606, 0.5967741935483871, 'gini = 0.0\\nsamples = 3\\nvalue = [3, 0]'),\n",
              " Text(0.04302151075537769, 0.5967741935483871, 'X[0] <= 0.907\\ngini = 0.5\\nsamples = 6\\nvalue = [3, 3]'),\n",
              " Text(0.042354510588627645, 0.5645161290322581, 'gini = 0.0\\nsamples = 2\\nvalue = [2, 0]'),\n",
              " Text(0.04368851092212773, 0.5645161290322581, 'X[35] <= 0.155\\ngini = 0.375\\nsamples = 4\\nvalue = [1, 3]'),\n",
              " Text(0.04302151075537769, 0.532258064516129, 'gini = 0.0\\nsamples = 3\\nvalue = [0, 3]'),\n",
              " Text(0.04435551108887777, 0.532258064516129, 'gini = 0.0\\nsamples = 1\\nvalue = [1, 0]'),\n",
              " Text(0.04302151075537769, 0.6612903225806451, 'gini = 0.0\\nsamples = 2\\nvalue = [0, 2]'),\n",
              " Text(0.048357512089378024, 0.7258064516129032, 'X[0] <= 0.758\\ngini = 0.312\\nsamples = 62\\nvalue = [50, 12]'),\n",
              " Text(0.04568951142237786, 0.6935483870967742, 'X[3] <= 0.021\\ngini = 0.19\\nsamples = 47\\nvalue = [42, 5]'),\n",
              " Text(0.04435551108887777, 0.6612903225806451, 'X[23] <= 0.01\\ngini = 0.375\\nsamples = 4\\nvalue = [1, 3]'),\n",
              " Text(0.04368851092212773, 0.6290322580645161, 'gini = 0.0\\nsamples = 3\\nvalue = [0, 3]'),\n",
              " Text(0.04502251125562781, 0.6290322580645161, 'gini = 0.0\\nsamples = 1\\nvalue = [1, 0]'),\n",
              " Text(0.04702351175587794, 0.6612903225806451, 'X[1] <= 0.195\\ngini = 0.089\\nsamples = 43\\nvalue = [41, 2]'),\n",
              " Text(0.046356511589127895, 0.6290322580645161, 'X[26] <= 0.162\\ngini = 0.046\\nsamples = 42\\nvalue = [41, 1]'),\n",
              " Text(0.04568951142237786, 0.5967741935483871, 'X[1] <= 0.125\\ngini = 0.444\\nsamples = 3\\nvalue = [2, 1]'),\n",
              " Text(0.04502251125562781, 0.5645161290322581, 'gini = 0.0\\nsamples = 1\\nvalue = [0, 1]'),\n",
              " Text(0.046356511589127895, 0.5645161290322581, 'gini = 0.0\\nsamples = 2\\nvalue = [2, 0]'),\n",
              " Text(0.04702351175587794, 0.5967741935483871, 'gini = 0.0\\nsamples = 39\\nvalue = [39, 0]'),\n",
              " Text(0.04769051192262798, 0.6290322580645161, 'gini = 0.0\\nsamples = 1\\nvalue = [0, 1]'),\n",
              " Text(0.05102551275637819, 0.6935483870967742, 'X[36] <= 0.057\\ngini = 0.498\\nsamples = 15\\nvalue = [8, 7]'),\n",
              " Text(0.04969151242287811, 0.6612903225806451, 'X[36] <= 0.013\\ngini = 0.278\\nsamples = 6\\nvalue = [1, 5]'),\n",
              " Text(0.04902451225612806, 0.6290322580645161, 'gini = 0.0\\nsamples = 1\\nvalue = [1, 0]'),\n",
              " Text(0.050358512589628146, 0.6290322580645161, 'gini = 0.0\\nsamples = 5\\nvalue = [0, 5]'),\n",
              " Text(0.052359513089878275, 0.6612903225806451, 'X[34] <= 0.754\\ngini = 0.346\\nsamples = 9\\nvalue = [7, 2]'),\n",
              " Text(0.05169251292312823, 0.6290322580645161, 'gini = 0.0\\nsamples = 1\\nvalue = [0, 1]'),\n",
              " Text(0.05302651325662831, 0.6290322580645161, 'X[2] <= 0.163\\ngini = 0.219\\nsamples = 8\\nvalue = [7, 1]'),\n",
              " Text(0.052359513089878275, 0.5967741935483871, 'gini = 0.0\\nsamples = 7\\nvalue = [7, 0]'),\n",
              " Text(0.05369351342337836, 0.5967741935483871, 'gini = 0.0\\nsamples = 1\\nvalue = [0, 1]'),\n",
              " Text(0.0543605135901284, 0.7580645161290323, 'X[8] <= 0.059\\ngini = 0.48\\nsamples = 10\\nvalue = [6, 4]'),\n",
              " Text(0.05369351342337836, 0.7258064516129032, 'X[1] <= 0.044\\ngini = 0.444\\nsamples = 6\\nvalue = [2, 4]'),\n",
              " Text(0.05302651325662831, 0.6935483870967742, 'gini = 0.0\\nsamples = 3\\nvalue = [0, 3]'),\n",
              " Text(0.0543605135901284, 0.6935483870967742, 'X[1] <= 0.071\\ngini = 0.444\\nsamples = 3\\nvalue = [2, 1]'),\n",
              " Text(0.05369351342337836, 0.6612903225806451, 'gini = 0.0\\nsamples = 2\\nvalue = [2, 0]'),\n",
              " Text(0.05502751375687844, 0.6612903225806451, 'gini = 0.0\\nsamples = 1\\nvalue = [0, 1]'),\n",
              " Text(0.05502751375687844, 0.7258064516129032, 'gini = 0.0\\nsamples = 4\\nvalue = [4, 0]'),\n",
              " Text(0.05902951475737869, 0.7903225806451613, 'X[36] <= 0.049\\ngini = 0.453\\nsamples = 26\\nvalue = [17, 9]'),\n",
              " Text(0.05836251459062865, 0.7580645161290323, 'X[0] <= 0.782\\ngini = 0.498\\nsamples = 17\\nvalue = [8, 9]'),\n",
              " Text(0.05769551442387861, 0.7258064516129032, 'X[38] <= 0.354\\ngini = 0.444\\nsamples = 12\\nvalue = [8, 4]'),\n",
              " Text(0.057028514257128564, 0.6935483870967742, 'X[25] <= 0.296\\ngini = 0.32\\nsamples = 10\\nvalue = [8, 2]'),\n",
              " Text(0.056361514090378526, 0.6612903225806451, 'gini = 0.0\\nsamples = 1\\nvalue = [0, 1]'),\n",
              " Text(0.05769551442387861, 0.6612903225806451, 'X[36] <= 0.046\\ngini = 0.198\\nsamples = 9\\nvalue = [8, 1]'),\n",
              " Text(0.057028514257128564, 0.6290322580645161, 'gini = 0.0\\nsamples = 8\\nvalue = [8, 0]'),\n",
              " Text(0.05836251459062865, 0.6290322580645161, 'gini = 0.0\\nsamples = 1\\nvalue = [0, 1]'),\n",
              " Text(0.05836251459062865, 0.6935483870967742, 'gini = 0.0\\nsamples = 2\\nvalue = [0, 2]'),\n",
              " Text(0.05902951475737869, 0.7258064516129032, 'gini = 0.0\\nsamples = 5\\nvalue = [0, 5]'),\n",
              " Text(0.05969651492412873, 0.7580645161290323, 'gini = 0.0\\nsamples = 9\\nvalue = [9, 0]'),\n",
              " Text(0.061030515257628815, 0.8225806451612904, 'X[26] <= 0.301\\ngini = 0.499\\nsamples = 21\\nvalue = [11, 10]'),\n",
              " Text(0.06036351509087877, 0.7903225806451613, 'gini = 0.0\\nsamples = 10\\nvalue = [10, 0]'),\n",
              " Text(0.06169751542437885, 0.7903225806451613, 'X[31] <= 0.05\\ngini = 0.165\\nsamples = 11\\nvalue = [1, 10]'),\n",
              " Text(0.061030515257628815, 0.7580645161290323, 'gini = 0.0\\nsamples = 9\\nvalue = [0, 9]'),\n",
              " Text(0.0623645155911289, 0.7580645161290323, 'X[38] <= 0.167\\ngini = 0.5\\nsamples = 2\\nvalue = [1, 1]'),\n",
              " Text(0.06169751542437885, 0.7258064516129032, 'gini = 0.0\\nsamples = 1\\nvalue = [0, 1]'),\n",
              " Text(0.06303151575787894, 0.7258064516129032, 'gini = 0.0\\nsamples = 1\\nvalue = [1, 0]'),\n",
              " Text(0.07908120727030182, 0.8870967741935484, 'X[1] <= 0.094\\ngini = 0.345\\nsamples = 212\\nvalue = [165, 47]'),\n",
              " Text(0.07478739369684842, 0.8548387096774194, 'X[24] <= 0.258\\ngini = 0.452\\nsamples = 116\\nvalue = [76, 40]'),\n",
              " Text(0.07053526763381691, 0.8225806451612904, 'X[36] <= 0.041\\ngini = 0.491\\nsamples = 88\\nvalue = [50, 38]'),\n",
              " Text(0.06670001667500416, 0.7903225806451613, 'X[23] <= 0.013\\ngini = 0.496\\nsamples = 55\\nvalue = [25, 30]'),\n",
              " Text(0.06603301650825413, 0.7580645161290323, 'X[27] <= 0.042\\ngini = 0.48\\nsamples = 50\\nvalue = [20, 30]'),\n",
              " Text(0.06436551609137903, 0.7258064516129032, 'X[38] <= 0.427\\ngini = 0.433\\nsamples = 41\\nvalue = [13, 28]'),\n",
              " Text(0.06303151575787894, 0.6935483870967742, 'X[25] <= 0.458\\ngini = 0.375\\nsamples = 36\\nvalue = [9, 27]'),\n",
              " Text(0.0623645155911289, 0.6612903225806451, 'gini = 0.0\\nsamples = 9\\nvalue = [0, 9]'),\n",
              " Text(0.06369851592462898, 0.6612903225806451, 'X[25] <= 0.55\\ngini = 0.444\\nsamples = 27\\nvalue = [9, 18]'),\n",
              " Text(0.0623645155911289, 0.6290322580645161, 'X[38] <= 0.419\\ngini = 0.49\\nsamples = 14\\nvalue = [8, 6]'),\n",
              " Text(0.06169751542437885, 0.5967741935483871, 'X[4] <= 0.024\\ngini = 0.32\\nsamples = 10\\nvalue = [8, 2]'),\n",
              " Text(0.061030515257628815, 0.5645161290322581, 'gini = 0.0\\nsamples = 7\\nvalue = [7, 0]'),\n",
              " Text(0.0623645155911289, 0.5645161290322581, 'X[1] <= 0.072\\ngini = 0.444\\nsamples = 3\\nvalue = [1, 2]'),\n",
              " Text(0.06169751542437885, 0.532258064516129, 'gini = 0.0\\nsamples = 2\\nvalue = [0, 2]'),\n",
              " Text(0.06303151575787894, 0.532258064516129, 'gini = 0.0\\nsamples = 1\\nvalue = [1, 0]'),\n",
              " Text(0.06303151575787894, 0.5967741935483871, 'gini = 0.0\\nsamples = 4\\nvalue = [0, 4]'),\n",
              " Text(0.06503251625812906, 0.6290322580645161, 'X[27] <= 0.034\\ngini = 0.142\\nsamples = 13\\nvalue = [1, 12]'),\n",
              " Text(0.06436551609137903, 0.5967741935483871, 'gini = 0.0\\nsamples = 10\\nvalue = [0, 10]'),\n",
              " Text(0.0656995164248791, 0.5967741935483871, 'X[36] <= 0.017\\ngini = 0.444\\nsamples = 3\\nvalue = [1, 2]'),\n",
              " Text(0.06503251625812906, 0.5645161290322581, 'gini = 0.0\\nsamples = 1\\nvalue = [1, 0]'),\n",
              " Text(0.06636651659162915, 0.5645161290322581, 'gini = 0.0\\nsamples = 2\\nvalue = [0, 2]'),\n",
              " Text(0.0656995164248791, 0.6935483870967742, 'X[24] <= 0.232\\ngini = 0.32\\nsamples = 5\\nvalue = [4, 1]'),\n",
              " Text(0.06503251625812906, 0.6612903225806451, 'gini = 0.0\\nsamples = 4\\nvalue = [4, 0]'),\n",
              " Text(0.06636651659162915, 0.6612903225806451, 'gini = 0.0\\nsamples = 1\\nvalue = [0, 1]'),\n",
              " Text(0.06770051692512923, 0.7258064516129032, 'X[4] <= 0.036\\ngini = 0.346\\nsamples = 9\\nvalue = [7, 2]'),\n",
              " Text(0.0670335167583792, 0.6935483870967742, 'gini = 0.0\\nsamples = 6\\nvalue = [6, 0]'),\n",
              " Text(0.06836751709187927, 0.6935483870967742, 'X[36] <= 0.03\\ngini = 0.444\\nsamples = 3\\nvalue = [1, 2]'),\n",
              " Text(0.06770051692512923, 0.6612903225806451, 'gini = 0.0\\nsamples = 2\\nvalue = [0, 2]'),\n",
              " Text(0.06903451725862932, 0.6612903225806451, 'gini = 0.0\\nsamples = 1\\nvalue = [1, 0]'),\n",
              " Text(0.06736701684175421, 0.7580645161290323, 'gini = 0.0\\nsamples = 5\\nvalue = [5, 0]'),\n",
              " Text(0.07437051859262965, 0.7903225806451613, 'X[27] <= 0.03\\ngini = 0.367\\nsamples = 33\\nvalue = [25, 8]'),\n",
              " Text(0.07170251792562948, 0.7580645161290323, 'X[25] <= 0.41\\ngini = 0.172\\nsamples = 21\\nvalue = [19, 2]'),\n",
              " Text(0.07036851759212939, 0.7258064516129032, 'X[34] <= 0.829\\ngini = 0.5\\nsamples = 2\\nvalue = [1, 1]'),\n",
              " Text(0.06970151742537936, 0.6935483870967742, 'gini = 0.0\\nsamples = 1\\nvalue = [1, 0]'),\n",
              " Text(0.07103551775887944, 0.6935483870967742, 'gini = 0.0\\nsamples = 1\\nvalue = [0, 1]'),\n",
              " Text(0.07303651825912956, 0.7258064516129032, 'X[0] <= 0.826\\ngini = 0.1\\nsamples = 19\\nvalue = [18, 1]'),\n",
              " Text(0.07236951809237953, 0.6935483870967742, 'gini = 0.0\\nsamples = 16\\nvalue = [16, 0]'),\n",
              " Text(0.0737035184258796, 0.6935483870967742, 'X[26] <= 0.277\\ngini = 0.444\\nsamples = 3\\nvalue = [2, 1]'),\n",
              " Text(0.07303651825912956, 0.6612903225806451, 'gini = 0.0\\nsamples = 2\\nvalue = [2, 0]'),\n",
              " Text(0.07437051859262965, 0.6612903225806451, 'gini = 0.0\\nsamples = 1\\nvalue = [0, 1]'),\n",
              " Text(0.07703851925962982, 0.7580645161290323, 'X[26] <= 0.279\\ngini = 0.5\\nsamples = 12\\nvalue = [6, 6]'),\n",
              " Text(0.07570451892612973, 0.7258064516129032, 'X[25] <= 0.59\\ngini = 0.278\\nsamples = 6\\nvalue = [1, 5]'),\n",
              " Text(0.0750375187593797, 0.6935483870967742, 'gini = 0.0\\nsamples = 5\\nvalue = [0, 5]'),\n",
              " Text(0.07637151909287977, 0.6935483870967742, 'gini = 0.0\\nsamples = 1\\nvalue = [1, 0]'),\n",
              " Text(0.0783725195931299, 0.7258064516129032, 'X[34] <= 0.92\\ngini = 0.278\\nsamples = 6\\nvalue = [5, 1]'),\n",
              " Text(0.07770551942637986, 0.6935483870967742, 'gini = 0.0\\nsamples = 5\\nvalue = [5, 0]'),\n",
              " Text(0.07903951975987994, 0.6935483870967742, 'gini = 0.0\\nsamples = 1\\nvalue = [0, 1]'),\n",
              " Text(0.07903951975987994, 0.8225806451612904, 'X[0] <= 0.567\\ngini = 0.133\\nsamples = 28\\nvalue = [26, 2]'),\n",
              " Text(0.0783725195931299, 0.7903225806451613, 'gini = 0.0\\nsamples = 1\\nvalue = [0, 1]'),\n",
              " Text(0.07970651992662998, 0.7903225806451613, 'X[7] <= 0.069\\ngini = 0.071\\nsamples = 27\\nvalue = [26, 1]'),\n",
              " Text(0.07903951975987994, 0.7580645161290323, 'gini = 0.0\\nsamples = 24\\nvalue = [24, 0]'),\n",
              " Text(0.08037352009338003, 0.7580645161290323, 'X[31] <= 0.017\\ngini = 0.444\\nsamples = 3\\nvalue = [2, 1]'),\n",
              " Text(0.07970651992662998, 0.7258064516129032, 'gini = 0.5\\nsamples = 2\\nvalue = [1, 1]'),\n",
              " Text(0.08104052026013006, 0.7258064516129032, 'gini = 0.0\\nsamples = 1\\nvalue = [1, 0]'),\n",
              " Text(0.08337502084375521, 0.8548387096774194, 'X[26] <= 0.229\\ngini = 0.135\\nsamples = 96\\nvalue = [89, 7]'),\n",
              " Text(0.0817075204268801, 0.8225806451612904, 'X[25] <= 0.615\\ngini = 0.5\\nsamples = 6\\nvalue = [3, 3]'),\n",
              " Text(0.08104052026013006, 0.7903225806451613, 'gini = 0.0\\nsamples = 3\\nvalue = [0, 3]'),\n",
              " Text(0.08237452059363015, 0.7903225806451613, 'gini = 0.0\\nsamples = 3\\nvalue = [3, 0]'),\n",
              " Text(0.08504252126063032, 0.8225806451612904, 'X[25] <= 0.634\\ngini = 0.085\\nsamples = 90\\nvalue = [86, 4]'),\n",
              " Text(0.08370852092713023, 0.7903225806451613, 'X[3] <= 0.009\\ngini = 0.048\\nsamples = 81\\nvalue = [79, 2]'),\n",
              " Text(0.0830415207603802, 0.7580645161290323, 'gini = 0.0\\nsamples = 69\\nvalue = [69, 0]'),\n",
              " Text(0.08437552109388027, 0.7580645161290323, 'X[3] <= 0.023\\ngini = 0.278\\nsamples = 12\\nvalue = [10, 2]'),\n",
              " Text(0.08370852092713023, 0.7258064516129032, 'gini = 0.0\\nsamples = 1\\nvalue = [0, 1]'),\n",
              " Text(0.08504252126063032, 0.7258064516129032, 'X[24] <= 0.274\\ngini = 0.165\\nsamples = 11\\nvalue = [10, 1]'),\n",
              " Text(0.08437552109388027, 0.6935483870967742, 'gini = 0.0\\nsamples = 10\\nvalue = [10, 0]'),\n",
              " Text(0.08570952142738035, 0.6935483870967742, 'gini = 0.0\\nsamples = 1\\nvalue = [0, 1]'),\n",
              " Text(0.0863765215941304, 0.7903225806451613, 'X[34] <= 0.963\\ngini = 0.346\\nsamples = 9\\nvalue = [7, 2]'),\n",
              " Text(0.08570952142738035, 0.7580645161290323, 'gini = 0.0\\nsamples = 7\\nvalue = [7, 0]'),\n",
              " Text(0.08704352176088044, 0.7580645161290323, 'gini = 0.0\\nsamples = 2\\nvalue = [0, 2]'),\n",
              " Text(0.20251890268050693, 0.9193548387096774, 'X[26] <= 0.239\\ngini = 0.467\\nsamples = 1829\\nvalue = [1149, 680]'),\n",
              " Text(0.14274845756211438, 0.8870967741935484, 'X[1] <= 0.106\\ngini = 0.368\\nsamples = 700\\nvalue = [530, 170]'),\n",
              " Text(0.11888235784558947, 0.8548387096774194, 'X[2] <= 0.225\\ngini = 0.427\\nsamples = 366\\nvalue = [253, 113]'),\n",
              " Text(0.11261880940470236, 0.8225806451612904, 'X[3] <= 0.029\\ngini = 0.451\\nsamples = 321\\nvalue = [211, 110]'),\n",
              " Text(0.10513590128397532, 0.7903225806451613, 'X[7] <= 0.115\\ngini = 0.405\\nsamples = 216\\nvalue = [155, 61]'),\n",
              " Text(0.10055027513756878, 0.7580645161290323, 'X[2] <= 0.13\\ngini = 0.387\\nsamples = 206\\nvalue = [152, 54]'),\n",
              " Text(0.09338002334500584, 0.7258064516129032, 'X[1] <= 0.051\\ngini = 0.318\\nsamples = 141\\nvalue = [113, 28]'),\n",
              " Text(0.08704352176088044, 0.6935483870967742, 'X[38] <= 0.273\\ngini = 0.488\\nsamples = 26\\nvalue = [15, 11]'),\n",
              " Text(0.08570952142738035, 0.6612903225806451, 'X[24] <= 0.138\\ngini = 0.18\\nsamples = 10\\nvalue = [9, 1]'),\n",
              " Text(0.08504252126063032, 0.6290322580645161, 'X[24] <= 0.132\\ngini = 0.444\\nsamples = 3\\nvalue = [2, 1]'),\n",
              " Text(0.08437552109388027, 0.5967741935483871, 'gini = 0.0\\nsamples = 1\\nvalue = [1, 0]'),\n",
              " Text(0.08570952142738035, 0.5967741935483871, 'gini = 0.5\\nsamples = 2\\nvalue = [1, 1]'),\n",
              " Text(0.0863765215941304, 0.6290322580645161, 'gini = 0.0\\nsamples = 7\\nvalue = [7, 0]'),\n",
              " Text(0.08837752209438052, 0.6612903225806451, 'X[2] <= 0.057\\ngini = 0.469\\nsamples = 16\\nvalue = [6, 10]'),\n",
              " Text(0.08771052192763049, 0.6290322580645161, 'gini = 0.0\\nsamples = 5\\nvalue = [0, 5]'),\n",
              " Text(0.08904452226113056, 0.6290322580645161, 'X[27] <= 0.058\\ngini = 0.496\\nsamples = 11\\nvalue = [6, 5]'),\n",
              " Text(0.08771052192763049, 0.5967741935483871, 'X[26] <= 0.195\\ngini = 0.444\\nsamples = 6\\nvalue = [2, 4]'),\n",
              " Text(0.08704352176088044, 0.5645161290322581, 'X[24] <= 0.083\\ngini = 0.444\\nsamples = 3\\nvalue = [2, 1]'),\n",
              " Text(0.0863765215941304, 0.532258064516129, 'gini = 0.0\\nsamples = 1\\nvalue = [0, 1]'),\n",
              " Text(0.08771052192763049, 0.532258064516129, 'gini = 0.0\\nsamples = 2\\nvalue = [2, 0]'),\n",
              " Text(0.08837752209438052, 0.5645161290322581, 'gini = 0.0\\nsamples = 3\\nvalue = [0, 3]'),\n",
              " Text(0.09037852259463065, 0.5967741935483871, 'X[1] <= 0.016\\ngini = 0.32\\nsamples = 5\\nvalue = [4, 1]'),\n",
              " Text(0.08971152242788061, 0.5645161290322581, 'gini = 0.5\\nsamples = 2\\nvalue = [1, 1]'),\n",
              " Text(0.09104552276138068, 0.5645161290322581, 'gini = 0.0\\nsamples = 3\\nvalue = [3, 0]'),\n",
              " Text(0.09971652492913123, 0.6935483870967742, 'X[8] <= 0.058\\ngini = 0.252\\nsamples = 115\\nvalue = [98, 17]'),\n",
              " Text(0.09704852426213106, 0.6612903225806451, 'X[27] <= 0.034\\ngini = 0.22\\nsamples = 111\\nvalue = [97, 14]'),\n",
              " Text(0.09371352342838085, 0.6290322580645161, 'X[0] <= 0.862\\ngini = 0.397\\nsamples = 22\\nvalue = [16, 6]'),\n",
              " Text(0.09304652326163082, 0.5967741935483871, 'X[24] <= 0.073\\ngini = 0.32\\nsamples = 20\\nvalue = [16, 4]'),\n",
              " Text(0.09237952309488077, 0.5645161290322581, 'gini = 0.0\\nsamples = 1\\nvalue = [0, 1]'),\n",
              " Text(0.09371352342838085, 0.5645161290322581, 'X[24] <= 0.129\\ngini = 0.266\\nsamples = 19\\nvalue = [16, 3]'),\n",
              " Text(0.09304652326163082, 0.532258064516129, 'gini = 0.0\\nsamples = 9\\nvalue = [9, 0]'),\n",
              " Text(0.0943805235951309, 0.532258064516129, 'X[0] <= 0.795\\ngini = 0.42\\nsamples = 10\\nvalue = [7, 3]'),\n",
              " Text(0.09371352342838085, 0.5, 'gini = 0.0\\nsamples = 4\\nvalue = [4, 0]'),\n",
              " Text(0.09504752376188094, 0.5, 'X[38] <= 0.136\\ngini = 0.5\\nsamples = 6\\nvalue = [3, 3]'),\n",
              " Text(0.0943805235951309, 0.46774193548387094, 'gini = 0.0\\nsamples = 1\\nvalue = [0, 1]'),\n",
              " Text(0.09571452392863099, 0.46774193548387094, 'X[2] <= 0.095\\ngini = 0.48\\nsamples = 5\\nvalue = [3, 2]'),\n",
              " Text(0.09504752376188094, 0.43548387096774194, 'gini = 0.0\\nsamples = 2\\nvalue = [2, 0]'),\n",
              " Text(0.09638152409538102, 0.43548387096774194, 'X[26] <= 0.218\\ngini = 0.444\\nsamples = 3\\nvalue = [1, 2]'),\n",
              " Text(0.09571452392863099, 0.4032258064516129, 'gini = 0.0\\nsamples = 2\\nvalue = [0, 2]'),\n",
              " Text(0.09704852426213106, 0.4032258064516129, 'gini = 0.0\\nsamples = 1\\nvalue = [1, 0]'),\n",
              " Text(0.0943805235951309, 0.5967741935483871, 'gini = 0.0\\nsamples = 2\\nvalue = [0, 2]'),\n",
              " Text(0.10038352509588128, 0.6290322580645161, 'X[24] <= 0.265\\ngini = 0.164\\nsamples = 89\\nvalue = [81, 8]'),\n",
              " Text(0.09771552442888111, 0.5967741935483871, 'X[0] <= 0.664\\ngini = 0.101\\nsamples = 75\\nvalue = [71, 4]'),\n",
              " Text(0.09704852426213106, 0.5645161290322581, 'gini = 0.0\\nsamples = 1\\nvalue = [0, 1]'),\n",
              " Text(0.09838252459563115, 0.5645161290322581, 'X[26] <= 0.079\\ngini = 0.078\\nsamples = 74\\nvalue = [71, 3]'),\n",
              " Text(0.09704852426213106, 0.532258064516129, 'X[2] <= 0.026\\ngini = 0.5\\nsamples = 2\\nvalue = [1, 1]'),\n",
              " Text(0.09638152409538102, 0.5, 'gini = 0.0\\nsamples = 1\\nvalue = [1, 0]'),\n",
              " Text(0.09771552442888111, 0.5, 'gini = 0.0\\nsamples = 1\\nvalue = [0, 1]'),\n",
              " Text(0.09971652492913123, 0.532258064516129, 'X[0] <= 0.846\\ngini = 0.054\\nsamples = 72\\nvalue = [70, 2]'),\n",
              " Text(0.09904952476238119, 0.5, 'gini = 0.0\\nsamples = 58\\nvalue = [58, 0]'),\n",
              " Text(0.10038352509588128, 0.5, 'X[26] <= 0.195\\ngini = 0.245\\nsamples = 14\\nvalue = [12, 2]'),\n",
              " Text(0.09971652492913123, 0.46774193548387094, 'gini = 0.0\\nsamples = 7\\nvalue = [7, 0]'),\n",
              " Text(0.10105052526263132, 0.46774193548387094, 'X[1] <= 0.086\\ngini = 0.408\\nsamples = 7\\nvalue = [5, 2]'),\n",
              " Text(0.10038352509588128, 0.43548387096774194, 'X[25] <= 0.684\\ngini = 0.32\\nsamples = 5\\nvalue = [4, 1]'),\n",
              " Text(0.09971652492913123, 0.4032258064516129, 'gini = 0.375\\nsamples = 4\\nvalue = [3, 1]'),\n",
              " Text(0.10105052526263132, 0.4032258064516129, 'gini = 0.0\\nsamples = 1\\nvalue = [1, 0]'),\n",
              " Text(0.10171752542938135, 0.43548387096774194, 'gini = 0.5\\nsamples = 2\\nvalue = [1, 1]'),\n",
              " Text(0.10305152576288144, 0.5967741935483871, 'X[25] <= 0.446\\ngini = 0.408\\nsamples = 14\\nvalue = [10, 4]'),\n",
              " Text(0.10171752542938135, 0.5645161290322581, 'X[2] <= 0.082\\ngini = 0.18\\nsamples = 10\\nvalue = [9, 1]'),\n",
              " Text(0.10105052526263132, 0.532258064516129, 'gini = 0.0\\nsamples = 9\\nvalue = [9, 0]'),\n",
              " Text(0.1023845255961314, 0.532258064516129, 'gini = 0.0\\nsamples = 1\\nvalue = [0, 1]'),\n",
              " Text(0.10438552609638152, 0.5645161290322581, 'X[2] <= 0.095\\ngini = 0.375\\nsamples = 4\\nvalue = [1, 3]'),\n",
              " Text(0.10371852592963149, 0.532258064516129, 'gini = 0.0\\nsamples = 3\\nvalue = [0, 3]'),\n",
              " Text(0.10505252626313157, 0.532258064516129, 'gini = 0.0\\nsamples = 1\\nvalue = [1, 0]'),\n",
              " Text(0.1023845255961314, 0.6612903225806451, 'X[29] <= 0.022\\ngini = 0.375\\nsamples = 4\\nvalue = [1, 3]'),\n",
              " Text(0.10171752542938135, 0.6290322580645161, 'gini = 0.0\\nsamples = 3\\nvalue = [0, 3]'),\n",
              " Text(0.10305152576288144, 0.6290322580645161, 'gini = 0.0\\nsamples = 1\\nvalue = [1, 0]'),\n",
              " Text(0.10772052693013173, 0.7258064516129032, 'X[26] <= 0.18\\ngini = 0.48\\nsamples = 65\\nvalue = [39, 26]'),\n",
              " Text(0.10538602634650658, 0.6935483870967742, 'X[0] <= 0.811\\ngini = 0.111\\nsamples = 17\\nvalue = [16, 1]'),\n",
              " Text(0.10471902617975655, 0.6612903225806451, 'gini = 0.0\\nsamples = 15\\nvalue = [15, 0]'),\n",
              " Text(0.10605302651325663, 0.6612903225806451, 'X[24] <= 0.189\\ngini = 0.5\\nsamples = 2\\nvalue = [1, 1]'),\n",
              " Text(0.10538602634650658, 0.6290322580645161, 'gini = 0.0\\nsamples = 1\\nvalue = [0, 1]'),\n",
              " Text(0.10672002668000667, 0.6290322580645161, 'gini = 0.0\\nsamples = 1\\nvalue = [1, 0]'),\n",
              " Text(0.11005502751375688, 0.6935483870967742, 'X[0] <= 0.778\\ngini = 0.499\\nsamples = 48\\nvalue = [23, 25]'),\n",
              " Text(0.1087210271802568, 0.6612903225806451, 'X[4] <= 0.074\\ngini = 0.486\\nsamples = 36\\nvalue = [21, 15]'),\n",
              " Text(0.10805402701350675, 0.6290322580645161, 'X[26] <= 0.209\\ngini = 0.451\\nsamples = 32\\nvalue = [21, 11]'),\n",
              " Text(0.10738702684675672, 0.5967741935483871, 'gini = 0.0\\nsamples = 8\\nvalue = [8, 0]'),\n",
              " Text(0.1087210271802568, 0.5967741935483871, 'X[26] <= 0.227\\ngini = 0.497\\nsamples = 24\\nvalue = [13, 11]'),\n",
              " Text(0.10705352676338169, 0.5645161290322581, 'X[8] <= 0.028\\ngini = 0.346\\nsamples = 9\\nvalue = [2, 7]'),\n",
              " Text(0.10638652659663166, 0.532258064516129, 'X[24] <= 0.331\\ngini = 0.219\\nsamples = 8\\nvalue = [1, 7]'),\n",
              " Text(0.10571952642988161, 0.5, 'gini = 0.0\\nsamples = 7\\nvalue = [0, 7]'),\n",
              " Text(0.10705352676338169, 0.5, 'gini = 0.0\\nsamples = 1\\nvalue = [1, 0]'),\n",
              " Text(0.10772052693013173, 0.532258064516129, 'gini = 0.0\\nsamples = 1\\nvalue = [1, 0]'),\n",
              " Text(0.1103885275971319, 0.5645161290322581, 'X[38] <= 0.252\\ngini = 0.391\\nsamples = 15\\nvalue = [11, 4]'),\n",
              " Text(0.10905452726363181, 0.532258064516129, 'X[0] <= 0.766\\ngini = 0.375\\nsamples = 4\\nvalue = [1, 3]'),\n",
              " Text(0.10838752709688178, 0.5, 'gini = 0.0\\nsamples = 2\\nvalue = [0, 2]'),\n",
              " Text(0.10972152743038185, 0.5, 'X[38] <= 0.115\\ngini = 0.5\\nsamples = 2\\nvalue = [1, 1]'),\n",
              " Text(0.10905452726363181, 0.46774193548387094, 'gini = 0.0\\nsamples = 1\\nvalue = [1, 0]'),\n",
              " Text(0.1103885275971319, 0.46774193548387094, 'gini = 0.0\\nsamples = 1\\nvalue = [0, 1]'),\n",
              " Text(0.11172252793063198, 0.532258064516129, 'X[7] <= 0.057\\ngini = 0.165\\nsamples = 11\\nvalue = [10, 1]'),\n",
              " Text(0.11105552776388194, 0.5, 'gini = 0.0\\nsamples = 10\\nvalue = [10, 0]'),\n",
              " Text(0.11238952809738202, 0.5, 'gini = 0.0\\nsamples = 1\\nvalue = [0, 1]'),\n",
              " Text(0.10938802734700684, 0.6290322580645161, 'gini = 0.0\\nsamples = 4\\nvalue = [0, 4]'),\n",
              " Text(0.11138902784725696, 0.6612903225806451, 'X[25] <= 0.692\\ngini = 0.278\\nsamples = 12\\nvalue = [2, 10]'),\n",
              " Text(0.11072202768050692, 0.6290322580645161, 'gini = 0.0\\nsamples = 10\\nvalue = [0, 10]'),\n",
              " Text(0.112056028014007, 0.6290322580645161, 'gini = 0.0\\nsamples = 2\\nvalue = [2, 0]'),\n",
              " Text(0.10972152743038185, 0.7580645161290323, 'X[23] <= 0.025\\ngini = 0.42\\nsamples = 10\\nvalue = [3, 7]'),\n",
              " Text(0.10905452726363181, 0.7258064516129032, 'gini = 0.0\\nsamples = 7\\nvalue = [0, 7]'),\n",
              " Text(0.1103885275971319, 0.7258064516129032, 'gini = 0.0\\nsamples = 3\\nvalue = [3, 0]'),\n",
              " Text(0.12010171752542938, 0.7903225806451613, 'X[3] <= 0.039\\ngini = 0.498\\nsamples = 105\\nvalue = [56, 49]'),\n",
              " Text(0.11639152909788228, 0.7580645161290323, 'X[1] <= 0.066\\ngini = 0.426\\nsamples = 39\\nvalue = [12, 27]'),\n",
              " Text(0.11572452893113223, 0.7258064516129032, 'gini = 0.0\\nsamples = 12\\nvalue = [0, 12]'),\n",
              " Text(0.11705852926463231, 0.7258064516129032, 'X[0] <= 0.789\\ngini = 0.494\\nsamples = 27\\nvalue = [12, 15]'),\n",
              " Text(0.11639152909788228, 0.6935483870967742, 'X[26] <= 0.193\\ngini = 0.469\\nsamples = 24\\nvalue = [9, 15]'),\n",
              " Text(0.11572452893113223, 0.6612903225806451, 'gini = 0.0\\nsamples = 4\\nvalue = [0, 4]'),\n",
              " Text(0.11705852926463231, 0.6612903225806451, 'X[2] <= 0.18\\ngini = 0.495\\nsamples = 20\\nvalue = [9, 11]'),\n",
              " Text(0.11639152909788228, 0.6290322580645161, 'X[0] <= 0.768\\ngini = 0.498\\nsamples = 17\\nvalue = [9, 8]'),\n",
              " Text(0.11572452893113223, 0.5967741935483871, 'X[7] <= 0.016\\ngini = 0.48\\nsamples = 15\\nvalue = [9, 6]'),\n",
              " Text(0.11505752876438219, 0.5645161290322581, 'X[25] <= 0.604\\ngini = 0.426\\nsamples = 13\\nvalue = [9, 4]'),\n",
              " Text(0.11439052859763214, 0.532258064516129, 'X[38] <= 0.203\\ngini = 0.494\\nsamples = 9\\nvalue = [5, 4]'),\n",
              " Text(0.11372352843088211, 0.5, 'gini = 0.0\\nsamples = 2\\nvalue = [0, 2]'),\n",
              " Text(0.11505752876438219, 0.5, 'X[2] <= 0.102\\ngini = 0.408\\nsamples = 7\\nvalue = [5, 2]'),\n",
              " Text(0.11439052859763214, 0.46774193548387094, 'X[0] <= 0.7\\ngini = 0.444\\nsamples = 3\\nvalue = [1, 2]'),\n",
              " Text(0.11372352843088211, 0.43548387096774194, 'gini = 0.0\\nsamples = 1\\nvalue = [1, 0]'),\n",
              " Text(0.11505752876438219, 0.43548387096774194, 'gini = 0.0\\nsamples = 2\\nvalue = [0, 2]'),\n",
              " Text(0.11572452893113223, 0.46774193548387094, 'gini = 0.0\\nsamples = 4\\nvalue = [4, 0]'),\n",
              " Text(0.11572452893113223, 0.532258064516129, 'gini = 0.0\\nsamples = 4\\nvalue = [4, 0]'),\n",
              " Text(0.11639152909788228, 0.5645161290322581, 'gini = 0.0\\nsamples = 2\\nvalue = [0, 2]'),\n",
              " Text(0.11705852926463231, 0.5967741935483871, 'gini = 0.0\\nsamples = 2\\nvalue = [0, 2]'),\n",
              " Text(0.11772552943138236, 0.6290322580645161, 'gini = 0.0\\nsamples = 3\\nvalue = [0, 3]'),\n",
              " Text(0.11772552943138236, 0.6935483870967742, 'gini = 0.0\\nsamples = 3\\nvalue = [3, 0]'),\n",
              " Text(0.12381190595297649, 0.7580645161290323, 'X[26] <= 0.146\\ngini = 0.444\\nsamples = 66\\nvalue = [44, 22]'),\n",
              " Text(0.12314490578622644, 0.7258064516129032, 'gini = 0.0\\nsamples = 12\\nvalue = [12, 0]'),\n",
              " Text(0.12447890611972653, 0.7258064516129032, 'X[0] <= 0.628\\ngini = 0.483\\nsamples = 54\\nvalue = [32, 22]'),\n",
              " Text(0.12381190595297649, 0.6935483870967742, 'gini = 0.0\\nsamples = 5\\nvalue = [0, 5]'),\n",
              " Text(0.12514590628647657, 0.6935483870967742, 'X[2] <= 0.18\\ngini = 0.453\\nsamples = 49\\nvalue = [32, 17]'),\n",
              " Text(0.12189428047357012, 0.6612903225806451, 'X[3] <= 0.087\\ngini = 0.498\\nsamples = 30\\nvalue = [16, 14]'),\n",
              " Text(0.12122728030682008, 0.6290322580645161, 'X[3] <= 0.043\\ngini = 0.497\\nsamples = 26\\nvalue = [12, 14]'),\n",
              " Text(0.1183925295981324, 0.5967741935483871, 'X[26] <= 0.183\\ngini = 0.278\\nsamples = 6\\nvalue = [5, 1]'),\n",
              " Text(0.11772552943138236, 0.5645161290322581, 'gini = 0.0\\nsamples = 4\\nvalue = [4, 0]'),\n",
              " Text(0.11905952976488245, 0.5645161290322581, 'X[0] <= 0.74\\ngini = 0.5\\nsamples = 2\\nvalue = [1, 1]'),\n",
              " Text(0.1183925295981324, 0.532258064516129, 'gini = 0.0\\nsamples = 1\\nvalue = [0, 1]'),\n",
              " Text(0.11972652993163248, 0.532258064516129, 'gini = 0.0\\nsamples = 1\\nvalue = [1, 0]'),\n",
              " Text(0.12406203101550775, 0.5967741935483871, 'X[27] <= 0.098\\ngini = 0.455\\nsamples = 20\\nvalue = [7, 13]'),\n",
              " Text(0.12239453059863264, 0.5645161290322581, 'X[2] <= 0.17\\ngini = 0.32\\nsamples = 15\\nvalue = [3, 12]'),\n",
              " Text(0.12106053026513257, 0.532258064516129, 'X[27] <= 0.089\\ngini = 0.153\\nsamples = 12\\nvalue = [1, 11]'),\n",
              " Text(0.12039353009838252, 0.5, 'gini = 0.0\\nsamples = 9\\nvalue = [0, 9]'),\n",
              " Text(0.12172753043188261, 0.5, 'X[3] <= 0.047\\ngini = 0.444\\nsamples = 3\\nvalue = [1, 2]'),\n",
              " Text(0.12106053026513257, 0.46774193548387094, 'gini = 0.0\\nsamples = 1\\nvalue = [1, 0]'),\n",
              " Text(0.12239453059863264, 0.46774193548387094, 'gini = 0.0\\nsamples = 2\\nvalue = [0, 2]'),\n",
              " Text(0.12372853093213274, 0.532258064516129, 'X[27] <= 0.065\\ngini = 0.444\\nsamples = 3\\nvalue = [2, 1]'),\n",
              " Text(0.12306153076538269, 0.5, 'gini = 0.0\\nsamples = 2\\nvalue = [2, 0]'),\n",
              " Text(0.12439553109888278, 0.5, 'gini = 0.0\\nsamples = 1\\nvalue = [0, 1]'),\n",
              " Text(0.12572953143238286, 0.5645161290322581, 'X[27] <= 0.15\\ngini = 0.32\\nsamples = 5\\nvalue = [4, 1]'),\n",
              " Text(0.12506253126563283, 0.532258064516129, 'gini = 0.0\\nsamples = 4\\nvalue = [4, 0]'),\n",
              " Text(0.1263965315991329, 0.532258064516129, 'gini = 0.0\\nsamples = 1\\nvalue = [0, 1]'),\n",
              " Text(0.12256128064032017, 0.6290322580645161, 'gini = 0.0\\nsamples = 4\\nvalue = [4, 0]'),\n",
              " Text(0.12839753209938304, 0.6612903225806451, 'X[25] <= 0.566\\ngini = 0.266\\nsamples = 19\\nvalue = [16, 3]'),\n",
              " Text(0.12706353176588295, 0.6290322580645161, 'X[0] <= 0.695\\ngini = 0.117\\nsamples = 16\\nvalue = [15, 1]'),\n",
              " Text(0.1263965315991329, 0.5967741935483871, 'gini = 0.0\\nsamples = 13\\nvalue = [13, 0]'),\n",
              " Text(0.12773053193263298, 0.5967741935483871, 'X[1] <= 0.046\\ngini = 0.444\\nsamples = 3\\nvalue = [2, 1]'),\n",
              " Text(0.12706353176588295, 0.5645161290322581, 'gini = 0.0\\nsamples = 2\\nvalue = [2, 0]'),\n",
              " Text(0.12839753209938304, 0.5645161290322581, 'gini = 0.0\\nsamples = 1\\nvalue = [0, 1]'),\n",
              " Text(0.1297315324328831, 0.6290322580645161, 'X[1] <= 0.071\\ngini = 0.444\\nsamples = 3\\nvalue = [1, 2]'),\n",
              " Text(0.12906453226613307, 0.5967741935483871, 'gini = 0.0\\nsamples = 1\\nvalue = [1, 0]'),\n",
              " Text(0.13039853259963316, 0.5967741935483871, 'gini = 0.0\\nsamples = 2\\nvalue = [0, 2]'),\n",
              " Text(0.12514590628647657, 0.8225806451612904, 'X[0] <= 0.631\\ngini = 0.124\\nsamples = 45\\nvalue = [42, 3]'),\n",
              " Text(0.12447890611972653, 0.7903225806451613, 'gini = 0.0\\nsamples = 33\\nvalue = [33, 0]'),\n",
              " Text(0.12581290645322663, 0.7903225806451613, 'X[3] <= 0.02\\ngini = 0.375\\nsamples = 12\\nvalue = [9, 3]'),\n",
              " Text(0.12514590628647657, 0.7580645161290323, 'gini = 0.0\\nsamples = 8\\nvalue = [8, 0]'),\n",
              " Text(0.12647990661997666, 0.7580645161290323, 'X[1] <= 0.085\\ngini = 0.375\\nsamples = 4\\nvalue = [1, 3]'),\n",
              " Text(0.12581290645322663, 0.7258064516129032, 'gini = 0.0\\nsamples = 3\\nvalue = [0, 3]'),\n",
              " Text(0.1271469067867267, 0.7258064516129032, 'gini = 0.0\\nsamples = 1\\nvalue = [1, 0]'),\n",
              " Text(0.16661455727863933, 0.8548387096774194, 'X[4] <= 0.105\\ngini = 0.283\\nsamples = 334\\nvalue = [277, 57]'),\n",
              " Text(0.16347757211939304, 0.8225806451612904, 'X[23] <= 0.163\\ngini = 0.264\\nsamples = 319\\nvalue = [269, 50]'),\n",
              " Text(0.15920460230115058, 0.7903225806451613, 'X[26] <= 0.232\\ngini = 0.254\\nsamples = 315\\nvalue = [268, 47]'),\n",
              " Text(0.1526596631649158, 0.7580645161290323, 'X[24] <= 0.282\\ngini = 0.223\\nsamples = 282\\nvalue = [246, 36]'),\n",
              " Text(0.14623978655994663, 0.7258064516129032, 'X[3] <= 0.044\\ngini = 0.255\\nsamples = 220\\nvalue = [187, 33]'),\n",
              " Text(0.13906953476738368, 0.6935483870967742, 'X[25] <= 0.546\\ngini = 0.202\\nsamples = 167\\nvalue = [148, 19]'),\n",
              " Text(0.13473403368350842, 0.6612903225806451, 'X[38] <= 0.396\\ngini = 0.432\\nsamples = 19\\nvalue = [13, 6]'),\n",
              " Text(0.1330665332666333, 0.6290322580645161, 'X[2] <= 0.105\\ngini = 0.32\\nsamples = 15\\nvalue = [12, 3]'),\n",
              " Text(0.13173253293313322, 0.5967741935483871, 'X[26] <= 0.22\\ngini = 0.444\\nsamples = 3\\nvalue = [1, 2]'),\n",
              " Text(0.1310655327663832, 0.5645161290322581, 'gini = 0.0\\nsamples = 2\\nvalue = [0, 2]'),\n",
              " Text(0.13239953309988328, 0.5645161290322581, 'gini = 0.0\\nsamples = 1\\nvalue = [1, 0]'),\n",
              " Text(0.1344005336001334, 0.5967741935483871, 'X[24] <= 0.196\\ngini = 0.153\\nsamples = 12\\nvalue = [11, 1]'),\n",
              " Text(0.13373353343338334, 0.5645161290322581, 'X[2] <= 0.135\\ngini = 0.5\\nsamples = 2\\nvalue = [1, 1]'),\n",
              " Text(0.1330665332666333, 0.532258064516129, 'gini = 0.0\\nsamples = 1\\nvalue = [1, 0]'),\n",
              " Text(0.1344005336001334, 0.532258064516129, 'gini = 0.0\\nsamples = 1\\nvalue = [0, 1]'),\n",
              " Text(0.13506753376688344, 0.5645161290322581, 'gini = 0.0\\nsamples = 10\\nvalue = [10, 0]'),\n",
              " Text(0.13640153410038353, 0.6290322580645161, 'X[31] <= 0.019\\ngini = 0.375\\nsamples = 4\\nvalue = [1, 3]'),\n",
              " Text(0.1357345339336335, 0.5967741935483871, 'gini = 0.0\\nsamples = 3\\nvalue = [0, 3]'),\n",
              " Text(0.13706853426713356, 0.5967741935483871, 'gini = 0.0\\nsamples = 1\\nvalue = [1, 0]'),\n",
              " Text(0.14340503585125897, 0.6612903225806451, 'X[29] <= 0.016\\ngini = 0.16\\nsamples = 148\\nvalue = [135, 13]'),\n",
              " Text(0.14107053526763383, 0.6290322580645161, 'X[25] <= 0.845\\ngini = 0.14\\nsamples = 145\\nvalue = [134, 11]'),\n",
              " Text(0.13840253460063365, 0.5967741935483871, 'X[7] <= 0.039\\ngini = 0.121\\nsamples = 139\\nvalue = [130, 9]'),\n",
              " Text(0.13640153410038353, 0.5645161290322581, 'X[2] <= 0.051\\ngini = 0.1\\nsamples = 132\\nvalue = [125, 7]'),\n",
              " Text(0.1357345339336335, 0.532258064516129, 'gini = 0.0\\nsamples = 47\\nvalue = [47, 0]'),\n",
              " Text(0.13706853426713356, 0.532258064516129, 'X[0] <= 0.827\\ngini = 0.151\\nsamples = 85\\nvalue = [78, 7]'),\n",
              " Text(0.13640153410038353, 0.5, 'X[25] <= 0.742\\ngini = 0.133\\nsamples = 84\\nvalue = [78, 6]'),\n",
              " Text(0.13506753376688344, 0.46774193548387094, 'X[27] <= 0.039\\ngini = 0.096\\nsamples = 79\\nvalue = [75, 4]'),\n",
              " Text(0.1344005336001334, 0.43548387096774194, 'gini = 0.0\\nsamples = 49\\nvalue = [49, 0]'),\n",
              " Text(0.1357345339336335, 0.43548387096774194, 'X[2] <= 0.128\\ngini = 0.231\\nsamples = 30\\nvalue = [26, 4]'),\n",
              " Text(0.1340670335167584, 0.4032258064516129, 'X[25] <= 0.689\\ngini = 0.142\\nsamples = 26\\nvalue = [24, 2]'),\n",
              " Text(0.1327330331832583, 0.3709677419354839, 'X[24] <= 0.098\\ngini = 0.083\\nsamples = 23\\nvalue = [22, 1]'),\n",
              " Text(0.13206603301650827, 0.3387096774193548, 'X[26] <= 0.186\\ngini = 0.198\\nsamples = 9\\nvalue = [8, 1]'),\n",
              " Text(0.1313990328497582, 0.3064516129032258, 'gini = 0.0\\nsamples = 6\\nvalue = [6, 0]'),\n",
              " Text(0.1327330331832583, 0.3064516129032258, 'X[1] <= 0.167\\ngini = 0.444\\nsamples = 3\\nvalue = [2, 1]'),\n",
              " Text(0.13206603301650827, 0.27419354838709675, 'gini = 0.0\\nsamples = 1\\nvalue = [0, 1]'),\n",
              " Text(0.13340003335000833, 0.27419354838709675, 'gini = 0.0\\nsamples = 2\\nvalue = [2, 0]'),\n",
              " Text(0.13340003335000833, 0.3387096774193548, 'gini = 0.0\\nsamples = 14\\nvalue = [14, 0]'),\n",
              " Text(0.13540103385025845, 0.3709677419354839, 'X[0] <= 0.766\\ngini = 0.444\\nsamples = 3\\nvalue = [2, 1]'),\n",
              " Text(0.13473403368350842, 0.3387096774193548, 'gini = 0.0\\nsamples = 1\\nvalue = [1, 0]'),\n",
              " Text(0.1360680340170085, 0.3387096774193548, 'gini = 0.5\\nsamples = 2\\nvalue = [1, 1]'),\n",
              " Text(0.1374020343505086, 0.4032258064516129, 'X[24] <= 0.133\\ngini = 0.5\\nsamples = 4\\nvalue = [2, 2]'),\n",
              " Text(0.13673503418375854, 0.3709677419354839, 'gini = 0.0\\nsamples = 2\\nvalue = [0, 2]'),\n",
              " Text(0.13806903451725863, 0.3709677419354839, 'gini = 0.0\\nsamples = 2\\nvalue = [2, 0]'),\n",
              " Text(0.13773553443388362, 0.46774193548387094, 'X[0] <= 0.777\\ngini = 0.48\\nsamples = 5\\nvalue = [3, 2]'),\n",
              " Text(0.13706853426713356, 0.43548387096774194, 'gini = 0.0\\nsamples = 3\\nvalue = [3, 0]'),\n",
              " Text(0.13840253460063365, 0.43548387096774194, 'gini = 0.0\\nsamples = 2\\nvalue = [0, 2]'),\n",
              " Text(0.13773553443388362, 0.5, 'gini = 0.0\\nsamples = 1\\nvalue = [0, 1]'),\n",
              " Text(0.14040353510088377, 0.5645161290322581, 'X[7] <= 0.051\\ngini = 0.408\\nsamples = 7\\nvalue = [5, 2]'),\n",
              " Text(0.13973653493413374, 0.532258064516129, 'X[1] <= 0.128\\ngini = 0.444\\nsamples = 3\\nvalue = [1, 2]'),\n",
              " Text(0.13906953476738368, 0.5, 'gini = 0.0\\nsamples = 1\\nvalue = [1, 0]'),\n",
              " Text(0.14040353510088377, 0.5, 'gini = 0.0\\nsamples = 2\\nvalue = [0, 2]'),\n",
              " Text(0.14107053526763383, 0.532258064516129, 'gini = 0.0\\nsamples = 4\\nvalue = [4, 0]'),\n",
              " Text(0.14373853593463398, 0.5967741935483871, 'X[26] <= 0.121\\ngini = 0.444\\nsamples = 6\\nvalue = [4, 2]'),\n",
              " Text(0.14307153576788395, 0.5645161290322581, 'X[25] <= 0.941\\ngini = 0.444\\nsamples = 3\\nvalue = [1, 2]'),\n",
              " Text(0.1424045356011339, 0.532258064516129, 'gini = 0.0\\nsamples = 2\\nvalue = [0, 2]'),\n",
              " Text(0.14373853593463398, 0.532258064516129, 'gini = 0.0\\nsamples = 1\\nvalue = [1, 0]'),\n",
              " Text(0.144405536101384, 0.5645161290322581, 'gini = 0.0\\nsamples = 3\\nvalue = [3, 0]'),\n",
              " Text(0.1457395364348841, 0.6290322580645161, 'X[31] <= 0.069\\ngini = 0.444\\nsamples = 3\\nvalue = [1, 2]'),\n",
              " Text(0.14507253626813407, 0.5967741935483871, 'gini = 0.0\\nsamples = 2\\nvalue = [0, 2]'),\n",
              " Text(0.14640653660163416, 0.5967741935483871, 'gini = 0.0\\nsamples = 1\\nvalue = [1, 0]'),\n",
              " Text(0.15341003835250958, 0.6935483870967742, 'X[1] <= 0.152\\ngini = 0.389\\nsamples = 53\\nvalue = [39, 14]'),\n",
              " Text(0.15107553776888444, 0.6612903225806451, 'X[0] <= 0.742\\ngini = 0.48\\nsamples = 30\\nvalue = [18, 12]'),\n",
              " Text(0.14840753710188428, 0.6290322580645161, 'X[1] <= 0.121\\ngini = 0.423\\nsamples = 23\\nvalue = [16, 7]'),\n",
              " Text(0.14774053693513423, 0.5967741935483871, 'gini = 0.0\\nsamples = 5\\nvalue = [5, 0]'),\n",
              " Text(0.14907453726863432, 0.5967741935483871, 'X[26] <= 0.216\\ngini = 0.475\\nsamples = 18\\nvalue = [11, 7]'),\n",
              " Text(0.1470735367683842, 0.5645161290322581, 'X[27] <= 0.057\\ngini = 0.375\\nsamples = 12\\nvalue = [9, 3]'),\n",
              " Text(0.14640653660163416, 0.532258064516129, 'gini = 0.0\\nsamples = 6\\nvalue = [6, 0]'),\n",
              " Text(0.14774053693513423, 0.532258064516129, 'X[3] <= 0.081\\ngini = 0.5\\nsamples = 6\\nvalue = [3, 3]'),\n",
              " Text(0.1470735367683842, 0.5, 'X[38] <= 0.279\\ngini = 0.375\\nsamples = 4\\nvalue = [1, 3]'),\n",
              " Text(0.14640653660163416, 0.46774193548387094, 'gini = 0.5\\nsamples = 2\\nvalue = [1, 1]'),\n",
              " Text(0.14774053693513423, 0.46774193548387094, 'gini = 0.0\\nsamples = 2\\nvalue = [0, 2]'),\n",
              " Text(0.14840753710188428, 0.5, 'gini = 0.0\\nsamples = 2\\nvalue = [2, 0]'),\n",
              " Text(0.15107553776888444, 0.5645161290322581, 'X[0] <= 0.641\\ngini = 0.444\\nsamples = 6\\nvalue = [2, 4]'),\n",
              " Text(0.1504085376021344, 0.532258064516129, 'X[38] <= 0.239\\ngini = 0.444\\nsamples = 3\\nvalue = [2, 1]'),\n",
              " Text(0.14974153743538435, 0.5, 'gini = 0.0\\nsamples = 1\\nvalue = [0, 1]'),\n",
              " Text(0.15107553776888444, 0.5, 'gini = 0.0\\nsamples = 2\\nvalue = [2, 0]'),\n",
              " Text(0.1517425379356345, 0.532258064516129, 'gini = 0.0\\nsamples = 3\\nvalue = [0, 3]'),\n",
              " Text(0.15374353843588462, 0.6290322580645161, 'X[0] <= 0.795\\ngini = 0.408\\nsamples = 7\\nvalue = [2, 5]'),\n",
              " Text(0.15307653826913456, 0.5967741935483871, 'X[27] <= 0.025\\ngini = 0.278\\nsamples = 6\\nvalue = [1, 5]'),\n",
              " Text(0.15240953810238453, 0.5645161290322581, 'gini = 0.0\\nsamples = 3\\nvalue = [0, 3]'),\n",
              " Text(0.15374353843588462, 0.5645161290322581, 'X[2] <= 0.053\\ngini = 0.444\\nsamples = 3\\nvalue = [1, 2]'),\n",
              " Text(0.15307653826913456, 0.532258064516129, 'gini = 0.5\\nsamples = 2\\nvalue = [1, 1]'),\n",
              " Text(0.15441053860263465, 0.532258064516129, 'gini = 0.0\\nsamples = 1\\nvalue = [0, 1]'),\n",
              " Text(0.15441053860263465, 0.5967741935483871, 'gini = 0.0\\nsamples = 1\\nvalue = [1, 0]'),\n",
              " Text(0.15574453893613474, 0.6612903225806451, 'X[26] <= 0.09\\ngini = 0.159\\nsamples = 23\\nvalue = [21, 2]'),\n",
              " Text(0.15507753876938468, 0.6290322580645161, 'gini = 0.0\\nsamples = 1\\nvalue = [0, 1]'),\n",
              " Text(0.15641153910288477, 0.6290322580645161, 'X[1] <= 0.343\\ngini = 0.087\\nsamples = 22\\nvalue = [21, 1]'),\n",
              " Text(0.15574453893613474, 0.5967741935483871, 'gini = 0.0\\nsamples = 20\\nvalue = [20, 0]'),\n",
              " Text(0.1570785392696348, 0.5967741935483871, 'X[3] <= 0.079\\ngini = 0.5\\nsamples = 2\\nvalue = [1, 1]'),\n",
              " Text(0.15641153910288477, 0.5645161290322581, 'gini = 0.0\\nsamples = 1\\nvalue = [0, 1]'),\n",
              " Text(0.15774553943638486, 0.5645161290322581, 'gini = 0.0\\nsamples = 1\\nvalue = [1, 0]'),\n",
              " Text(0.15907953976988495, 0.7258064516129032, 'X[26] <= 0.218\\ngini = 0.092\\nsamples = 62\\nvalue = [59, 3]'),\n",
              " Text(0.15774553943638486, 0.6935483870967742, 'X[29] <= 0.098\\ngini = 0.034\\nsamples = 58\\nvalue = [57, 1]'),\n",
              " Text(0.1570785392696348, 0.6612903225806451, 'gini = 0.0\\nsamples = 55\\nvalue = [55, 0]'),\n",
              " Text(0.1584125396031349, 0.6612903225806451, 'X[24] <= 0.548\\ngini = 0.444\\nsamples = 3\\nvalue = [2, 1]'),\n",
              " Text(0.15774553943638486, 0.6290322580645161, 'gini = 0.0\\nsamples = 2\\nvalue = [2, 0]'),\n",
              " Text(0.15907953976988495, 0.6290322580645161, 'gini = 0.0\\nsamples = 1\\nvalue = [0, 1]'),\n",
              " Text(0.16041354010338502, 0.6935483870967742, 'X[0] <= 0.611\\ngini = 0.5\\nsamples = 4\\nvalue = [2, 2]'),\n",
              " Text(0.15974653993663498, 0.6612903225806451, 'gini = 0.0\\nsamples = 2\\nvalue = [2, 0]'),\n",
              " Text(0.16108054027013508, 0.6612903225806451, 'gini = 0.0\\nsamples = 2\\nvalue = [0, 2]'),\n",
              " Text(0.16574954143738535, 0.7580645161290323, 'X[27] <= 0.017\\ngini = 0.444\\nsamples = 33\\nvalue = [22, 11]'),\n",
              " Text(0.16374854093713523, 0.7258064516129032, 'X[2] <= 0.147\\ngini = 0.426\\nsamples = 13\\nvalue = [4, 9]'),\n",
              " Text(0.1630815407703852, 0.6935483870967742, 'X[1] <= 0.16\\ngini = 0.298\\nsamples = 11\\nvalue = [2, 9]'),\n",
              " Text(0.16241454060363514, 0.6612903225806451, 'gini = 0.0\\nsamples = 6\\nvalue = [0, 6]'),\n",
              " Text(0.16374854093713523, 0.6612903225806451, 'X[33] <= 0.941\\ngini = 0.48\\nsamples = 5\\nvalue = [2, 3]'),\n",
              " Text(0.1630815407703852, 0.6290322580645161, 'gini = 0.0\\nsamples = 1\\nvalue = [0, 1]'),\n",
              " Text(0.1644155411038853, 0.6290322580645161, 'X[2] <= 0.088\\ngini = 0.5\\nsamples = 4\\nvalue = [2, 2]'),\n",
              " Text(0.16374854093713523, 0.5967741935483871, 'gini = 0.0\\nsamples = 1\\nvalue = [0, 1]'),\n",
              " Text(0.16508254127063532, 0.5967741935483871, 'X[3] <= 0.029\\ngini = 0.444\\nsamples = 3\\nvalue = [2, 1]'),\n",
              " Text(0.1644155411038853, 0.5645161290322581, 'gini = 0.0\\nsamples = 1\\nvalue = [0, 1]'),\n",
              " Text(0.16574954143738535, 0.5645161290322581, 'gini = 0.0\\nsamples = 2\\nvalue = [2, 0]'),\n",
              " Text(0.1644155411038853, 0.6935483870967742, 'gini = 0.0\\nsamples = 2\\nvalue = [2, 0]'),\n",
              " Text(0.16775054193763547, 0.7258064516129032, 'X[7] <= 0.079\\ngini = 0.18\\nsamples = 20\\nvalue = [18, 2]'),\n",
              " Text(0.16708354177088544, 0.6935483870967742, 'X[27] <= 0.04\\ngini = 0.1\\nsamples = 19\\nvalue = [18, 1]'),\n",
              " Text(0.1664165416041354, 0.6612903225806451, 'X[2] <= 0.083\\ngini = 0.245\\nsamples = 7\\nvalue = [6, 1]'),\n",
              " Text(0.16574954143738535, 0.6290322580645161, 'gini = 0.0\\nsamples = 3\\nvalue = [3, 0]'),\n",
              " Text(0.16708354177088544, 0.6290322580645161, 'X[1] <= 0.15\\ngini = 0.375\\nsamples = 4\\nvalue = [3, 1]'),\n",
              " Text(0.1664165416041354, 0.5967741935483871, 'gini = 0.0\\nsamples = 3\\nvalue = [3, 0]'),\n",
              " Text(0.16775054193763547, 0.5967741935483871, 'gini = 0.0\\nsamples = 1\\nvalue = [0, 1]'),\n",
              " Text(0.16775054193763547, 0.6612903225806451, 'gini = 0.0\\nsamples = 12\\nvalue = [12, 0]'),\n",
              " Text(0.16841754210438553, 0.6935483870967742, 'gini = 0.0\\nsamples = 1\\nvalue = [0, 1]'),\n",
              " Text(0.16775054193763547, 0.7903225806451613, 'X[1] <= 0.222\\ngini = 0.375\\nsamples = 4\\nvalue = [1, 3]'),\n",
              " Text(0.16708354177088544, 0.7580645161290323, 'gini = 0.0\\nsamples = 1\\nvalue = [1, 0]'),\n",
              " Text(0.16841754210438553, 0.7580645161290323, 'gini = 0.0\\nsamples = 3\\nvalue = [0, 3]'),\n",
              " Text(0.16975154243788562, 0.8225806451612904, 'X[4] <= 0.122\\ngini = 0.498\\nsamples = 15\\nvalue = [8, 7]'),\n",
              " Text(0.16908454227113556, 0.7903225806451613, 'gini = 0.0\\nsamples = 4\\nvalue = [0, 4]'),\n",
              " Text(0.17041854260463565, 0.7903225806451613, 'X[0] <= 0.586\\ngini = 0.397\\nsamples = 11\\nvalue = [8, 3]'),\n",
              " Text(0.16975154243788562, 0.7580645161290323, 'X[1] <= 0.137\\ngini = 0.48\\nsamples = 5\\nvalue = [2, 3]'),\n",
              " Text(0.16908454227113556, 0.7258064516129032, 'gini = 0.0\\nsamples = 2\\nvalue = [0, 2]'),\n",
              " Text(0.17041854260463565, 0.7258064516129032, 'X[7] <= 0.024\\ngini = 0.444\\nsamples = 3\\nvalue = [2, 1]'),\n",
              " Text(0.16975154243788562, 0.6935483870967742, 'gini = 0.0\\nsamples = 2\\nvalue = [2, 0]'),\n",
              " Text(0.17108554277138568, 0.6935483870967742, 'gini = 0.0\\nsamples = 1\\nvalue = [0, 1]'),\n",
              " Text(0.17108554277138568, 0.7580645161290323, 'gini = 0.0\\nsamples = 6\\nvalue = [6, 0]'),\n",
              " Text(0.26228934779889945, 0.8870967741935484, 'X[3] <= 0.013\\ngini = 0.495\\nsamples = 1129\\nvalue = [619, 510]'),\n",
              " Text(0.23276612264465565, 0.8548387096774194, 'X[1] <= 0.123\\ngini = 0.461\\nsamples = 720\\nvalue = [461, 259]'),\n",
              " Text(0.22067804735701185, 0.8225806451612904, 'X[24] <= 0.339\\ngini = 0.493\\nsamples = 432\\nvalue = [241, 191]'),\n",
              " Text(0.2142425379356345, 0.7903225806451613, 'X[2] <= 0.211\\ngini = 0.499\\nsamples = 394\\nvalue = [204, 190]'),\n",
              " Text(0.2033725195931299, 0.7580645161290323, 'X[25] <= 0.537\\ngini = 0.498\\nsamples = 324\\nvalue = [153, 171]'),\n",
              " Text(0.19405536101384024, 0.7258064516129032, 'X[23] <= 0.014\\ngini = 0.475\\nsamples = 219\\nvalue = [85, 134]'),\n",
              " Text(0.18867767216941805, 0.6935483870967742, 'X[2] <= 0.17\\ngini = 0.464\\nsamples = 210\\nvalue = [77, 133]'),\n",
              " Text(0.17992329498082374, 0.6612903225806451, 'X[1] <= 0.081\\ngini = 0.419\\nsamples = 147\\nvalue = [44, 103]'),\n",
              " Text(0.17225279306319827, 0.6290322580645161, 'X[2] <= 0.105\\ngini = 0.29\\nsamples = 74\\nvalue = [13, 61]'),\n",
              " Text(0.16908454227113556, 0.5967741935483871, 'X[38] <= 0.325\\ngini = 0.48\\nsamples = 15\\nvalue = [6, 9]'),\n",
              " Text(0.16841754210438553, 0.5645161290322581, 'gini = 0.0\\nsamples = 5\\nvalue = [0, 5]'),\n",
              " Text(0.16975154243788562, 0.5645161290322581, 'X[25] <= 0.439\\ngini = 0.48\\nsamples = 10\\nvalue = [6, 4]'),\n",
              " Text(0.16908454227113556, 0.532258064516129, 'X[25] <= 0.399\\ngini = 0.444\\nsamples = 6\\nvalue = [2, 4]'),\n",
              " Text(0.16841754210438553, 0.5, 'X[7] <= 0.017\\ngini = 0.444\\nsamples = 3\\nvalue = [2, 1]'),\n",
              " Text(0.16775054193763547, 0.46774193548387094, 'gini = 0.0\\nsamples = 2\\nvalue = [2, 0]'),\n",
              " Text(0.16908454227113556, 0.46774193548387094, 'gini = 0.0\\nsamples = 1\\nvalue = [0, 1]'),\n",
              " Text(0.16975154243788562, 0.5, 'gini = 0.0\\nsamples = 3\\nvalue = [0, 3]'),\n",
              " Text(0.17041854260463565, 0.532258064516129, 'gini = 0.0\\nsamples = 4\\nvalue = [4, 0]'),\n",
              " Text(0.17542104385526097, 0.5967741935483871, 'X[27] <= 0.054\\ngini = 0.209\\nsamples = 59\\nvalue = [7, 52]'),\n",
              " Text(0.1730865432716358, 0.5645161290322581, 'X[0] <= 0.854\\ngini = 0.168\\nsamples = 54\\nvalue = [5, 49]'),\n",
              " Text(0.17175254293813574, 0.532258064516129, 'X[1] <= 0.061\\ngini = 0.142\\nsamples = 52\\nvalue = [4, 48]'),\n",
              " Text(0.17108554277138568, 0.5, 'gini = 0.0\\nsamples = 26\\nvalue = [0, 26]'),\n",
              " Text(0.17241954310488578, 0.5, 'X[38] <= 0.209\\ngini = 0.26\\nsamples = 26\\nvalue = [4, 22]'),\n",
              " Text(0.17175254293813574, 0.46774193548387094, 'gini = 0.0\\nsamples = 1\\nvalue = [1, 0]'),\n",
              " Text(0.1730865432716358, 0.46774193548387094, 'X[24] <= 0.277\\ngini = 0.211\\nsamples = 25\\nvalue = [3, 22]'),\n",
              " Text(0.17175254293813574, 0.43548387096774194, 'X[26] <= 0.339\\ngini = 0.159\\nsamples = 23\\nvalue = [2, 21]'),\n",
              " Text(0.17108554277138568, 0.4032258064516129, 'gini = 0.0\\nsamples = 15\\nvalue = [0, 15]'),\n",
              " Text(0.17241954310488578, 0.4032258064516129, 'X[26] <= 0.35\\ngini = 0.375\\nsamples = 8\\nvalue = [2, 6]'),\n",
              " Text(0.17175254293813574, 0.3709677419354839, 'X[24] <= 0.125\\ngini = 0.444\\nsamples = 3\\nvalue = [2, 1]'),\n",
              " Text(0.17108554277138568, 0.3387096774193548, 'gini = 0.0\\nsamples = 1\\nvalue = [0, 1]'),\n",
              " Text(0.17241954310488578, 0.3387096774193548, 'gini = 0.0\\nsamples = 2\\nvalue = [2, 0]'),\n",
              " Text(0.1730865432716358, 0.3709677419354839, 'gini = 0.0\\nsamples = 5\\nvalue = [0, 5]'),\n",
              " Text(0.1744205436051359, 0.43548387096774194, 'X[2] <= 0.134\\ngini = 0.5\\nsamples = 2\\nvalue = [1, 1]'),\n",
              " Text(0.17375354343838587, 0.4032258064516129, 'gini = 0.0\\nsamples = 1\\nvalue = [0, 1]'),\n",
              " Text(0.17508754377188596, 0.4032258064516129, 'gini = 0.0\\nsamples = 1\\nvalue = [1, 0]'),\n",
              " Text(0.1744205436051359, 0.532258064516129, 'X[2] <= 0.125\\ngini = 0.5\\nsamples = 2\\nvalue = [1, 1]'),\n",
              " Text(0.17375354343838587, 0.5, 'gini = 0.0\\nsamples = 1\\nvalue = [0, 1]'),\n",
              " Text(0.17508754377188596, 0.5, 'gini = 0.0\\nsamples = 1\\nvalue = [1, 0]'),\n",
              " Text(0.1777555444388861, 0.5645161290322581, 'X[24] <= 0.3\\ngini = 0.48\\nsamples = 5\\nvalue = [2, 3]'),\n",
              " Text(0.17708854427213608, 0.532258064516129, 'X[1] <= 0.028\\ngini = 0.444\\nsamples = 3\\nvalue = [2, 1]'),\n",
              " Text(0.17642154410538602, 0.5, 'gini = 0.0\\nsamples = 1\\nvalue = [0, 1]'),\n",
              " Text(0.1777555444388861, 0.5, 'gini = 0.0\\nsamples = 2\\nvalue = [2, 0]'),\n",
              " Text(0.17842254460563614, 0.532258064516129, 'gini = 0.0\\nsamples = 2\\nvalue = [0, 2]'),\n",
              " Text(0.1875937968984492, 0.6290322580645161, 'X[2] <= 0.135\\ngini = 0.489\\nsamples = 73\\nvalue = [31, 42]'),\n",
              " Text(0.18342504585626146, 0.5967741935483871, 'X[24] <= 0.18\\ngini = 0.5\\nsamples = 50\\nvalue = [25, 25]'),\n",
              " Text(0.18042354510588626, 0.5645161290322581, 'X[25] <= 0.482\\ngini = 0.375\\nsamples = 12\\nvalue = [9, 3]'),\n",
              " Text(0.17975654493913623, 0.532258064516129, 'gini = 0.0\\nsamples = 1\\nvalue = [0, 1]'),\n",
              " Text(0.18109054527263632, 0.532258064516129, 'X[0] <= 0.797\\ngini = 0.298\\nsamples = 11\\nvalue = [9, 2]'),\n",
              " Text(0.18042354510588626, 0.5, 'gini = 0.0\\nsamples = 6\\nvalue = [6, 0]'),\n",
              " Text(0.18175754543938635, 0.5, 'X[0] <= 0.819\\ngini = 0.48\\nsamples = 5\\nvalue = [3, 2]'),\n",
              " Text(0.18109054527263632, 0.46774193548387094, 'gini = 0.0\\nsamples = 2\\nvalue = [0, 2]'),\n",
              " Text(0.1824245456061364, 0.46774193548387094, 'gini = 0.0\\nsamples = 3\\nvalue = [3, 0]'),\n",
              " Text(0.18642654660663666, 0.5645161290322581, 'X[26] <= 0.383\\ngini = 0.488\\nsamples = 38\\nvalue = [16, 22]'),\n",
              " Text(0.18509254627313657, 0.532258064516129, 'X[7] <= 0.015\\ngini = 0.451\\nsamples = 32\\nvalue = [11, 21]'),\n",
              " Text(0.18442554610638653, 0.5, 'X[38] <= 0.404\\ngini = 0.493\\nsamples = 25\\nvalue = [11, 14]'),\n",
              " Text(0.18375854593963648, 0.46774193548387094, 'X[24] <= 0.26\\ngini = 0.499\\nsamples = 21\\nvalue = [11, 10]'),\n",
              " Text(0.18309154577288644, 0.43548387096774194, 'X[26] <= 0.353\\ngini = 0.457\\nsamples = 17\\nvalue = [11, 6]'),\n",
              " Text(0.1824245456061364, 0.4032258064516129, 'X[25] <= 0.492\\ngini = 0.391\\nsamples = 15\\nvalue = [11, 4]'),\n",
              " Text(0.18109054527263632, 0.3709677419354839, 'X[0] <= 0.821\\ngini = 0.18\\nsamples = 10\\nvalue = [9, 1]'),\n",
              " Text(0.18042354510588626, 0.3387096774193548, 'gini = 0.0\\nsamples = 9\\nvalue = [9, 0]'),\n",
              " Text(0.18175754543938635, 0.3387096774193548, 'gini = 0.0\\nsamples = 1\\nvalue = [0, 1]'),\n",
              " Text(0.18375854593963648, 0.3709677419354839, 'X[24] <= 0.191\\ngini = 0.48\\nsamples = 5\\nvalue = [2, 3]'),\n",
              " Text(0.18309154577288644, 0.3387096774193548, 'X[0] <= 0.772\\ngini = 0.444\\nsamples = 3\\nvalue = [2, 1]'),\n",
              " Text(0.1824245456061364, 0.3064516129032258, 'gini = 0.0\\nsamples = 1\\nvalue = [0, 1]'),\n",
              " Text(0.18375854593963648, 0.3064516129032258, 'gini = 0.0\\nsamples = 2\\nvalue = [2, 0]'),\n",
              " Text(0.18442554610638653, 0.3387096774193548, 'gini = 0.0\\nsamples = 2\\nvalue = [0, 2]'),\n",
              " Text(0.18375854593963648, 0.4032258064516129, 'gini = 0.0\\nsamples = 2\\nvalue = [0, 2]'),\n",
              " Text(0.18442554610638653, 0.43548387096774194, 'gini = 0.0\\nsamples = 4\\nvalue = [0, 4]'),\n",
              " Text(0.18509254627313657, 0.46774193548387094, 'gini = 0.0\\nsamples = 4\\nvalue = [0, 4]'),\n",
              " Text(0.1857595464398866, 0.5, 'gini = 0.0\\nsamples = 7\\nvalue = [0, 7]'),\n",
              " Text(0.18776054694013675, 0.532258064516129, 'X[8] <= 0.048\\ngini = 0.278\\nsamples = 6\\nvalue = [5, 1]'),\n",
              " Text(0.1870935467733867, 0.5, 'gini = 0.0\\nsamples = 5\\nvalue = [5, 0]'),\n",
              " Text(0.18842754710688678, 0.5, 'gini = 0.0\\nsamples = 1\\nvalue = [0, 1]'),\n",
              " Text(0.191762547940637, 0.5967741935483871, 'X[0] <= 0.739\\ngini = 0.386\\nsamples = 23\\nvalue = [6, 17]'),\n",
              " Text(0.19109554777388693, 0.5645161290322581, 'X[26] <= 0.338\\ngini = 0.48\\nsamples = 15\\nvalue = [6, 9]'),\n",
              " Text(0.1904285476071369, 0.532258064516129, 'X[33] <= 0.932\\ngini = 0.48\\nsamples = 10\\nvalue = [6, 4]'),\n",
              " Text(0.18976154744038687, 0.5, 'gini = 0.0\\nsamples = 2\\nvalue = [0, 2]'),\n",
              " Text(0.19109554777388693, 0.5, 'X[24] <= 0.308\\ngini = 0.375\\nsamples = 8\\nvalue = [6, 2]'),\n",
              " Text(0.1904285476071369, 0.46774193548387094, 'X[7] <= 0.053\\ngini = 0.245\\nsamples = 7\\nvalue = [6, 1]'),\n",
              " Text(0.18976154744038687, 0.43548387096774194, 'gini = 0.0\\nsamples = 6\\nvalue = [6, 0]'),\n",
              " Text(0.19109554777388693, 0.43548387096774194, 'gini = 0.0\\nsamples = 1\\nvalue = [0, 1]'),\n",
              " Text(0.191762547940637, 0.46774193548387094, 'gini = 0.0\\nsamples = 1\\nvalue = [0, 1]'),\n",
              " Text(0.191762547940637, 0.532258064516129, 'gini = 0.0\\nsamples = 5\\nvalue = [0, 5]'),\n",
              " Text(0.19242954810738702, 0.5645161290322581, 'gini = 0.0\\nsamples = 8\\nvalue = [0, 8]'),\n",
              " Text(0.19743204935801234, 0.6612903225806451, 'X[0] <= 0.686\\ngini = 0.499\\nsamples = 63\\nvalue = [33, 30]'),\n",
              " Text(0.1937635484408871, 0.6290322580645161, 'X[0] <= 0.637\\ngini = 0.278\\nsamples = 12\\nvalue = [2, 10]'),\n",
              " Text(0.19309654827413708, 0.5967741935483871, 'gini = 0.0\\nsamples = 1\\nvalue = [1, 0]'),\n",
              " Text(0.19443054860763714, 0.5967741935483871, 'X[4] <= 0.051\\ngini = 0.165\\nsamples = 11\\nvalue = [1, 10]'),\n",
              " Text(0.1937635484408871, 0.5645161290322581, 'gini = 0.0\\nsamples = 10\\nvalue = [0, 10]'),\n",
              " Text(0.1950975487743872, 0.5645161290322581, 'gini = 0.0\\nsamples = 1\\nvalue = [1, 0]'),\n",
              " Text(0.20110055027513757, 0.6290322580645161, 'X[2] <= 0.208\\ngini = 0.477\\nsamples = 51\\nvalue = [31, 20]'),\n",
              " Text(0.20043355010838754, 0.5967741935483871, 'X[0] <= 0.754\\ngini = 0.44\\nsamples = 46\\nvalue = [31, 15]'),\n",
              " Text(0.19643154910788727, 0.5645161290322581, 'X[25] <= 0.327\\ngini = 0.375\\nsamples = 36\\nvalue = [27, 9]'),\n",
              " Text(0.19576454894113723, 0.532258064516129, 'gini = 0.0\\nsamples = 1\\nvalue = [0, 1]'),\n",
              " Text(0.19709854927463732, 0.532258064516129, 'X[25] <= 0.483\\ngini = 0.353\\nsamples = 35\\nvalue = [27, 8]'),\n",
              " Text(0.19443054860763714, 0.5, 'X[38] <= 0.356\\ngini = 0.236\\nsamples = 22\\nvalue = [19, 3]'),\n",
              " Text(0.1937635484408871, 0.46774193548387094, 'gini = 0.0\\nsamples = 11\\nvalue = [11, 0]'),\n",
              " Text(0.1950975487743872, 0.46774193548387094, 'X[38] <= 0.368\\ngini = 0.397\\nsamples = 11\\nvalue = [8, 3]'),\n",
              " Text(0.19443054860763714, 0.43548387096774194, 'gini = 0.0\\nsamples = 1\\nvalue = [0, 1]'),\n",
              " Text(0.19576454894113723, 0.43548387096774194, 'X[24] <= 0.258\\ngini = 0.32\\nsamples = 10\\nvalue = [8, 2]'),\n",
              " Text(0.1950975487743872, 0.4032258064516129, 'X[24] <= 0.193\\ngini = 0.48\\nsamples = 5\\nvalue = [3, 2]'),\n",
              " Text(0.19443054860763714, 0.3709677419354839, 'gini = 0.0\\nsamples = 2\\nvalue = [2, 0]'),\n",
              " Text(0.19576454894113723, 0.3709677419354839, 'X[24] <= 0.225\\ngini = 0.444\\nsamples = 3\\nvalue = [1, 2]'),\n",
              " Text(0.1950975487743872, 0.3387096774193548, 'gini = 0.5\\nsamples = 2\\nvalue = [1, 1]'),\n",
              " Text(0.19643154910788727, 0.3387096774193548, 'gini = 0.0\\nsamples = 1\\nvalue = [0, 1]'),\n",
              " Text(0.19643154910788727, 0.4032258064516129, 'gini = 0.0\\nsamples = 5\\nvalue = [5, 0]'),\n",
              " Text(0.19976654994163748, 0.5, 'X[1] <= 0.109\\ngini = 0.473\\nsamples = 13\\nvalue = [8, 5]'),\n",
              " Text(0.19909954977488745, 0.46774193548387094, 'X[27] <= 0.019\\ngini = 0.444\\nsamples = 12\\nvalue = [8, 4]'),\n",
              " Text(0.19843254960813742, 0.43548387096774194, 'X[24] <= 0.183\\ngini = 0.397\\nsamples = 11\\nvalue = [8, 3]'),\n",
              " Text(0.19776554944138736, 0.4032258064516129, 'gini = 0.0\\nsamples = 4\\nvalue = [4, 0]'),\n",
              " Text(0.19909954977488745, 0.4032258064516129, 'X[26] <= 0.318\\ngini = 0.49\\nsamples = 7\\nvalue = [4, 3]'),\n",
              " Text(0.19843254960813742, 0.3709677419354839, 'X[25] <= 0.492\\ngini = 0.444\\nsamples = 6\\nvalue = [4, 2]'),\n",
              " Text(0.19776554944138736, 0.3387096774193548, 'gini = 0.0\\nsamples = 1\\nvalue = [1, 0]'),\n",
              " Text(0.19909954977488745, 0.3387096774193548, 'X[24] <= 0.194\\ngini = 0.48\\nsamples = 5\\nvalue = [3, 2]'),\n",
              " Text(0.19843254960813742, 0.3064516129032258, 'gini = 0.5\\nsamples = 2\\nvalue = [1, 1]'),\n",
              " Text(0.19976654994163748, 0.3064516129032258, 'X[24] <= 0.225\\ngini = 0.444\\nsamples = 3\\nvalue = [2, 1]'),\n",
              " Text(0.19909954977488745, 0.27419354838709675, 'gini = 0.0\\nsamples = 1\\nvalue = [1, 0]'),\n",
              " Text(0.20043355010838754, 0.27419354838709675, 'gini = 0.5\\nsamples = 2\\nvalue = [1, 1]'),\n",
              " Text(0.19976654994163748, 0.3709677419354839, 'gini = 0.0\\nsamples = 1\\nvalue = [0, 1]'),\n",
              " Text(0.19976654994163748, 0.43548387096774194, 'gini = 0.0\\nsamples = 1\\nvalue = [0, 1]'),\n",
              " Text(0.20043355010838754, 0.46774193548387094, 'gini = 0.0\\nsamples = 1\\nvalue = [0, 1]'),\n",
              " Text(0.20443555110888778, 0.5645161290322581, 'X[38] <= 0.279\\ngini = 0.48\\nsamples = 10\\nvalue = [4, 6]'),\n",
              " Text(0.2031015507753877, 0.532258064516129, 'X[25] <= 0.423\\ngini = 0.48\\nsamples = 5\\nvalue = [3, 2]'),\n",
              " Text(0.20243455060863766, 0.5, 'X[26] <= 0.294\\ngini = 0.444\\nsamples = 3\\nvalue = [1, 2]'),\n",
              " Text(0.2017675504418876, 0.46774193548387094, 'gini = 0.0\\nsamples = 1\\nvalue = [1, 0]'),\n",
              " Text(0.2031015507753877, 0.46774193548387094, 'gini = 0.0\\nsamples = 2\\nvalue = [0, 2]'),\n",
              " Text(0.20376855094213772, 0.5, 'gini = 0.0\\nsamples = 2\\nvalue = [2, 0]'),\n",
              " Text(0.20576955144238787, 0.532258064516129, 'X[38] <= 0.362\\ngini = 0.32\\nsamples = 5\\nvalue = [1, 4]'),\n",
              " Text(0.2051025512756378, 0.5, 'gini = 0.0\\nsamples = 3\\nvalue = [0, 3]'),\n",
              " Text(0.2064365516091379, 0.5, 'X[1] <= 0.051\\ngini = 0.5\\nsamples = 2\\nvalue = [1, 1]'),\n",
              " Text(0.20576955144238787, 0.46774193548387094, 'gini = 0.0\\nsamples = 1\\nvalue = [0, 1]'),\n",
              " Text(0.20710355177588793, 0.46774193548387094, 'gini = 0.0\\nsamples = 1\\nvalue = [1, 0]'),\n",
              " Text(0.2017675504418876, 0.5967741935483871, 'gini = 0.0\\nsamples = 5\\nvalue = [0, 5]'),\n",
              " Text(0.19943304985826246, 0.6935483870967742, 'X[27] <= 0.031\\ngini = 0.198\\nsamples = 9\\nvalue = [8, 1]'),\n",
              " Text(0.19876604969151243, 0.6612903225806451, 'gini = 0.0\\nsamples = 8\\nvalue = [8, 0]'),\n",
              " Text(0.2001000500250125, 0.6612903225806451, 'gini = 0.0\\nsamples = 1\\nvalue = [0, 1]'),\n",
              " Text(0.21268967817241954, 0.7258064516129032, 'X[26] <= 0.274\\ngini = 0.456\\nsamples = 105\\nvalue = [68, 37]'),\n",
              " Text(0.2064365516091379, 0.6935483870967742, 'X[1] <= 0.043\\ngini = 0.316\\nsamples = 61\\nvalue = [49, 12]'),\n",
              " Text(0.20576955144238787, 0.6612903225806451, 'gini = 0.0\\nsamples = 2\\nvalue = [0, 2]'),\n",
              " Text(0.20710355177588793, 0.6612903225806451, 'X[38] <= 0.215\\ngini = 0.282\\nsamples = 59\\nvalue = [49, 10]'),\n",
              " Text(0.20576955144238787, 0.6290322580645161, 'X[2] <= 0.023\\ngini = 0.444\\nsamples = 3\\nvalue = [1, 2]'),\n",
              " Text(0.2051025512756378, 0.5967741935483871, 'gini = 0.0\\nsamples = 1\\nvalue = [1, 0]'),\n",
              " Text(0.2064365516091379, 0.5967741935483871, 'gini = 0.0\\nsamples = 2\\nvalue = [0, 2]'),\n",
              " Text(0.20843755210938802, 0.6290322580645161, 'X[2] <= 0.104\\ngini = 0.245\\nsamples = 56\\nvalue = [48, 8]'),\n",
              " Text(0.207770551942638, 0.5967741935483871, 'gini = 0.0\\nsamples = 24\\nvalue = [24, 0]'),\n",
              " Text(0.20910455227613806, 0.5967741935483871, 'X[38] <= 0.39\\ngini = 0.375\\nsamples = 32\\nvalue = [24, 8]'),\n",
              " Text(0.207770551942638, 0.5645161290322581, 'X[0] <= 0.771\\ngini = 0.236\\nsamples = 22\\nvalue = [19, 3]'),\n",
              " Text(0.20710355177588793, 0.532258064516129, 'gini = 0.0\\nsamples = 16\\nvalue = [16, 0]'),\n",
              " Text(0.20843755210938802, 0.532258064516129, 'X[24] <= 0.138\\ngini = 0.5\\nsamples = 6\\nvalue = [3, 3]'),\n",
              " Text(0.207770551942638, 0.5, 'gini = 0.0\\nsamples = 3\\nvalue = [3, 0]'),\n",
              " Text(0.20910455227613806, 0.5, 'gini = 0.0\\nsamples = 3\\nvalue = [0, 3]'),\n",
              " Text(0.21043855260963815, 0.5645161290322581, 'X[0] <= 0.737\\ngini = 0.5\\nsamples = 10\\nvalue = [5, 5]'),\n",
              " Text(0.20977155244288812, 0.532258064516129, 'gini = 0.0\\nsamples = 3\\nvalue = [0, 3]'),\n",
              " Text(0.2111055527763882, 0.532258064516129, 'X[4] <= 0.018\\ngini = 0.408\\nsamples = 7\\nvalue = [5, 2]'),\n",
              " Text(0.21043855260963815, 0.5, 'X[26] <= 0.268\\ngini = 0.278\\nsamples = 6\\nvalue = [5, 1]'),\n",
              " Text(0.20977155244288812, 0.46774193548387094, 'gini = 0.0\\nsamples = 5\\nvalue = [5, 0]'),\n",
              " Text(0.2111055527763882, 0.46774193548387094, 'gini = 0.0\\nsamples = 1\\nvalue = [0, 1]'),\n",
              " Text(0.21177255294313824, 0.5, 'gini = 0.0\\nsamples = 1\\nvalue = [0, 1]'),\n",
              " Text(0.21894280473570119, 0.6935483870967742, 'X[26] <= 0.322\\ngini = 0.491\\nsamples = 44\\nvalue = [19, 25]'),\n",
              " Text(0.2161080540270135, 0.6612903225806451, 'X[25] <= 0.568\\ngini = 0.444\\nsamples = 36\\nvalue = [12, 24]'),\n",
              " Text(0.21377355344338836, 0.6290322580645161, 'X[2] <= 0.078\\ngini = 0.498\\nsamples = 17\\nvalue = [9, 8]'),\n",
              " Text(0.21310655327663833, 0.5967741935483871, 'gini = 0.0\\nsamples = 3\\nvalue = [0, 3]'),\n",
              " Text(0.2144405536101384, 0.5967741935483871, 'X[38] <= 0.382\\ngini = 0.459\\nsamples = 14\\nvalue = [9, 5]'),\n",
              " Text(0.21310655327663833, 0.5645161290322581, 'X[0] <= 0.776\\ngini = 0.32\\nsamples = 10\\nvalue = [8, 2]'),\n",
              " Text(0.21243955310988827, 0.532258064516129, 'gini = 0.0\\nsamples = 4\\nvalue = [4, 0]'),\n",
              " Text(0.21377355344338836, 0.532258064516129, 'X[38] <= 0.356\\ngini = 0.444\\nsamples = 6\\nvalue = [4, 2]'),\n",
              " Text(0.21310655327663833, 0.5, 'X[38] <= 0.297\\ngini = 0.48\\nsamples = 5\\nvalue = [3, 2]'),\n",
              " Text(0.21243955310988827, 0.46774193548387094, 'gini = 0.5\\nsamples = 2\\nvalue = [1, 1]'),\n",
              " Text(0.21377355344338836, 0.46774193548387094, 'gini = 0.444\\nsamples = 3\\nvalue = [2, 1]'),\n",
              " Text(0.2144405536101384, 0.5, 'gini = 0.0\\nsamples = 1\\nvalue = [1, 0]'),\n",
              " Text(0.21577455394363848, 0.5645161290322581, 'X[2] <= 0.126\\ngini = 0.375\\nsamples = 4\\nvalue = [1, 3]'),\n",
              " Text(0.21510755377688845, 0.532258064516129, 'gini = 0.0\\nsamples = 1\\nvalue = [1, 0]'),\n",
              " Text(0.21644155411038854, 0.532258064516129, 'gini = 0.0\\nsamples = 3\\nvalue = [0, 3]'),\n",
              " Text(0.21844255461063866, 0.6290322580645161, 'X[26] <= 0.283\\ngini = 0.266\\nsamples = 19\\nvalue = [3, 16]'),\n",
              " Text(0.2177755544438886, 0.5967741935483871, 'X[2] <= 0.077\\ngini = 0.49\\nsamples = 7\\nvalue = [3, 4]'),\n",
              " Text(0.21710855427713857, 0.5645161290322581, 'gini = 0.0\\nsamples = 1\\nvalue = [1, 0]'),\n",
              " Text(0.21844255461063866, 0.5645161290322581, 'X[0] <= 0.777\\ngini = 0.444\\nsamples = 6\\nvalue = [2, 4]'),\n",
              " Text(0.2177755544438886, 0.532258064516129, 'X[38] <= 0.397\\ngini = 0.48\\nsamples = 5\\nvalue = [2, 3]'),\n",
              " Text(0.21710855427713857, 0.5, 'X[25] <= 0.593\\ngini = 0.375\\nsamples = 4\\nvalue = [1, 3]'),\n",
              " Text(0.21644155411038854, 0.46774193548387094, 'gini = 0.0\\nsamples = 2\\nvalue = [0, 2]'),\n",
              " Text(0.2177755544438886, 0.46774193548387094, 'gini = 0.5\\nsamples = 2\\nvalue = [1, 1]'),\n",
              " Text(0.21844255461063866, 0.5, 'gini = 0.0\\nsamples = 1\\nvalue = [1, 0]'),\n",
              " Text(0.2191095547773887, 0.532258064516129, 'gini = 0.0\\nsamples = 1\\nvalue = [0, 1]'),\n",
              " Text(0.2191095547773887, 0.5967741935483871, 'gini = 0.0\\nsamples = 12\\nvalue = [0, 12]'),\n",
              " Text(0.22177755544438887, 0.6612903225806451, 'X[25] <= 0.552\\ngini = 0.219\\nsamples = 8\\nvalue = [7, 1]'),\n",
              " Text(0.22111055527763882, 0.6290322580645161, 'X[2] <= 0.145\\ngini = 0.444\\nsamples = 3\\nvalue = [2, 1]'),\n",
              " Text(0.22044355511088878, 0.5967741935483871, 'gini = 0.0\\nsamples = 1\\nvalue = [0, 1]'),\n",
              " Text(0.22177755544438887, 0.5967741935483871, 'gini = 0.0\\nsamples = 2\\nvalue = [2, 0]'),\n",
              " Text(0.2224445556111389, 0.6290322580645161, 'gini = 0.0\\nsamples = 5\\nvalue = [5, 0]'),\n",
              " Text(0.22511255627813906, 0.7580645161290323, 'X[26] <= 0.241\\ngini = 0.396\\nsamples = 70\\nvalue = [51, 19]'),\n",
              " Text(0.22444555611138903, 0.7258064516129032, 'gini = 0.0\\nsamples = 2\\nvalue = [0, 2]'),\n",
              " Text(0.22577955644488912, 0.7258064516129032, 'X[27] <= 0.034\\ngini = 0.375\\nsamples = 68\\nvalue = [51, 17]'),\n",
              " Text(0.22511255627813906, 0.6935483870967742, 'X[2] <= 0.321\\ngini = 0.414\\nsamples = 58\\nvalue = [41, 17]'),\n",
              " Text(0.22444555611138903, 0.6612903225806451, 'X[26] <= 0.354\\ngini = 0.392\\nsamples = 56\\nvalue = [41, 15]'),\n",
              " Text(0.223778555944639, 0.6290322580645161, 'X[26] <= 0.347\\ngini = 0.435\\nsamples = 47\\nvalue = [32, 15]'),\n",
              " Text(0.22311155577788894, 0.5967741935483871, 'X[33] <= 0.942\\ngini = 0.411\\nsamples = 45\\nvalue = [32, 13]'),\n",
              " Text(0.2224445556111389, 0.5645161290322581, 'gini = 0.0\\nsamples = 2\\nvalue = [0, 2]'),\n",
              " Text(0.223778555944639, 0.5645161290322581, 'X[8] <= 0.049\\ngini = 0.381\\nsamples = 43\\nvalue = [32, 11]'),\n",
              " Text(0.22311155577788894, 0.532258064516129, 'X[26] <= 0.264\\ngini = 0.363\\nsamples = 42\\nvalue = [32, 10]'),\n",
              " Text(0.2224445556111389, 0.5, 'gini = 0.0\\nsamples = 7\\nvalue = [7, 0]'),\n",
              " Text(0.223778555944639, 0.5, 'X[0] <= 0.657\\ngini = 0.408\\nsamples = 35\\nvalue = [25, 10]'),\n",
              " Text(0.22311155577788894, 0.46774193548387094, 'gini = 0.0\\nsamples = 6\\nvalue = [6, 0]'),\n",
              " Text(0.22444555611138903, 0.46774193548387094, 'X[1] <= 0.05\\ngini = 0.452\\nsamples = 29\\nvalue = [19, 10]'),\n",
              " Text(0.2224445556111389, 0.43548387096774194, 'X[2] <= 0.254\\ngini = 0.278\\nsamples = 12\\nvalue = [10, 2]'),\n",
              " Text(0.22177755544438887, 0.4032258064516129, 'gini = 0.0\\nsamples = 7\\nvalue = [7, 0]'),\n",
              " Text(0.22311155577788894, 0.4032258064516129, 'X[25] <= 0.475\\ngini = 0.48\\nsamples = 5\\nvalue = [3, 2]'),\n",
              " Text(0.2224445556111389, 0.3709677419354839, 'X[25] <= 0.448\\ngini = 0.375\\nsamples = 4\\nvalue = [3, 1]'),\n",
              " Text(0.22177755544438887, 0.3387096774193548, 'gini = 0.444\\nsamples = 3\\nvalue = [2, 1]'),\n",
              " Text(0.22311155577788894, 0.3387096774193548, 'gini = 0.0\\nsamples = 1\\nvalue = [1, 0]'),\n",
              " Text(0.223778555944639, 0.3709677419354839, 'gini = 0.0\\nsamples = 1\\nvalue = [0, 1]'),\n",
              " Text(0.22644655661163915, 0.43548387096774194, 'X[38] <= 0.404\\ngini = 0.498\\nsamples = 17\\nvalue = [9, 8]'),\n",
              " Text(0.22577955644488912, 0.4032258064516129, 'X[1] <= 0.055\\ngini = 0.492\\nsamples = 16\\nvalue = [9, 7]'),\n",
              " Text(0.22511255627813906, 0.3709677419354839, 'gini = 0.0\\nsamples = 1\\nvalue = [0, 1]'),\n",
              " Text(0.22644655661163915, 0.3709677419354839, 'X[25] <= 0.441\\ngini = 0.48\\nsamples = 15\\nvalue = [9, 6]'),\n",
              " Text(0.22577955644488912, 0.3387096774193548, 'gini = 0.0\\nsamples = 3\\nvalue = [3, 0]'),\n",
              " Text(0.2271135567783892, 0.3387096774193548, 'X[38] <= 0.284\\ngini = 0.5\\nsamples = 12\\nvalue = [6, 6]'),\n",
              " Text(0.22644655661163915, 0.3064516129032258, 'gini = 0.0\\nsamples = 3\\nvalue = [0, 3]'),\n",
              " Text(0.22778055694513924, 0.3064516129032258, 'X[2] <= 0.272\\ngini = 0.444\\nsamples = 9\\nvalue = [6, 3]'),\n",
              " Text(0.2271135567783892, 0.27419354838709675, 'X[25] <= 0.59\\ngini = 0.375\\nsamples = 8\\nvalue = [6, 2]'),\n",
              " Text(0.22644655661163915, 0.24193548387096775, 'X[26] <= 0.318\\ngini = 0.245\\nsamples = 7\\nvalue = [6, 1]'),\n",
              " Text(0.22577955644488912, 0.20967741935483872, 'gini = 0.0\\nsamples = 5\\nvalue = [5, 0]'),\n",
              " Text(0.2271135567783892, 0.20967741935483872, 'X[25] <= 0.448\\ngini = 0.5\\nsamples = 2\\nvalue = [1, 1]'),\n",
              " Text(0.22644655661163915, 0.1774193548387097, 'gini = 0.0\\nsamples = 1\\nvalue = [1, 0]'),\n",
              " Text(0.22778055694513924, 0.1774193548387097, 'gini = 0.0\\nsamples = 1\\nvalue = [0, 1]'),\n",
              " Text(0.22778055694513924, 0.24193548387096775, 'gini = 0.0\\nsamples = 1\\nvalue = [0, 1]'),\n",
              " Text(0.22844755711188927, 0.27419354838709675, 'gini = 0.0\\nsamples = 1\\nvalue = [0, 1]'),\n",
              " Text(0.2271135567783892, 0.4032258064516129, 'gini = 0.0\\nsamples = 1\\nvalue = [0, 1]'),\n",
              " Text(0.22444555611138903, 0.532258064516129, 'gini = 0.0\\nsamples = 1\\nvalue = [0, 1]'),\n",
              " Text(0.22444555611138903, 0.5967741935483871, 'gini = 0.0\\nsamples = 2\\nvalue = [0, 2]'),\n",
              " Text(0.22511255627813906, 0.6290322580645161, 'gini = 0.0\\nsamples = 9\\nvalue = [9, 0]'),\n",
              " Text(0.22577955644488912, 0.6612903225806451, 'gini = 0.0\\nsamples = 2\\nvalue = [0, 2]'),\n",
              " Text(0.22644655661163915, 0.6935483870967742, 'gini = 0.0\\nsamples = 10\\nvalue = [10, 0]'),\n",
              " Text(0.2271135567783892, 0.7903225806451613, 'X[26] <= 0.481\\ngini = 0.051\\nsamples = 38\\nvalue = [37, 1]'),\n",
              " Text(0.22644655661163915, 0.7580645161290323, 'gini = 0.0\\nsamples = 37\\nvalue = [37, 0]'),\n",
              " Text(0.22778055694513924, 0.7580645161290323, 'gini = 0.0\\nsamples = 1\\nvalue = [0, 1]'),\n",
              " Text(0.24485419793229948, 0.8225806451612904, 'X[29] <= 0.012\\ngini = 0.361\\nsamples = 288\\nvalue = [220, 68]'),\n",
              " Text(0.23691533266633316, 0.7903225806451613, 'X[38] <= 0.279\\ngini = 0.314\\nsamples = 241\\nvalue = [194, 47]'),\n",
              " Text(0.22978155744538936, 0.7580645161290323, 'X[24] <= 0.341\\ngini = 0.091\\nsamples = 63\\nvalue = [60, 3]'),\n",
              " Text(0.22844755711188927, 0.7258064516129032, 'X[38] <= 0.097\\ngini = 0.038\\nsamples = 52\\nvalue = [51, 1]'),\n",
              " Text(0.22778055694513924, 0.6935483870967742, 'X[25] <= 0.523\\ngini = 0.117\\nsamples = 16\\nvalue = [15, 1]'),\n",
              " Text(0.2271135567783892, 0.6612903225806451, 'gini = 0.0\\nsamples = 13\\nvalue = [13, 0]'),\n",
              " Text(0.22844755711188927, 0.6612903225806451, 'X[24] <= 0.133\\ngini = 0.444\\nsamples = 3\\nvalue = [2, 1]'),\n",
              " Text(0.22778055694513924, 0.6290322580645161, 'gini = 0.0\\nsamples = 2\\nvalue = [2, 0]'),\n",
              " Text(0.22911455727863933, 0.6290322580645161, 'gini = 0.0\\nsamples = 1\\nvalue = [0, 1]'),\n",
              " Text(0.22911455727863933, 0.6935483870967742, 'gini = 0.0\\nsamples = 36\\nvalue = [36, 0]'),\n",
              " Text(0.23111555777888945, 0.7258064516129032, 'X[24] <= 0.383\\ngini = 0.298\\nsamples = 11\\nvalue = [9, 2]'),\n",
              " Text(0.2304485576121394, 0.6935483870967742, 'gini = 0.0\\nsamples = 2\\nvalue = [0, 2]'),\n",
              " Text(0.23178255794563948, 0.6935483870967742, 'gini = 0.0\\nsamples = 9\\nvalue = [9, 0]'),\n",
              " Text(0.24404910788727696, 0.7580645161290323, 'X[24] <= 0.265\\ngini = 0.372\\nsamples = 178\\nvalue = [134, 44]'),\n",
              " Text(0.2393071535767884, 0.7258064516129032, 'X[7] <= 0.015\\ngini = 0.424\\nsamples = 131\\nvalue = [91, 40]'),\n",
              " Text(0.2358262464565616, 0.6935483870967742, 'X[4] <= 0.065\\ngini = 0.37\\nsamples = 110\\nvalue = [83, 27]'),\n",
              " Text(0.23336668334167082, 0.6612903225806451, 'X[38] <= 0.339\\ngini = 0.334\\nsamples = 104\\nvalue = [82, 22]'),\n",
              " Text(0.2304485576121394, 0.6290322580645161, 'X[1] <= 0.204\\ngini = 0.5\\nsamples = 20\\nvalue = [10, 10]'),\n",
              " Text(0.22978155744538936, 0.5967741935483871, 'X[24] <= 0.099\\ngini = 0.484\\nsamples = 17\\nvalue = [7, 10]'),\n",
              " Text(0.22911455727863933, 0.5645161290322581, 'gini = 0.0\\nsamples = 4\\nvalue = [0, 4]'),\n",
              " Text(0.2304485576121394, 0.5645161290322581, 'X[8] <= 0.017\\ngini = 0.497\\nsamples = 13\\nvalue = [7, 6]'),\n",
              " Text(0.22978155744538936, 0.532258064516129, 'X[1] <= 0.129\\ngini = 0.42\\nsamples = 10\\nvalue = [7, 3]'),\n",
              " Text(0.22911455727863933, 0.5, 'gini = 0.0\\nsamples = 1\\nvalue = [0, 1]'),\n",
              " Text(0.2304485576121394, 0.5, 'X[25] <= 0.533\\ngini = 0.346\\nsamples = 9\\nvalue = [7, 2]'),\n",
              " Text(0.22978155744538936, 0.46774193548387094, 'gini = 0.0\\nsamples = 4\\nvalue = [4, 0]'),\n",
              " Text(0.23111555777888945, 0.46774193548387094, 'X[25] <= 0.561\\ngini = 0.48\\nsamples = 5\\nvalue = [3, 2]'),\n",
              " Text(0.2304485576121394, 0.43548387096774194, 'gini = 0.0\\nsamples = 1\\nvalue = [0, 1]'),\n",
              " Text(0.23178255794563948, 0.43548387096774194, 'X[25] <= 0.593\\ngini = 0.375\\nsamples = 4\\nvalue = [3, 1]'),\n",
              " Text(0.23111555777888945, 0.4032258064516129, 'gini = 0.0\\nsamples = 2\\nvalue = [2, 0]'),\n",
              " Text(0.23244955811238951, 0.4032258064516129, 'X[0] <= 0.75\\ngini = 0.5\\nsamples = 2\\nvalue = [1, 1]'),\n",
              " Text(0.23178255794563948, 0.3709677419354839, 'gini = 0.0\\nsamples = 1\\nvalue = [1, 0]'),\n",
              " Text(0.23311655827913957, 0.3709677419354839, 'gini = 0.0\\nsamples = 1\\nvalue = [0, 1]'),\n",
              " Text(0.23111555777888945, 0.532258064516129, 'gini = 0.0\\nsamples = 3\\nvalue = [0, 3]'),\n",
              " Text(0.23111555777888945, 0.5967741935483871, 'gini = 0.0\\nsamples = 3\\nvalue = [3, 0]'),\n",
              " Text(0.23628480907120228, 0.6290322580645161, 'X[2] <= 0.037\\ngini = 0.245\\nsamples = 84\\nvalue = [72, 12]'),\n",
              " Text(0.2337835584458896, 0.5967741935483871, 'X[38] <= 0.421\\ngini = 0.49\\nsamples = 7\\nvalue = [3, 4]'),\n",
              " Text(0.23311655827913957, 0.5645161290322581, 'X[25] <= 0.552\\ngini = 0.375\\nsamples = 4\\nvalue = [3, 1]'),\n",
              " Text(0.23244955811238951, 0.532258064516129, 'X[26] <= 0.349\\ngini = 0.5\\nsamples = 2\\nvalue = [1, 1]'),\n",
              " Text(0.23178255794563948, 0.5, 'gini = 0.0\\nsamples = 1\\nvalue = [0, 1]'),\n",
              " Text(0.23311655827913957, 0.5, 'gini = 0.0\\nsamples = 1\\nvalue = [1, 0]'),\n",
              " Text(0.2337835584458896, 0.532258064516129, 'gini = 0.0\\nsamples = 2\\nvalue = [2, 0]'),\n",
              " Text(0.23445055861263966, 0.5645161290322581, 'gini = 0.0\\nsamples = 3\\nvalue = [0, 3]'),\n",
              " Text(0.23878605969651492, 0.5967741935483871, 'X[24] <= 0.184\\ngini = 0.186\\nsamples = 77\\nvalue = [69, 8]'),\n",
              " Text(0.2364515591128898, 0.5645161290322581, 'X[0] <= 0.685\\ngini = 0.065\\nsamples = 59\\nvalue = [57, 2]'),\n",
              " Text(0.2351175587793897, 0.532258064516129, 'X[0] <= 0.625\\ngini = 0.5\\nsamples = 2\\nvalue = [1, 1]'),\n",
              " Text(0.23445055861263966, 0.5, 'gini = 0.0\\nsamples = 1\\nvalue = [1, 0]'),\n",
              " Text(0.23578455894613973, 0.5, 'gini = 0.0\\nsamples = 1\\nvalue = [0, 1]'),\n",
              " Text(0.23778555944638985, 0.532258064516129, 'X[38] <= 0.426\\ngini = 0.034\\nsamples = 57\\nvalue = [56, 1]'),\n",
              " Text(0.23711855927963982, 0.5, 'gini = 0.0\\nsamples = 51\\nvalue = [51, 0]'),\n",
              " Text(0.2384525596131399, 0.5, 'X[0] <= 0.775\\ngini = 0.278\\nsamples = 6\\nvalue = [5, 1]'),\n",
              " Text(0.23778555944638985, 0.46774193548387094, 'gini = 0.0\\nsamples = 4\\nvalue = [4, 0]'),\n",
              " Text(0.23911955977988994, 0.46774193548387094, 'X[25] <= 0.533\\ngini = 0.5\\nsamples = 2\\nvalue = [1, 1]'),\n",
              " Text(0.2384525596131399, 0.43548387096774194, 'gini = 0.0\\nsamples = 1\\nvalue = [1, 0]'),\n",
              " Text(0.23978655994664, 0.43548387096774194, 'gini = 0.0\\nsamples = 1\\nvalue = [0, 1]'),\n",
              " Text(0.24112056028014006, 0.5645161290322581, 'X[27] <= 0.016\\ngini = 0.444\\nsamples = 18\\nvalue = [12, 6]'),\n",
              " Text(0.24045356011339003, 0.532258064516129, 'X[38] <= 0.377\\ngini = 0.375\\nsamples = 16\\nvalue = [12, 4]'),\n",
              " Text(0.23978655994664, 0.5, 'gini = 0.0\\nsamples = 7\\nvalue = [7, 0]'),\n",
              " Text(0.24112056028014006, 0.5, 'X[0] <= 0.668\\ngini = 0.494\\nsamples = 9\\nvalue = [5, 4]'),\n",
              " Text(0.24045356011339003, 0.46774193548387094, 'gini = 0.0\\nsamples = 2\\nvalue = [0, 2]'),\n",
              " Text(0.24178756044689012, 0.46774193548387094, 'X[24] <= 0.188\\ngini = 0.408\\nsamples = 7\\nvalue = [5, 2]'),\n",
              " Text(0.24112056028014006, 0.43548387096774194, 'gini = 0.0\\nsamples = 1\\nvalue = [0, 1]'),\n",
              " Text(0.24245456061364015, 0.43548387096774194, 'X[0] <= 0.768\\ngini = 0.278\\nsamples = 6\\nvalue = [5, 1]'),\n",
              " Text(0.24178756044689012, 0.4032258064516129, 'gini = 0.0\\nsamples = 4\\nvalue = [4, 0]'),\n",
              " Text(0.24312156078039018, 0.4032258064516129, 'X[26] <= 0.321\\ngini = 0.5\\nsamples = 2\\nvalue = [1, 1]'),\n",
              " Text(0.24245456061364015, 0.3709677419354839, 'gini = 0.0\\nsamples = 1\\nvalue = [1, 0]'),\n",
              " Text(0.24378856094714024, 0.3709677419354839, 'gini = 0.0\\nsamples = 1\\nvalue = [0, 1]'),\n",
              " Text(0.24178756044689012, 0.532258064516129, 'gini = 0.0\\nsamples = 2\\nvalue = [0, 2]'),\n",
              " Text(0.2382858095714524, 0.6612903225806451, 'X[2] <= 0.05\\ngini = 0.278\\nsamples = 6\\nvalue = [1, 5]'),\n",
              " Text(0.23761880940470234, 0.6290322580645161, 'gini = 0.0\\nsamples = 1\\nvalue = [1, 0]'),\n",
              " Text(0.23895280973820243, 0.6290322580645161, 'gini = 0.0\\nsamples = 5\\nvalue = [0, 5]'),\n",
              " Text(0.24278806069701517, 0.6935483870967742, 'X[2] <= 0.068\\ngini = 0.472\\nsamples = 21\\nvalue = [8, 13]'),\n",
              " Text(0.24145406036351508, 0.6612903225806451, 'X[38] <= 0.404\\ngini = 0.42\\nsamples = 10\\nvalue = [7, 3]'),\n",
              " Text(0.24078706019676505, 0.6290322580645161, 'X[38] <= 0.293\\ngini = 0.219\\nsamples = 8\\nvalue = [7, 1]'),\n",
              " Text(0.24012006003001501, 0.5967741935483871, 'gini = 0.0\\nsamples = 1\\nvalue = [0, 1]'),\n",
              " Text(0.24145406036351508, 0.5967741935483871, 'gini = 0.0\\nsamples = 7\\nvalue = [7, 0]'),\n",
              " Text(0.24212106053026514, 0.6290322580645161, 'gini = 0.0\\nsamples = 2\\nvalue = [0, 2]'),\n",
              " Text(0.24412206103051526, 0.6612903225806451, 'X[0] <= 0.593\\ngini = 0.165\\nsamples = 11\\nvalue = [1, 10]'),\n",
              " Text(0.24345506086376523, 0.6290322580645161, 'gini = 0.0\\nsamples = 1\\nvalue = [1, 0]'),\n",
              " Text(0.2447890611972653, 0.6290322580645161, 'gini = 0.0\\nsamples = 10\\nvalue = [0, 10]'),\n",
              " Text(0.24879106219776556, 0.7258064516129032, 'X[27] <= 0.017\\ngini = 0.156\\nsamples = 47\\nvalue = [43, 4]'),\n",
              " Text(0.24745706186426547, 0.6935483870967742, 'X[38] <= 0.325\\ngini = 0.05\\nsamples = 39\\nvalue = [38, 1]'),\n",
              " Text(0.2467900616975154, 0.6612903225806451, 'X[38] <= 0.314\\ngini = 0.278\\nsamples = 6\\nvalue = [5, 1]'),\n",
              " Text(0.24612306153076538, 0.6290322580645161, 'gini = 0.0\\nsamples = 5\\nvalue = [5, 0]'),\n",
              " Text(0.24745706186426547, 0.6290322580645161, 'gini = 0.0\\nsamples = 1\\nvalue = [0, 1]'),\n",
              " Text(0.2481240620310155, 0.6612903225806451, 'gini = 0.0\\nsamples = 33\\nvalue = [33, 0]'),\n",
              " Text(0.25012506253126565, 0.6935483870967742, 'X[27] <= 0.059\\ngini = 0.469\\nsamples = 8\\nvalue = [5, 3]'),\n",
              " Text(0.2494580623645156, 0.6612903225806451, 'X[38] <= 0.421\\ngini = 0.375\\nsamples = 4\\nvalue = [1, 3]'),\n",
              " Text(0.24879106219776556, 0.6290322580645161, 'gini = 0.0\\nsamples = 3\\nvalue = [0, 3]'),\n",
              " Text(0.25012506253126565, 0.6290322580645161, 'gini = 0.0\\nsamples = 1\\nvalue = [1, 0]'),\n",
              " Text(0.2507920626980157, 0.6612903225806451, 'gini = 0.0\\nsamples = 4\\nvalue = [4, 0]'),\n",
              " Text(0.2527930631982658, 0.7903225806451613, 'X[2] <= 0.14\\ngini = 0.494\\nsamples = 47\\nvalue = [26, 21]'),\n",
              " Text(0.25212606303151575, 0.7580645161290323, 'gini = 0.0\\nsamples = 13\\nvalue = [0, 13]'),\n",
              " Text(0.25346006336501586, 0.7580645161290323, 'X[0] <= 0.569\\ngini = 0.36\\nsamples = 34\\nvalue = [26, 8]'),\n",
              " Text(0.2527930631982658, 0.7258064516129032, 'gini = 0.0\\nsamples = 16\\nvalue = [16, 0]'),\n",
              " Text(0.2541270635317659, 0.7258064516129032, 'X[38] <= 0.317\\ngini = 0.494\\nsamples = 18\\nvalue = [10, 8]'),\n",
              " Text(0.2527930631982658, 0.6935483870967742, 'X[27] <= 0.045\\ngini = 0.219\\nsamples = 8\\nvalue = [7, 1]'),\n",
              " Text(0.25212606303151575, 0.6612903225806451, 'gini = 0.0\\nsamples = 7\\nvalue = [7, 0]'),\n",
              " Text(0.25346006336501586, 0.6612903225806451, 'gini = 0.0\\nsamples = 1\\nvalue = [0, 1]'),\n",
              " Text(0.25546106386526596, 0.6935483870967742, 'X[26] <= 0.308\\ngini = 0.42\\nsamples = 10\\nvalue = [3, 7]'),\n",
              " Text(0.2547940636985159, 0.6612903225806451, 'gini = 0.0\\nsamples = 2\\nvalue = [2, 0]'),\n",
              " Text(0.256128064032016, 0.6612903225806451, 'X[26] <= 0.361\\ngini = 0.219\\nsamples = 8\\nvalue = [1, 7]'),\n",
              " Text(0.25546106386526596, 0.6290322580645161, 'gini = 0.0\\nsamples = 6\\nvalue = [0, 6]'),\n",
              " Text(0.2567950641987661, 0.6290322580645161, 'X[25] <= 0.278\\ngini = 0.5\\nsamples = 2\\nvalue = [1, 1]'),\n",
              " Text(0.256128064032016, 0.5967741935483871, 'gini = 0.0\\nsamples = 1\\nvalue = [0, 1]'),\n",
              " Text(0.2574620643655161, 0.5967741935483871, 'gini = 0.0\\nsamples = 1\\nvalue = [1, 0]'),\n",
              " Text(0.2918125729531432, 0.8548387096774194, 'X[1] <= 0.152\\ngini = 0.474\\nsamples = 409\\nvalue = [158, 251]'),\n",
              " Text(0.28176588294147076, 0.8225806451612904, 'X[2] <= 0.244\\ngini = 0.425\\nsamples = 317\\nvalue = [97, 220]'),\n",
              " Text(0.28109888277472067, 0.7903225806451613, 'X[25] <= 0.64\\ngini = 0.391\\nsamples = 300\\nvalue = [80, 220]'),\n",
              " Text(0.2797648824412206, 0.7580645161290323, 'X[7] <= 0.122\\ngini = 0.378\\nsamples = 293\\nvalue = [74, 219]'),\n",
              " Text(0.2790978822744706, 0.7258064516129032, 'X[2] <= 0.149\\ngini = 0.37\\nsamples = 290\\nvalue = [71, 219]'),\n",
              " Text(0.2696348174087044, 0.6935483870967742, 'X[3] <= 0.035\\ngini = 0.303\\nsamples = 172\\nvalue = [32, 140]'),\n",
              " Text(0.2627980656995164, 0.6612903225806451, 'X[27] <= 0.03\\ngini = 0.431\\nsamples = 51\\nvalue = [16, 35]'),\n",
              " Text(0.26013006503251623, 0.6290322580645161, 'X[0] <= 0.776\\ngini = 0.293\\nsamples = 28\\nvalue = [5, 23]'),\n",
              " Text(0.25879606469901617, 0.5967741935483871, 'X[7] <= 0.052\\ngini = 0.211\\nsamples = 25\\nvalue = [3, 22]'),\n",
              " Text(0.25812906453226614, 0.5645161290322581, 'X[38] <= 0.229\\ngini = 0.153\\nsamples = 24\\nvalue = [2, 22]'),\n",
              " Text(0.2574620643655161, 0.532258064516129, 'gini = 0.0\\nsamples = 1\\nvalue = [1, 0]'),\n",
              " Text(0.25879606469901617, 0.532258064516129, 'X[24] <= 0.102\\ngini = 0.083\\nsamples = 23\\nvalue = [1, 22]'),\n",
              " Text(0.25812906453226614, 0.5, 'X[1] <= 0.109\\ngini = 0.444\\nsamples = 3\\nvalue = [1, 2]'),\n",
              " Text(0.2574620643655161, 0.46774193548387094, 'gini = 0.0\\nsamples = 1\\nvalue = [1, 0]'),\n",
              " Text(0.25879606469901617, 0.46774193548387094, 'gini = 0.0\\nsamples = 2\\nvalue = [0, 2]'),\n",
              " Text(0.2594630648657662, 0.5, 'gini = 0.0\\nsamples = 20\\nvalue = [0, 20]'),\n",
              " Text(0.2594630648657662, 0.5645161290322581, 'gini = 0.0\\nsamples = 1\\nvalue = [1, 0]'),\n",
              " Text(0.26146406536601635, 0.5967741935483871, 'X[25] <= 0.593\\ngini = 0.444\\nsamples = 3\\nvalue = [2, 1]'),\n",
              " Text(0.2607970651992663, 0.5645161290322581, 'gini = 0.0\\nsamples = 2\\nvalue = [2, 0]'),\n",
              " Text(0.2621310655327664, 0.5645161290322581, 'gini = 0.0\\nsamples = 1\\nvalue = [0, 1]'),\n",
              " Text(0.2654660663665166, 0.6290322580645161, 'X[26] <= 0.262\\ngini = 0.499\\nsamples = 23\\nvalue = [11, 12]'),\n",
              " Text(0.26413206603301653, 0.5967741935483871, 'X[27] <= 0.032\\ngini = 0.245\\nsamples = 7\\nvalue = [1, 6]'),\n",
              " Text(0.26346506586626645, 0.5645161290322581, 'gini = 0.0\\nsamples = 1\\nvalue = [1, 0]'),\n",
              " Text(0.26479906619976656, 0.5645161290322581, 'gini = 0.0\\nsamples = 6\\nvalue = [0, 6]'),\n",
              " Text(0.26680006670001666, 0.5967741935483871, 'X[0] <= 0.784\\ngini = 0.469\\nsamples = 16\\nvalue = [10, 6]'),\n",
              " Text(0.2661330665332666, 0.5645161290322581, 'X[4] <= 0.034\\ngini = 0.355\\nsamples = 13\\nvalue = [10, 3]'),\n",
              " Text(0.26479906619976656, 0.532258064516129, 'X[24] <= 0.1\\ngini = 0.18\\nsamples = 10\\nvalue = [9, 1]'),\n",
              " Text(0.26413206603301653, 0.5, 'gini = 0.0\\nsamples = 1\\nvalue = [0, 1]'),\n",
              " Text(0.2654660663665166, 0.5, 'gini = 0.0\\nsamples = 9\\nvalue = [9, 0]'),\n",
              " Text(0.2674670668667667, 0.532258064516129, 'X[0] <= 0.762\\ngini = 0.444\\nsamples = 3\\nvalue = [1, 2]'),\n",
              " Text(0.26680006670001666, 0.5, 'gini = 0.0\\nsamples = 2\\nvalue = [0, 2]'),\n",
              " Text(0.2681340670335168, 0.5, 'gini = 0.0\\nsamples = 1\\nvalue = [1, 0]'),\n",
              " Text(0.2674670668667667, 0.5645161290322581, 'gini = 0.0\\nsamples = 3\\nvalue = [0, 3]'),\n",
              " Text(0.2764715691178923, 0.6612903225806451, 'X[24] <= 0.084\\ngini = 0.229\\nsamples = 121\\nvalue = [16, 105]'),\n",
              " Text(0.27580456895114225, 0.6290322580645161, 'gini = 0.0\\nsamples = 2\\nvalue = [2, 0]'),\n",
              " Text(0.2771385692846423, 0.6290322580645161, 'X[0] <= 0.878\\ngini = 0.208\\nsamples = 119\\nvalue = [14, 105]'),\n",
              " Text(0.2764715691178923, 0.5967741935483871, 'X[23] <= 0.044\\ngini = 0.196\\nsamples = 118\\nvalue = [13, 105]'),\n",
              " Text(0.27580456895114225, 0.5645161290322581, 'X[3] <= 0.047\\ngini = 0.184\\nsamples = 117\\nvalue = [12, 105]'),\n",
              " Text(0.272136068034017, 0.532258064516129, 'X[38] <= 0.396\\ngini = 0.291\\nsamples = 51\\nvalue = [9, 42]'),\n",
              " Text(0.26946806736701684, 0.5, 'X[24] <= 0.255\\ngini = 0.413\\nsamples = 24\\nvalue = [7, 17]'),\n",
              " Text(0.2688010672002668, 0.46774193548387094, 'X[2] <= 0.128\\ngini = 0.484\\nsamples = 17\\nvalue = [7, 10]'),\n",
              " Text(0.2674670668667667, 0.43548387096774194, 'X[0] <= 0.73\\ngini = 0.375\\nsamples = 12\\nvalue = [3, 9]'),\n",
              " Text(0.26680006670001666, 0.4032258064516129, 'gini = 0.0\\nsamples = 5\\nvalue = [0, 5]'),\n",
              " Text(0.2681340670335168, 0.4032258064516129, 'X[24] <= 0.154\\ngini = 0.49\\nsamples = 7\\nvalue = [3, 4]'),\n",
              " Text(0.2674670668667667, 0.3709677419354839, 'gini = 0.0\\nsamples = 3\\nvalue = [0, 3]'),\n",
              " Text(0.2688010672002668, 0.3709677419354839, 'X[2] <= 0.106\\ngini = 0.375\\nsamples = 4\\nvalue = [3, 1]'),\n",
              " Text(0.2681340670335168, 0.3387096774193548, 'gini = 0.0\\nsamples = 3\\nvalue = [3, 0]'),\n",
              " Text(0.26946806736701684, 0.3387096774193548, 'gini = 0.0\\nsamples = 1\\nvalue = [0, 1]'),\n",
              " Text(0.27013506753376687, 0.43548387096774194, 'X[24] <= 0.161\\ngini = 0.32\\nsamples = 5\\nvalue = [4, 1]'),\n",
              " Text(0.26946806736701684, 0.4032258064516129, 'gini = 0.0\\nsamples = 1\\nvalue = [0, 1]'),\n",
              " Text(0.2708020677005169, 0.4032258064516129, 'gini = 0.0\\nsamples = 4\\nvalue = [4, 0]'),\n",
              " Text(0.27013506753376687, 0.46774193548387094, 'gini = 0.0\\nsamples = 7\\nvalue = [0, 7]'),\n",
              " Text(0.2748040687010172, 0.5, 'X[24] <= 0.229\\ngini = 0.137\\nsamples = 27\\nvalue = [2, 25]'),\n",
              " Text(0.2734700683675171, 0.46774193548387094, 'X[24] <= 0.148\\ngini = 0.08\\nsamples = 24\\nvalue = [1, 23]'),\n",
              " Text(0.27280306820076705, 0.43548387096774194, 'X[24] <= 0.129\\ngini = 0.32\\nsamples = 5\\nvalue = [1, 4]'),\n",
              " Text(0.272136068034017, 0.4032258064516129, 'gini = 0.0\\nsamples = 3\\nvalue = [0, 3]'),\n",
              " Text(0.2734700683675171, 0.4032258064516129, 'X[0] <= 0.732\\ngini = 0.5\\nsamples = 2\\nvalue = [1, 1]'),\n",
              " Text(0.27280306820076705, 0.3709677419354839, 'gini = 0.0\\nsamples = 1\\nvalue = [1, 0]'),\n",
              " Text(0.2741370685342671, 0.3709677419354839, 'gini = 0.0\\nsamples = 1\\nvalue = [0, 1]'),\n",
              " Text(0.2741370685342671, 0.43548387096774194, 'gini = 0.0\\nsamples = 19\\nvalue = [0, 19]'),\n",
              " Text(0.27613806903451726, 0.46774193548387094, 'X[24] <= 0.24\\ngini = 0.444\\nsamples = 3\\nvalue = [1, 2]'),\n",
              " Text(0.27547106886776723, 0.43548387096774194, 'gini = 0.0\\nsamples = 1\\nvalue = [1, 0]'),\n",
              " Text(0.2768050692012673, 0.43548387096774194, 'gini = 0.0\\nsamples = 2\\nvalue = [0, 2]'),\n",
              " Text(0.2794730698682675, 0.532258064516129, 'X[38] <= 0.421\\ngini = 0.087\\nsamples = 66\\nvalue = [3, 63]'),\n",
              " Text(0.27813906953476736, 0.5, 'X[1] <= 0.129\\ngini = 0.061\\nsamples = 64\\nvalue = [2, 62]'),\n",
              " Text(0.2774720693680173, 0.46774193548387094, 'gini = 0.0\\nsamples = 50\\nvalue = [0, 50]'),\n",
              " Text(0.27880606970151744, 0.46774193548387094, 'X[1] <= 0.135\\ngini = 0.245\\nsamples = 14\\nvalue = [2, 12]'),\n",
              " Text(0.27813906953476736, 0.43548387096774194, 'gini = 0.0\\nsamples = 1\\nvalue = [1, 0]'),\n",
              " Text(0.2794730698682675, 0.43548387096774194, 'X[2] <= 0.105\\ngini = 0.142\\nsamples = 13\\nvalue = [1, 12]'),\n",
              " Text(0.27880606970151744, 0.4032258064516129, 'gini = 0.0\\nsamples = 9\\nvalue = [0, 9]'),\n",
              " Text(0.2801400700350175, 0.4032258064516129, 'X[25] <= 0.393\\ngini = 0.375\\nsamples = 4\\nvalue = [1, 3]'),\n",
              " Text(0.2794730698682675, 0.3709677419354839, 'gini = 0.0\\nsamples = 3\\nvalue = [0, 3]'),\n",
              " Text(0.28080707020176754, 0.3709677419354839, 'gini = 0.0\\nsamples = 1\\nvalue = [1, 0]'),\n",
              " Text(0.28080707020176754, 0.5, 'X[26] <= 0.333\\ngini = 0.5\\nsamples = 2\\nvalue = [1, 1]'),\n",
              " Text(0.2801400700350175, 0.46774193548387094, 'gini = 0.0\\nsamples = 1\\nvalue = [1, 0]'),\n",
              " Text(0.28147407036851757, 0.46774193548387094, 'gini = 0.0\\nsamples = 1\\nvalue = [0, 1]'),\n",
              " Text(0.2771385692846423, 0.5645161290322581, 'gini = 0.0\\nsamples = 1\\nvalue = [1, 0]'),\n",
              " Text(0.27780556945139234, 0.5967741935483871, 'gini = 0.0\\nsamples = 1\\nvalue = [1, 0]'),\n",
              " Text(0.2885609471402368, 0.6935483870967742, 'X[1] <= 0.045\\ngini = 0.443\\nsamples = 118\\nvalue = [39, 79]'),\n",
              " ...]"
            ]
          },
          "metadata": {},
          "execution_count": 19
        },
        {
          "output_type": "display_data",
          "data": {
            "text/plain": [
              "<Figure size 432x288 with 1 Axes>"
            ],
            "image/png": "[encoded data removed]"
          },
          "metadata": {
            "needs_background": "light"
          }
        }
      ]
    },
    {
      "cell_type": "markdown",
      "source": [
        "We now test on the test data."
      ],
      "metadata": {
        "id": "gftf5lun5-NF"
      }
    },
    {
      "cell_type": "code",
      "source": [
        "from torchmetrics import AveragePrecision\n",
        "crit = torch.nn.BCELoss()\n",
        "alt_crit = AveragePrecision(task=\"binary\")\n",
        "\n",
        "outputs = clf.predict(test_dat)\n",
        "print('BCE loss', crit(torch.from_numpy(outputs).float(), torch.tensor(test_labels).float()))\n",
        "print('AUPRC loss', alt_crit(torch.from_numpy(outputs).float(), torch.tensor(test_labels).float()))\n"
      ],
      "metadata": {
        "colab": {
          "base_uri": "https://localhost:8080/"
        },
        "id": "y__RUSugHm1Q",
        "outputId": "e154c270-f1df-4d35-8b5d-98ddbb9093f0"
      },
      "execution_count": 21,
      "outputs": [
        {
          "output_type": "stream",
          "name": "stdout",
          "text": [
            "BCE loss tensor(33.1623)\n",
            "AUPRC loss tensor(0.5805)\n"
          ]
        }
      ]
    },
    {
      "cell_type": "markdown",
      "source": [
        "As expected, performed significantly worse."
      ],
      "metadata": {
        "id": "szIxRMHo6YXo"
      }
    },
    {
      "cell_type": "markdown",
      "source": [
        "## Graph Transformer"
      ],
      "metadata": {
        "id": "RJRJp8kc6doM"
      }
    },
    {
      "cell_type": "markdown",
      "source": [
        "Graph transformers (what I interpreted as a transformer model) are a form of GNN which implements transformer architecture to the graphical layers of the model. Transformers have been used successfully in the NLP environment, which its emphasis on Attention-based layers which give certain weighting to each word of a sentence. This lends itself smoothly to graphs, where we may choose to implement attention masks onto the graphs we deal with too."
      ],
      "metadata": {
        "id": "gFnjDr7X6hCw"
      }
    },
    {
      "cell_type": "markdown",
      "source": [
        "Again for the sake of simplicity and concept demonstration, we use the exact same model as we did in the GNN, but this time replace the GCNConv layers with TransformerConv layers."
      ],
      "metadata": {
        "id": "hiJCCjU57NeQ"
      }
    },
    {
      "cell_type": "code",
      "source": [
        "from models import TransformerNet\n",
        "from training import train_model\n",
        "transformer = TransformerNet()\n",
        "train_losses, val_losses, auprc_losses = train_model(transformer, train_loader, val_loader, epochs=50, lr=0.0001)"
      ],
      "metadata": {
        "id": "Dw_xwy1pNM2k",
        "colab": {
          "base_uri": "https://localhost:8080/"
        },
        "outputId": "e8d050b3-cc0c-4cd2-9d35-f12b908dedf1"
      },
      "execution_count": 11,
      "outputs": [
        {
          "output_type": "stream",
          "name": "stdout",
          "text": [
            "epoch: 5, training_loss: 19.212601780033797, val_loss: 19.345852148532867, val_AUPRC: 0.711090224981308\n",
            "epoch: 10, training_loss: 18.295339888377157, val_loss: 18.412288820743562, val_AUPRC: 0.744139564037323\n",
            "epoch: 15, training_loss: 17.34660413325262, val_loss: 17.33292859494686, val_AUPRC: 0.7805059880018235\n",
            "epoch: 20, training_loss: 16.328273334949138, val_loss: 16.950899904966356, val_AUPRC: 0.8095509931445122\n",
            "epoch: 25, training_loss: 15.807315001813627, val_loss: 16.287682217359542, val_AUPRC: 0.8187234386801719\n",
            "epoch: 30, training_loss: 15.509164831621185, val_loss: 16.460654777288436, val_AUPRC: 0.8213659420609474\n",
            "epoch: 35, training_loss: 15.2891038171679, val_loss: 15.452400028705597, val_AUPRC: 0.8295243009924889\n",
            "epoch: 40, training_loss: 15.026474087143974, val_loss: 15.18999175131321, val_AUPRC: 0.8424325540661812\n",
            "epoch: 45, training_loss: 14.846353903520022, val_loss: 15.170052734017371, val_AUPRC: 0.8344717100262642\n",
            "epoch: 50, training_loss: 14.71506685415189, val_loss: 15.047774988412858, val_AUPRC: 0.8496326848864555\n"
          ]
        }
      ]
    },
    {
      "cell_type": "code",
      "source": [
        "import matplotlib.pyplot as plt\n",
        "epochs = range(len(train_losses))\n",
        "plt.plot(epochs, train_losses)\n",
        "plt.plot(epochs, val_losses)\n",
        "plt.xlabel(\"Epoch\")\n",
        "plt.ylabel(\"BCE loss\")\n",
        "plt.legend(['Train Loss', 'Validation_loss'])"
      ],
      "metadata": {
        "colab": {
          "base_uri": "https://localhost:8080/",
          "height": 296
        },
        "id": "wL-XcTovTb92",
        "outputId": "5784c9e8-89c4-498b-d69a-8d1485232ca7"
      },
      "execution_count": 14,
      "outputs": [
        {
          "output_type": "execute_result",
          "data": {
            "text/plain": [
              "<matplotlib.legend.Legend at 0x7f5f5c9669d0>"
            ]
          },
          "metadata": {},
          "execution_count": 14
        },
        {
          "output_type": "display_data",
          "data": {
            "text/plain": [
              "<Figure size 432x288 with 1 Axes>"
            ],
            "image/png": "[encoded data removed]"
          },
          "metadata": {
            "needs_background": "light"
          }
        }
      ]
    },
    {
      "cell_type": "code",
      "source": [
        "plt.plot(epochs, auprc_losses)\n",
        "plt.xlabel(\"Epoch\")\n",
        "plt.ylabel(\"AUPRC loss\")"
      ],
      "metadata": {
        "colab": {
          "base_uri": "https://localhost:8080/",
          "height": 296
        },
        "id": "ZxeoHexnV1FX",
        "outputId": "6c545559-40e9-4704-b954-e7c50b3927ae"
      },
      "execution_count": 15,
      "outputs": [
        {
          "output_type": "execute_result",
          "data": {
            "text/plain": [
              "Text(0, 0.5, 'AUPRC loss')"
            ]
          },
          "metadata": {},
          "execution_count": 15
        },
        {
          "output_type": "display_data",
          "data": {
            "text/plain": [
              "<Figure size 432x288 with 1 Axes>"
            ],
            "image/png": "[encoded data removed]"
          },
          "metadata": {
            "needs_background": "light"
          }
        }
      ]
    },
    {
      "cell_type": "markdown",
      "source": [
        "Finally we test on the test data."
      ],
      "metadata": {
        "id": "cHSEb-Bq8BQW"
      }
    },
    {
      "cell_type": "code",
      "source": [
        "from training import val_data_epoch\n",
        "test_loss, test_auprc_loss = val_data_epoch(transformer, test_loader)\n",
        "print('test loss of GNN:', test_loss)\n",
        "print('AUPRC loss of GNN:', test_auprc_loss)"
      ],
      "metadata": {
        "colab": {
          "base_uri": "https://localhost:8080/"
        },
        "id": "6W5X6bK0V50Y",
        "outputId": "f0347fce-24ac-400a-affc-da04c579e176"
      },
      "execution_count": 17,
      "outputs": [
        {
          "output_type": "stream",
          "name": "stdout",
          "text": [
            "test loss of GNN: 15.268518921732902\n",
            "AUPRC loss of GNN: 0.8366920739412308\n"
          ]
        }
      ]
    },
    {
      "cell_type": "markdown",
      "source": [
        "Which has made a small improvement on the previous GNN."
      ],
      "metadata": {
        "id": "SKzoJeqlQqCX"
      }
    }
  ],
  "metadata": {
    "colab": {
      "provenance": []
    },
    "kernelspec": {
      "display_name": "Python 3",
      "name": "python3"
    }
  },
  "nbformat": 4,
  "nbformat_minor": 0
}